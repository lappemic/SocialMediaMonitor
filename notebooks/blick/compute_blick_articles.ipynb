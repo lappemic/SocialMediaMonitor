{
 "cells": [
  {
   "cell_type": "code",
   "execution_count": 1,
   "metadata": {},
   "outputs": [],
   "source": [
    "import pandas as pd, numpy as np\n",
    "from selenium import webdriver\n",
    "from selenium.webdriver.common.keys import Keys\n",
    "from selenium.webdriver import ChromeOptions\n",
    "from selenium.webdriver.support.ui import WebDriverWait\n",
    "from selenium.webdriver.common.by import By\n",
    "from selenium.webdriver.support import expected_conditions as EC\n",
    "from selenium.common.exceptions import TimeoutException\n",
    "from datetime import timedelta\n",
    "import pathlib\n",
    "import math\n",
    "import time"
   ]
  },
  {
   "cell_type": "markdown",
   "metadata": {},
   "source": [
    "Getting articles from blick"
   ]
  },
  {
   "cell_type": "code",
   "execution_count": 25,
   "metadata": {},
   "outputs": [
    {
     "name": "stdout",
     "output_type": "stream",
     "text": [
      "https://welcome.onelog.ch/?client=iq6JnMWfrXwdLWQxNSPzlCChFaMI2O9B&interaction=JkBQnSBp-Vymd-dC0B6ua&login_case=email_only&source=DIR_undefined_Blick-DE&lang=de&reason=no_session&brand_theme=&email_hint=&email_force=&connection=&gacid=GA1.2.1347602171.1652193747#/\n",
      "https://welcome.onelog.ch/?client=iq6JnMWfrXwdLWQxNSPzlCChFaMI2O9B&interaction=JkBQnSBp-Vymd-dC0B6ua&login_case=email_only&source=DIR_undefined_Blick-DE&lang=de&reason=no_session&brand_theme=&email_hint=&email_force=&connection=&gacid=GA1.2.1347602171.1652193747#/login?email=michael.lappert%40lu.ch&is_onepager=true\n",
      "https://welcome.onelog.ch/?client=iq6JnMWfrXwdLWQxNSPzlCChFaMI2O9B&interaction=JkBQnSBp-Vymd-dC0B6ua&login_case=email_only&source=DIR_undefined_Blick-DE&lang=de&reason=no_session&brand_theme=&email_hint=&email_force=&connection=&gacid=GA1.2.1347602171.1652193747#/login?email=michael.lappert%40lu.ch&is_onepager=true\n"
     ]
    }
   ],
   "source": [
    "# Configure the Chrome webdriver\n",
    "driver = webdriver.Chrome('/Users/michaellappert/Desktop/SocialMediaMonitor/references/chromedriver') # Needs to be adjusted client independently\n",
    "\n",
    "# Go to blick login page\n",
    "driver.get('https://welcome.onelog.ch/?client=iq6JnMWfrXwdLWQxNSPzlCChFaMI2O9B&interaction=JkBQnSBp-Vymd-dC0B6ua&login_case=email_only&source=DIR_undefined_Blick-DE&lang=de&reason=no_session&brand_theme=&email_hint=&email_force=&connection=&gacid=GA1.2.1347602171.1652193747#/')\n",
    "time.sleep(3)\n",
    "print(driver.current_url)\n",
    "\n",
    "# clickable = driver.find_element_by_class_name('col-form-label')\n",
    "# clickable.click()\n",
    "# time.sleep(3)\n",
    "# print(driver.current_url)\n",
    "\n",
    "#Complete the username and password fields\n",
    "username = driver.find_element_by_name('email')\n",
    "username.clear()\n",
    "username.send_keys('michael.lappert@lu.ch')\n",
    "driver.find_element_by_id('first-step-continue-btn').click()\n",
    "time.sleep(2)\n",
    "print(driver.current_url)\n",
    "\n",
    "# fill in password\n",
    "password = driver.find_element_by_name('password')\n",
    "password.clear()\n",
    "password.send_keys('Nidry0-jyjsad-gobhop')\n",
    "time.sleep(1)\n",
    "driver.find_element_by_id('native-login-btn').click() # always results in a login error\n",
    "print(driver.current_url)"
   ]
  },
  {
   "cell_type": "code",
   "execution_count": null,
   "metadata": {},
   "outputs": [],
   "source": []
  }
 ],
 "metadata": {
  "interpreter": {
   "hash": "b7fa4ad54c13063743e0b795d31fc2de87e75f8ad2886ded3b88bc7649886d47"
  },
  "kernelspec": {
   "display_name": "Python 3.10.4 ('socialMediaMonitor')",
   "language": "python",
   "name": "python3"
  },
  "language_info": {
   "codemirror_mode": {
    "name": "ipython",
    "version": 3
   },
   "file_extension": ".py",
   "mimetype": "text/x-python",
   "name": "python",
   "nbconvert_exporter": "python",
   "pygments_lexer": "ipython3",
   "version": "3.10.4"
  },
  "orig_nbformat": 4
 },
 "nbformat": 4,
 "nbformat_minor": 2
}
