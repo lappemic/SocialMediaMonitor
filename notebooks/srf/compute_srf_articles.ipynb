{
 "cells": [
  {
   "cell_type": "code",
   "execution_count": 1,
   "metadata": {},
   "outputs": [],
   "source": [
    "# -------------------------------------------------------------------------------- NOTEBOOK-CELL: CODE\n",
    "# -*- coding: utf-8 -*-\n",
    "import pandas as pd, numpy as np\n",
    "from selenium import webdriver\n",
    "from selenium.webdriver.common.keys import Keys\n",
    "from selenium.webdriver import ChromeOptions\n",
    "from datetime import timedelta\n",
    "import math\n",
    "import time"
   ]
  },
  {
   "cell_type": "markdown",
   "metadata": {},
   "source": [
    "Compute articles related to Luzern and save them in a temporary csv file"
   ]
  },
  {
   "cell_type": "code",
   "execution_count": null,
   "metadata": {},
   "outputs": [],
   "source": [
    "# get the date of the moste recent article in the merged dataset\n",
    "liverss_and_coms_path = pathlib.Path.home() / 'SocialMediaMonitor' / 'data' / 'raw' / 'liverss_and_coms_srf.csv'\n",
    "liverss_and_coms_df = pd.read_csv(liverss_and_coms_path)\n",
    "liverss_and_coms_df['published'] = pd.to_datetime(liverss_and_coms_df['published'])\n",
    "most_recent_article = liverss_and_coms_df['published'].max()\n",
    "\n",
    "# get the ids of the articles that are less than 15 days old\n",
    "recent_date = pd.to_datetime(most_recent_article-timedelta(15), utc=True)\n",
    "mask = (liverss_and_coms_df['published'] > recent_date) # & (total_df['is_com_or_sub'] == 'sub')\n",
    "recent_articles = liverss_and_coms_df.loc[mask]\n",
    "recent_articles_id = recent_articles['id'].tolist()\n",
    "#print(recent_articles_id[:3])\n",
    "print(len(recent_articles_id))"
   ]
  }
 ],
 "metadata": {
  "interpreter": {
   "hash": "b7fa4ad54c13063743e0b795d31fc2de87e75f8ad2886ded3b88bc7649886d47"
  },
  "kernelspec": {
   "display_name": "Python 3.10.4 ('socialMediaMonitor')",
   "language": "python",
   "name": "python3"
  },
  "language_info": {
   "codemirror_mode": {
    "name": "ipython",
    "version": 3
   },
   "file_extension": ".py",
   "mimetype": "text/x-python",
   "name": "python",
   "nbconvert_exporter": "python",
   "pygments_lexer": "ipython3",
   "version": "3.10.4"
  },
  "orig_nbformat": 4
 },
 "nbformat": 4,
 "nbformat_minor": 2
}
