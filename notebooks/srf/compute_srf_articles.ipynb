{
 "cells": [
  {
   "cell_type": "code",
   "execution_count": 48,
   "metadata": {},
   "outputs": [],
   "source": [
    "# -------------------------------------------------------------------------------- NOTEBOOK-CELL: CODE\n",
    "# -*- coding: utf-8 -*-\n",
    "import pandas as pd, numpy as np\n",
    "from selenium import webdriver\n",
    "from selenium.webdriver.common.keys import Keys\n",
    "from selenium.webdriver import ChromeOptions\n",
    "from selenium.webdriver.support.ui import WebDriverWait\n",
    "from selenium.webdriver.common.by import By\n",
    "from selenium.webdriver.support import expected_conditions as EC\n",
    "from selenium.common.exceptions import TimeoutException\n",
    "from datetime import timedelta\n",
    "import pathlib\n",
    "import math\n",
    "import time"
   ]
  },
  {
   "cell_type": "markdown",
   "metadata": {},
   "source": [
    "Compute articles related to Luzern and save them in a temporary csv file"
   ]
  },
  {
   "cell_type": "code",
   "execution_count": 49,
   "metadata": {},
   "outputs": [],
   "source": [
    "# get the date of the moste recent article in the merged dataset\n",
    "# liverss_and_coms_path = pathlib.Path.home() / 'Desktop' / 'SocialMediaMonitor' / 'data' / 'raw' / 'liverss_and_coms_srf.csv'\n",
    "# liverss_and_coms_df = pd.read_csv(liverss_and_coms_path)\n",
    "# liverss_and_coms_df['published'] = pd.to_datetime(liverss_and_coms_df['published'])\n",
    "# most_recent_article = liverss_and_coms_df['published'].max()\n",
    "\n",
    "# get the ids of the articles that are less than 15 days old\n",
    "# recent_date = pd.to_datetime(most_recent_article-timedelta(15), utc=True)\n",
    "# mask = (liverss_and_coms_df['published'] > recent_date) # & (total_df['is_com_or_sub'] == 'sub')\n",
    "# recent_articles = liverss_and_coms_df.loc[mask]\n",
    "# recent_articles_id = recent_articles['id'].tolist()\n",
    "# #print(recent_articles_id[:3])\n",
    "# print(len(recent_articles_id))"
   ]
  },
  {
   "cell_type": "code",
   "execution_count": 50,
   "metadata": {},
   "outputs": [
    {
     "name": "stdout",
     "output_type": "stream",
     "text": [
      "LOAD MORE ARTICLES button clicked\n"
     ]
    }
   ],
   "source": [
    "# Configure the Chrome webdriver\n",
    "driver = webdriver.Chrome('/users/michaellappert/Downloads/chromedriver') # Needs to be adjusted client independently\n",
    "\n",
    "# get the articles of srf related to Luzern\n",
    "driver.get('https://www.srf.ch/suche?q=Luzern&date=all&page=0')\n",
    "\n",
    "for _ in range(1): # change this number if more articles need to be loaded but 2 pages should be sufficient\n",
    "    try:\n",
    "        WebDriverWait(driver, 5).until(EC.element_to_be_clickable((By.CLASS_NAME, \"button.button--white.button--mixed-case.button--link-text-color.button--no-spacing.show-more-bar__child.show-more-bar__child--grow.js-show-more-button\"))).click()\n",
    "        print(\"LOAD MORE ARTICLES button clicked\")\n",
    "    except TimeoutException:\n",
    "        print(\"No more LOAD MORE ARTICLES button to be clicked\")\n",
    "        break\n",
    "\n"
   ]
  },
  {
   "cell_type": "code",
   "execution_count": 53,
   "metadata": {},
   "outputs": [],
   "source": [
    "# get headers of the articles\n",
    "headers = driver.find_elements_by_class_name('teaser__kicker-text')\n",
    "headers_list = [header.get_attribute('innerHTML') for header in headers]\n",
    "headers_list = headers_list[3:]\n",
    "# print(headers_list)"
   ]
  },
  {
   "cell_type": "code",
   "execution_count": 54,
   "metadata": {},
   "outputs": [],
   "source": [
    "# get the titles of the articles\n",
    "titles = driver.find_elements_by_class_name('teaser__title')\n",
    "titles_list = [title.get_attribute('innerHTML') for title in titles]\n",
    "# print('1. print statement:')\n",
    "# print(titles_list)\n",
    "titles_list = titles_list[10:]\n",
    "# print('2. print statement:')\n",
    "# print(titles_list)"
   ]
  },
  {
   "cell_type": "code",
   "execution_count": 55,
   "metadata": {},
   "outputs": [],
   "source": [
    "# get the summaries of the articles\n",
    "summaries = driver.find_elements_by_class_name('teaser__lead.teaser__lead--search')\n",
    "summaries_list = [summary.get_attribute('innerHTML') for summary in summaries]\n",
    "summaries_list = [summary.replace('<em>', '').replace('</em>', '').replace('<span>', '').replace('</span>', '') for summary in summaries_list]\n",
    "# print(summaries_list)"
   ]
  },
  {
   "cell_type": "code",
   "execution_count": 56,
   "metadata": {},
   "outputs": [],
   "source": [
    "# get the links of the articles\n",
    "links = driver.find_elements_by_class_name('teaser__main.teaser__main--search')\n",
    "links_list = [link.get_attribute('href') for link in links]\n",
    "# print(links_list)"
   ]
  },
  {
   "cell_type": "code",
   "execution_count": 57,
   "metadata": {},
   "outputs": [
    {
     "name": "stdout",
     "output_type": "stream",
     "text": [
      "[Timestamp('2022-05-08 18:35:00+0000', tz='UTC'), Timestamp('2022-05-01 18:40:00+0000', tz='UTC'), Timestamp('2022-04-26 16:39:00+0000', tz='UTC')]\n"
     ]
    }
   ],
   "source": [
    "dates = driver.find_elements_by_class_name('teaser-info.teaser-info--with-updates.teaser-info--uppercase')\n",
    "dates_list = [date.get_attribute('innerHTML') for date in dates]\n",
    "dates_list_formatted = []\n",
    "# print(dates_list)\n",
    "for date in dates_list:\n",
    "    try:\n",
    "        curr_date = pd.to_datetime(date, format='%d.%m.%Y, %H:%M Uhr', utc=True)\n",
    "    except ValueError:\n",
    "        print(f'Date triggered ValueError: {date}')\n",
    "        curr_date = str(date)[0:12] + '00:' + str(date)[15:17]\n",
    "        curr_date = pd.to_datetime(curr_date, format='%d.%m.%Y, %H:%M', utc=True)\n",
    "    dates_list_formatted.append(curr_date)\n",
    "\n",
    "print(dates_list_formatted[:3])\n",
    "driver.quit()"
   ]
  },
  {
   "cell_type": "code",
   "execution_count": 58,
   "metadata": {},
   "outputs": [],
   "source": [
    "articles = pd.DataFrame(list(zip(headers_list, titles_list, dates_list_formatted, summaries_list, \n",
    "                                 links_list, links_list)), \n",
    "                        columns =['header', 'title', 'published', 'summary', 'link', 'id'])\n",
    "articles['is_com_or_sub'] = 'sub'"
   ]
  },
  {
   "cell_type": "code",
   "execution_count": 59,
   "metadata": {},
   "outputs": [
    {
     "data": {
      "text/html": [
       "<div>\n",
       "<style scoped>\n",
       "    .dataframe tbody tr th:only-of-type {\n",
       "        vertical-align: middle;\n",
       "    }\n",
       "\n",
       "    .dataframe tbody tr th {\n",
       "        vertical-align: top;\n",
       "    }\n",
       "\n",
       "    .dataframe thead th {\n",
       "        text-align: right;\n",
       "    }\n",
       "</style>\n",
       "<table border=\"1\" class=\"dataframe\">\n",
       "  <thead>\n",
       "    <tr style=\"text-align: right;\">\n",
       "      <th></th>\n",
       "      <th>header</th>\n",
       "      <th>title</th>\n",
       "      <th>published</th>\n",
       "      <th>summary</th>\n",
       "      <th>link</th>\n",
       "      <th>id</th>\n",
       "      <th>is_com_or_sub</th>\n",
       "    </tr>\n",
       "  </thead>\n",
       "  <tbody>\n",
       "    <tr>\n",
       "      <th>0</th>\n",
       "      <td>4:0-Heimsieg gegen Servette</td>\n",
       "      <td>Luzern mindestens in der Barrage und nur noch ...</td>\n",
       "      <td>2022-05-08 18:35:00+00:00</td>\n",
       "      <td>Luzern gewinnt in der 33. SL-Runde gegen Serve...</td>\n",
       "      <td>https://www.srf.ch/sport/fussball/super-league...</td>\n",
       "      <td>https://www.srf.ch/sport/fussball/super-league...</td>\n",
       "      <td>sub</td>\n",
       "    </tr>\n",
       "    <tr>\n",
       "      <th>1</th>\n",
       "      <td>3:0-Heimsieg gegen Lausanne</td>\n",
       "      <td>Luzern feiert wichtigen Erfolg im Abstiegskampf</td>\n",
       "      <td>2022-05-01 18:40:00+00:00</td>\n",
       "      <td>Der FC Luzern feiert im Kellerduell der 32. Ru...</td>\n",
       "      <td>https://www.srf.ch/sport/fussball/super-league...</td>\n",
       "      <td>https://www.srf.ch/sport/fussball/super-league...</td>\n",
       "      <td>sub</td>\n",
       "    </tr>\n",
       "    <tr>\n",
       "      <th>2</th>\n",
       "      <td>Abstimmung Stadt Luzern</td>\n",
       "      <td>Braucht Luzern mehr zusammenhängende Velorouten?</td>\n",
       "      <td>2022-04-26 16:39:00+00:00</td>\n",
       "      <td>… unsichere Stellen für Velofahrende in der St...</td>\n",
       "      <td>https://www.srf.ch/news/abstimmungen-15-mai-20...</td>\n",
       "      <td>https://www.srf.ch/news/abstimmungen-15-mai-20...</td>\n",
       "      <td>sub</td>\n",
       "    </tr>\n",
       "    <tr>\n",
       "      <th>3</th>\n",
       "      <td>Mitten in den Playoffs</td>\n",
       "      <td>Perkovac bei Kriens-Luzern per sofort freigest...</td>\n",
       "      <td>2022-04-26 14:45:00+00:00</td>\n",
       "      <td>Kriens-Luzern trennt sich per sofort und nicht...</td>\n",
       "      <td>https://www.srf.ch/sport/mehr-sport/handball/m...</td>\n",
       "      <td>https://www.srf.ch/sport/mehr-sport/handball/m...</td>\n",
       "      <td>sub</td>\n",
       "    </tr>\n",
       "    <tr>\n",
       "      <th>4</th>\n",
       "      <td>Basel schlägt Luzern mit 3:0</td>\n",
       "      <td>Spielverderber Stocker: FCZ-Meisterparty muss ...</td>\n",
       "      <td>2022-04-24 18:37:00+00:00</td>\n",
       "      <td>Basel schlägt Luzern in der 31. Runde der Supe...</td>\n",
       "      <td>https://www.srf.ch/sport/fussball/super-league...</td>\n",
       "      <td>https://www.srf.ch/sport/fussball/super-league...</td>\n",
       "      <td>sub</td>\n",
       "    </tr>\n",
       "  </tbody>\n",
       "</table>\n",
       "</div>"
      ],
      "text/plain": [
       "                         header  \\\n",
       "0   4:0-Heimsieg gegen Servette   \n",
       "1   3:0-Heimsieg gegen Lausanne   \n",
       "2       Abstimmung Stadt Luzern   \n",
       "3        Mitten in den Playoffs   \n",
       "4  Basel schlägt Luzern mit 3:0   \n",
       "\n",
       "                                               title  \\\n",
       "0  Luzern mindestens in der Barrage und nur noch ...   \n",
       "1    Luzern feiert wichtigen Erfolg im Abstiegskampf   \n",
       "2   Braucht Luzern mehr zusammenhängende Velorouten?   \n",
       "3  Perkovac bei Kriens-Luzern per sofort freigest...   \n",
       "4  Spielverderber Stocker: FCZ-Meisterparty muss ...   \n",
       "\n",
       "                  published  \\\n",
       "0 2022-05-08 18:35:00+00:00   \n",
       "1 2022-05-01 18:40:00+00:00   \n",
       "2 2022-04-26 16:39:00+00:00   \n",
       "3 2022-04-26 14:45:00+00:00   \n",
       "4 2022-04-24 18:37:00+00:00   \n",
       "\n",
       "                                             summary  \\\n",
       "0  Luzern gewinnt in der 33. SL-Runde gegen Serve...   \n",
       "1  Der FC Luzern feiert im Kellerduell der 32. Ru...   \n",
       "2  … unsichere Stellen für Velofahrende in der St...   \n",
       "3  Kriens-Luzern trennt sich per sofort und nicht...   \n",
       "4  Basel schlägt Luzern in der 31. Runde der Supe...   \n",
       "\n",
       "                                                link  \\\n",
       "0  https://www.srf.ch/sport/fussball/super-league...   \n",
       "1  https://www.srf.ch/sport/fussball/super-league...   \n",
       "2  https://www.srf.ch/news/abstimmungen-15-mai-20...   \n",
       "3  https://www.srf.ch/sport/mehr-sport/handball/m...   \n",
       "4  https://www.srf.ch/sport/fussball/super-league...   \n",
       "\n",
       "                                                  id is_com_or_sub  \n",
       "0  https://www.srf.ch/sport/fussball/super-league...           sub  \n",
       "1  https://www.srf.ch/sport/fussball/super-league...           sub  \n",
       "2  https://www.srf.ch/news/abstimmungen-15-mai-20...           sub  \n",
       "3  https://www.srf.ch/sport/mehr-sport/handball/m...           sub  \n",
       "4  https://www.srf.ch/sport/fussball/super-league...           sub  "
      ]
     },
     "execution_count": 59,
     "metadata": {},
     "output_type": "execute_result"
    }
   ],
   "source": [
    "# Compute a Pandas dataframe to write into srf articles csv file\n",
    "liverss_df = articles # articles[articles['date'] > last_sub_check] -> last_sub_check not done yet\n",
    "liverss_df.head()\n"
   ]
  },
  {
   "cell_type": "code",
   "execution_count": 60,
   "metadata": {},
   "outputs": [],
   "source": [
    "# Saving generated data to raw data folder\n",
    "liverss_df.to_csv(r'~/Desktop/SocialMediaMonitor/data/raw/liverss_srf.csv', index = False)"
   ]
  },
  {
   "cell_type": "code",
   "execution_count": null,
   "metadata": {},
   "outputs": [],
   "source": []
  }
 ],
 "metadata": {
  "interpreter": {
   "hash": "b7fa4ad54c13063743e0b795d31fc2de87e75f8ad2886ded3b88bc7649886d47"
  },
  "kernelspec": {
   "display_name": "Python 3.10.4 ('socialMediaMonitor')",
   "language": "python",
   "name": "python3"
  },
  "language_info": {
   "codemirror_mode": {
    "name": "ipython",
    "version": 3
   },
   "file_extension": ".py",
   "mimetype": "text/x-python",
   "name": "python",
   "nbconvert_exporter": "python",
   "pygments_lexer": "ipython3",
   "version": "3.10.4"
  },
  "orig_nbformat": 4
 },
 "nbformat": 4,
 "nbformat_minor": 2
}
