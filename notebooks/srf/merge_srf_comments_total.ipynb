{
 "cells": [
  {
   "cell_type": "code",
   "execution_count": 1,
   "metadata": {},
   "outputs": [],
   "source": [
    "import pandas as pd\n",
    "import numpy as np\n",
    "import csv\n",
    "import pathlib\n",
    "\n",
    "# Importing the config file\n",
    "# import sys\n",
    "# sys.path.append('~/Desktop/SocialMediaMonitor/src')\n",
    "# import config"
   ]
  },
  {
   "cell_type": "markdown",
   "metadata": {},
   "source": [
    "Merging the newly aquired comments to the permanent liverss and coms csv"
   ]
  },
  {
   "cell_type": "code",
   "execution_count": 6,
   "metadata": {},
   "outputs": [
    {
     "name": "stdout",
     "output_type": "stream",
     "text": [
      "liverss_comments_df:\n",
      "author           object\n",
      "published        object\n",
      "summary          object\n",
      "id               object\n",
      "is_com_or_sub    object\n",
      "link             object\n",
      "dtype: object\n",
      "Index(['author', 'published', 'summary', 'id', 'is_com_or_sub', 'link'], dtype='object') \n",
      " ----------------------------------------\n",
      "liverss_and_coms_df:\n",
      "header           object\n",
      "title            object\n",
      "published        object\n",
      "summary          object\n",
      "link             object\n",
      "id               object\n",
      "is_com_or_sub    object\n",
      "author           object\n",
      "dtype: object\n",
      "Index(['header', 'title', 'published', 'summary', 'link', 'id',\n",
      "       'is_com_or_sub', 'author'],\n",
      "      dtype='object')\n"
     ]
    }
   ],
   "source": [
    "# Getting the newly aquired comments and mergeing them with the existing comments on outer join\n",
    "liverss_comments_path = pathlib.Path.home() / 'Desktop' / 'SocialMediaMonitor' / 'data' / 'raw' / 'liverss_comments_srf.csv'\n",
    "liverss_comments_df = pd.read_csv(liverss_comments_path)\n",
    "# liverss_comments_df['id'] = liverss_comments_df['id'].astype(float)\n",
    "print('liverss_comments_df:')\n",
    "print(liverss_comments_df.dtypes)\n",
    "print(liverss_comments_df.columns, '\\n', '----' * 10)\n",
    "\n",
    "liverss_and_coms_path = pathlib.Path.home() / 'Desktop' / 'SocialMediaMonitor' / 'data' / 'raw' / 'liverss_and_coms_srf.csv'\n",
    "liverss_and_coms_df = pd.read_csv(liverss_and_coms_path)\n",
    "# liverss_and_coms_df['id'] = liverss_and_coms_df['id'].astype(float)\n",
    "liverss_and_coms_df['author'] = liverss_and_coms_df['author'].astype(str)\n",
    "print('liverss_and_coms_df:')\n",
    "print(liverss_and_coms_df.dtypes)\n",
    "print(liverss_and_coms_df.columns)"
   ]
  },
  {
   "cell_type": "code",
   "execution_count": 7,
   "metadata": {},
   "outputs": [
    {
     "name": "stdout",
     "output_type": "stream",
     "text": [
      "(26, 8)\n",
      "(93, 8)\n"
     ]
    }
   ],
   "source": [
    "# Merge the two dataframes on outer join\n",
    "liverss_and_coms_merged_df = pd.merge(liverss_comments_df, liverss_and_coms_df, how='outer',\n",
    "                                      on=['id', 'is_com_or_sub', 'link', 'summary', 'author', 'published'])\n",
    "print(liverss_and_coms_df.shape)\n",
    "print(liverss_and_coms_merged_df.shape)\n"
   ]
  },
  {
   "cell_type": "code",
   "execution_count": 8,
   "metadata": {},
   "outputs": [],
   "source": [
    "# save newly merged dataframe to csv\n",
    "liverss_and_coms_merged_df.to_csv(liverss_and_coms_path, index=False)"
   ]
  },
  {
   "cell_type": "code",
   "execution_count": null,
   "metadata": {},
   "outputs": [],
   "source": []
  }
 ],
 "metadata": {
  "interpreter": {
   "hash": "b7fa4ad54c13063743e0b795d31fc2de87e75f8ad2886ded3b88bc7649886d47"
  },
  "kernelspec": {
   "display_name": "Python 3.10.4 ('socialMediaMonitor')",
   "language": "python",
   "name": "python3"
  },
  "language_info": {
   "codemirror_mode": {
    "name": "ipython",
    "version": 3
   },
   "file_extension": ".py",
   "mimetype": "text/x-python",
   "name": "python",
   "nbconvert_exporter": "python",
   "pygments_lexer": "ipython3",
   "version": "3.10.4"
  },
  "orig_nbformat": 4
 },
 "nbformat": 4,
 "nbformat_minor": 2
}
