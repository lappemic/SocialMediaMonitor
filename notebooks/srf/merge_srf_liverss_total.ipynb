{
 "cells": [
  {
   "cell_type": "code",
   "execution_count": 62,
   "metadata": {},
   "outputs": [],
   "source": [
    "import pandas as pd\n",
    "import numpy as np\n",
    "import csv\n",
    "import pathlib\n",
    "\n",
    "# Importing the config file\n",
    "# import sys\n",
    "# sys.path.append('~/Desktop/SocialMediaMonitor/src')\n",
    "# import config"
   ]
  },
  {
   "cell_type": "markdown",
   "metadata": {},
   "source": [
    "Append newly aquired articles of srf to permanent articles and coms of srf"
   ]
  },
  {
   "cell_type": "code",
   "execution_count": 63,
   "metadata": {},
   "outputs": [],
   "source": [
    "liverss_path = pathlib.Path.home() / 'Desktop' / 'SocialMediaMonitor' / 'data' / 'raw' / 'liverss_srf.csv'\n",
    "liverss_df = pd.read_csv(liverss_path)\n",
    "\n",
    "liverss_and_coms_path = pathlib.Path.home() / 'Desktop' / 'SocialMediaMonitor' / 'data' / 'raw' / 'liverss_and_coms_srf.csv'\n",
    "try:\n",
    "    livress_and_coms_df = pd.read_csv(liverss_and_coms_path)\n",
    "except:\n",
    "    liverss_and_coms_csv = open(liverss_and_coms_path, 'w', newline = '')\n",
    "    liverss_and_coms_obj = csv.writer(liverss_and_coms_csv)\n",
    "    liverss_csv = open(liverss_path, 'r', newline = '')\n",
    "    liverss_obj = csv.reader(liverss_csv)\n",
    "    liverss_and_coms_obj.writerows(liverss_obj)\n",
    "    liverss_and_coms_csv.close()\n",
    "    liverss_csv.close()\n",
    "    liverss_and_coms_df = pd.read_csv(liverss_and_coms_path)"
   ]
  },
  {
   "cell_type": "code",
   "execution_count": 64,
   "metadata": {},
   "outputs": [
    {
     "name": "stdout",
     "output_type": "stream",
     "text": [
      "(26, 8)\n"
     ]
    }
   ],
   "source": [
    "# Merge the two dataframes on outer join\n",
    "liverss_and_coms_merged_df = pd.merge(liverss_and_coms_df, liverss_df, how='outer',\n",
    "                                      on=['header', 'title', 'id', 'link', 'summary', 'published',\n",
    "                                          'is_com_or_sub', 'author'])\n",
    "print(liverss_and_coms_merged_df.shape)\n"
   ]
  },
  {
   "cell_type": "code",
   "execution_count": 65,
   "metadata": {},
   "outputs": [
    {
     "data": {
      "text/html": [
       "<div>\n",
       "<style scoped>\n",
       "    .dataframe tbody tr th:only-of-type {\n",
       "        vertical-align: middle;\n",
       "    }\n",
       "\n",
       "    .dataframe tbody tr th {\n",
       "        vertical-align: top;\n",
       "    }\n",
       "\n",
       "    .dataframe thead th {\n",
       "        text-align: right;\n",
       "    }\n",
       "</style>\n",
       "<table border=\"1\" class=\"dataframe\">\n",
       "  <thead>\n",
       "    <tr style=\"text-align: right;\">\n",
       "      <th></th>\n",
       "      <th>header</th>\n",
       "      <th>title</th>\n",
       "      <th>published</th>\n",
       "      <th>summary</th>\n",
       "      <th>link</th>\n",
       "      <th>id</th>\n",
       "      <th>is_com_or_sub</th>\n",
       "      <th>author</th>\n",
       "    </tr>\n",
       "  </thead>\n",
       "  <tbody>\n",
       "    <tr>\n",
       "      <th>0</th>\n",
       "      <td>4:0-Heimsieg gegen Servette</td>\n",
       "      <td>Luzern mindestens in der Barrage und nur noch ...</td>\n",
       "      <td>2022-05-08 18:35:00+00:00</td>\n",
       "      <td>Luzern gewinnt in der 33. SL-Runde gegen Serve...</td>\n",
       "      <td>https://www.srf.ch/sport/fussball/super-league...</td>\n",
       "      <td>https://www.srf.ch/sport/fussball/super-league...</td>\n",
       "      <td>sub</td>\n",
       "      <td>NaN</td>\n",
       "    </tr>\n",
       "    <tr>\n",
       "      <th>1</th>\n",
       "      <td>3:0-Heimsieg gegen Lausanne</td>\n",
       "      <td>Luzern feiert wichtigen Erfolg im Abstiegskampf</td>\n",
       "      <td>2022-05-01 18:40:00+00:00</td>\n",
       "      <td>Der FC Luzern feiert im Kellerduell der 32. Ru...</td>\n",
       "      <td>https://www.srf.ch/sport/fussball/super-league...</td>\n",
       "      <td>https://www.srf.ch/sport/fussball/super-league...</td>\n",
       "      <td>sub</td>\n",
       "      <td>NaN</td>\n",
       "    </tr>\n",
       "    <tr>\n",
       "      <th>2</th>\n",
       "      <td>Abstimmung Stadt Luzern</td>\n",
       "      <td>Braucht Luzern mehr zusammenhängende Velorouten?</td>\n",
       "      <td>2022-04-26 16:39:00+00:00</td>\n",
       "      <td>… unsichere Stellen für Velofahrende in der St...</td>\n",
       "      <td>https://www.srf.ch/news/abstimmungen-15-mai-20...</td>\n",
       "      <td>https://www.srf.ch/news/abstimmungen-15-mai-20...</td>\n",
       "      <td>sub</td>\n",
       "      <td>NaN</td>\n",
       "    </tr>\n",
       "    <tr>\n",
       "      <th>3</th>\n",
       "      <td>Mitten in den Playoffs</td>\n",
       "      <td>Perkovac bei Kriens-Luzern per sofort freigest...</td>\n",
       "      <td>2022-04-26 14:45:00+00:00</td>\n",
       "      <td>Kriens-Luzern trennt sich per sofort und nicht...</td>\n",
       "      <td>https://www.srf.ch/sport/mehr-sport/handball/m...</td>\n",
       "      <td>https://www.srf.ch/sport/mehr-sport/handball/m...</td>\n",
       "      <td>sub</td>\n",
       "      <td>NaN</td>\n",
       "    </tr>\n",
       "    <tr>\n",
       "      <th>4</th>\n",
       "      <td>Basel schlägt Luzern mit 3:0</td>\n",
       "      <td>Spielverderber Stocker: FCZ-Meisterparty muss ...</td>\n",
       "      <td>2022-04-24 18:37:00+00:00</td>\n",
       "      <td>Basel schlägt Luzern in der 31. Runde der Supe...</td>\n",
       "      <td>https://www.srf.ch/sport/fussball/super-league...</td>\n",
       "      <td>https://www.srf.ch/sport/fussball/super-league...</td>\n",
       "      <td>sub</td>\n",
       "      <td>NaN</td>\n",
       "    </tr>\n",
       "  </tbody>\n",
       "</table>\n",
       "</div>"
      ],
      "text/plain": [
       "                         header  \\\n",
       "0   4:0-Heimsieg gegen Servette   \n",
       "1   3:0-Heimsieg gegen Lausanne   \n",
       "2       Abstimmung Stadt Luzern   \n",
       "3        Mitten in den Playoffs   \n",
       "4  Basel schlägt Luzern mit 3:0   \n",
       "\n",
       "                                               title  \\\n",
       "0  Luzern mindestens in der Barrage und nur noch ...   \n",
       "1    Luzern feiert wichtigen Erfolg im Abstiegskampf   \n",
       "2   Braucht Luzern mehr zusammenhängende Velorouten?   \n",
       "3  Perkovac bei Kriens-Luzern per sofort freigest...   \n",
       "4  Spielverderber Stocker: FCZ-Meisterparty muss ...   \n",
       "\n",
       "                   published  \\\n",
       "0  2022-05-08 18:35:00+00:00   \n",
       "1  2022-05-01 18:40:00+00:00   \n",
       "2  2022-04-26 16:39:00+00:00   \n",
       "3  2022-04-26 14:45:00+00:00   \n",
       "4  2022-04-24 18:37:00+00:00   \n",
       "\n",
       "                                             summary  \\\n",
       "0  Luzern gewinnt in der 33. SL-Runde gegen Serve...   \n",
       "1  Der FC Luzern feiert im Kellerduell der 32. Ru...   \n",
       "2  … unsichere Stellen für Velofahrende in der St...   \n",
       "3  Kriens-Luzern trennt sich per sofort und nicht...   \n",
       "4  Basel schlägt Luzern in der 31. Runde der Supe...   \n",
       "\n",
       "                                                link  \\\n",
       "0  https://www.srf.ch/sport/fussball/super-league...   \n",
       "1  https://www.srf.ch/sport/fussball/super-league...   \n",
       "2  https://www.srf.ch/news/abstimmungen-15-mai-20...   \n",
       "3  https://www.srf.ch/sport/mehr-sport/handball/m...   \n",
       "4  https://www.srf.ch/sport/fussball/super-league...   \n",
       "\n",
       "                                                  id is_com_or_sub  author  \n",
       "0  https://www.srf.ch/sport/fussball/super-league...           sub     NaN  \n",
       "1  https://www.srf.ch/sport/fussball/super-league...           sub     NaN  \n",
       "2  https://www.srf.ch/news/abstimmungen-15-mai-20...           sub     NaN  \n",
       "3  https://www.srf.ch/sport/mehr-sport/handball/m...           sub     NaN  \n",
       "4  https://www.srf.ch/sport/fussball/super-league...           sub     NaN  "
      ]
     },
     "execution_count": 65,
     "metadata": {},
     "output_type": "execute_result"
    }
   ],
   "source": [
    "liverss_and_coms_merged_df.head()"
   ]
  },
  {
   "cell_type": "code",
   "execution_count": 66,
   "metadata": {},
   "outputs": [],
   "source": [
    "# save newly merged dataframe to csv\n",
    "liverss_and_coms_merged_df.to_csv(liverss_and_coms_path, index=False)"
   ]
  },
  {
   "cell_type": "markdown",
   "metadata": {},
   "source": [
    "----\n",
    "Old approach"
   ]
  },
  {
   "cell_type": "code",
   "execution_count": 2,
   "metadata": {},
   "outputs": [],
   "source": [
    "# Reading the newly aquired articles of srf in the temporary csv\n",
    "liverss_path = pathlib.Path.home() / 'Desktop' / 'SocialMediaMonitor' / 'data' / 'raw' / 'liverss_srf.csv'\n",
    "liverss_csv = open(liverss_path, 'r', newline = '')\n",
    "liverss_obj = csv.reader(liverss_csv)\n"
   ]
  },
  {
   "cell_type": "code",
   "execution_count": 3,
   "metadata": {},
   "outputs": [],
   "source": [
    "# liverss_df = pd.read_csv(liverss_path)\n",
    "# print(liverss_df.head())\n",
    "# print(len(liverss_df))"
   ]
  },
  {
   "cell_type": "code",
   "execution_count": 4,
   "metadata": {},
   "outputs": [],
   "source": [
    "# Reading the log csv of articles and coms file and write the new articles to it\n",
    "liverss_and_coms_path = pathlib.Path.home() / 'Desktop' / 'SocialMediaMonitor' / 'data' / 'raw' / 'liverss_and_coms_srf.csv'\n",
    "liverss_and_coms_csv = open(liverss_and_coms_path, 'a', newline = '')\n",
    "liverss_and_coms_obj = csv.writer(liverss_and_coms_csv)\n",
    "liverss_and_coms_obj.writerows(liverss_obj)\n",
    "liverss_and_coms_csv.close()\n",
    "liverss_csv.close()"
   ]
  },
  {
   "cell_type": "code",
   "execution_count": 5,
   "metadata": {},
   "outputs": [
    {
     "name": "stdout",
     "output_type": "stream",
     "text": [
      "header        object\n",
      "title         object\n",
      "published     object\n",
      "summary       object\n",
      "link          object\n",
      "id            object\n",
      "com_or_sub    object\n",
      "dtype: object\n"
     ]
    }
   ],
   "source": [
    "# Reading the newly enriched log csv and updating the last_check_articles_srf\n",
    "liverss_and_coms_df = pd.read_csv(liverss_and_coms_path)\n",
    "print(liverss_and_coms_df.dtypes)\n",
    "last_check_articles_srf = liverss_and_coms_df['published'].max()"
   ]
  },
  {
   "cell_type": "code",
   "execution_count": 6,
   "metadata": {},
   "outputs": [
    {
     "data": {
      "text/html": [
       "<div>\n",
       "<style scoped>\n",
       "    .dataframe tbody tr th:only-of-type {\n",
       "        vertical-align: middle;\n",
       "    }\n",
       "\n",
       "    .dataframe tbody tr th {\n",
       "        vertical-align: top;\n",
       "    }\n",
       "\n",
       "    .dataframe thead th {\n",
       "        text-align: right;\n",
       "    }\n",
       "</style>\n",
       "<table border=\"1\" class=\"dataframe\">\n",
       "  <thead>\n",
       "    <tr style=\"text-align: right;\">\n",
       "      <th></th>\n",
       "      <th>header</th>\n",
       "      <th>title</th>\n",
       "      <th>published</th>\n",
       "      <th>summary</th>\n",
       "      <th>link</th>\n",
       "      <th>id</th>\n",
       "      <th>com_or_sub</th>\n",
       "    </tr>\n",
       "  </thead>\n",
       "  <tbody>\n",
       "    <tr>\n",
       "      <th>0</th>\n",
       "      <td>4:0-Heimsieg gegen Servette</td>\n",
       "      <td>Luzern mindestens in der Barrage und nur noch ...</td>\n",
       "      <td>2022-05-08 18:35:00+00:00</td>\n",
       "      <td>Luzern gewinnt in der 33. SL-Runde gegen Serve...</td>\n",
       "      <td>https://www.srf.ch/sport/fussball/super-league...</td>\n",
       "      <td>https://www.srf.ch/sport/fussball/super-league...</td>\n",
       "      <td>sub</td>\n",
       "    </tr>\n",
       "    <tr>\n",
       "      <th>1</th>\n",
       "      <td>3:0-Heimsieg gegen Lausanne</td>\n",
       "      <td>Luzern feiert wichtigen Erfolg im Abstiegskampf</td>\n",
       "      <td>2022-05-01 18:40:00+00:00</td>\n",
       "      <td>Der FC Luzern feiert im Kellerduell der 32. Ru...</td>\n",
       "      <td>https://www.srf.ch/sport/fussball/super-league...</td>\n",
       "      <td>https://www.srf.ch/sport/fussball/super-league...</td>\n",
       "      <td>sub</td>\n",
       "    </tr>\n",
       "    <tr>\n",
       "      <th>2</th>\n",
       "      <td>Abstimmung Stadt Luzern</td>\n",
       "      <td>Braucht Luzern mehr zusammenhängende Velorouten?</td>\n",
       "      <td>2022-04-26 16:39:00+00:00</td>\n",
       "      <td>… unsichere Stellen für Velofahrende in der St...</td>\n",
       "      <td>https://www.srf.ch/news/abstimmungen-15-mai-20...</td>\n",
       "      <td>https://www.srf.ch/news/abstimmungen-15-mai-20...</td>\n",
       "      <td>sub</td>\n",
       "    </tr>\n",
       "    <tr>\n",
       "      <th>3</th>\n",
       "      <td>Mitten in den Playoffs</td>\n",
       "      <td>Perkovac bei Kriens-Luzern per sofort freigest...</td>\n",
       "      <td>2022-04-26 14:45:00+00:00</td>\n",
       "      <td>Kriens-Luzern trennt sich per sofort und nicht...</td>\n",
       "      <td>https://www.srf.ch/sport/mehr-sport/handball/m...</td>\n",
       "      <td>https://www.srf.ch/sport/mehr-sport/handball/m...</td>\n",
       "      <td>sub</td>\n",
       "    </tr>\n",
       "    <tr>\n",
       "      <th>4</th>\n",
       "      <td>Basel schlägt Luzern mit 3:0</td>\n",
       "      <td>Spielverderber Stocker: FCZ-Meisterparty muss ...</td>\n",
       "      <td>2022-04-24 18:37:00+00:00</td>\n",
       "      <td>Basel schlägt Luzern in der 31. Runde der Supe...</td>\n",
       "      <td>https://www.srf.ch/sport/fussball/super-league...</td>\n",
       "      <td>https://www.srf.ch/sport/fussball/super-league...</td>\n",
       "      <td>sub</td>\n",
       "    </tr>\n",
       "  </tbody>\n",
       "</table>\n",
       "</div>"
      ],
      "text/plain": [
       "                         header  \\\n",
       "0   4:0-Heimsieg gegen Servette   \n",
       "1   3:0-Heimsieg gegen Lausanne   \n",
       "2       Abstimmung Stadt Luzern   \n",
       "3        Mitten in den Playoffs   \n",
       "4  Basel schlägt Luzern mit 3:0   \n",
       "\n",
       "                                               title  \\\n",
       "0  Luzern mindestens in der Barrage und nur noch ...   \n",
       "1    Luzern feiert wichtigen Erfolg im Abstiegskampf   \n",
       "2   Braucht Luzern mehr zusammenhängende Velorouten?   \n",
       "3  Perkovac bei Kriens-Luzern per sofort freigest...   \n",
       "4  Spielverderber Stocker: FCZ-Meisterparty muss ...   \n",
       "\n",
       "                   published  \\\n",
       "0  2022-05-08 18:35:00+00:00   \n",
       "1  2022-05-01 18:40:00+00:00   \n",
       "2  2022-04-26 16:39:00+00:00   \n",
       "3  2022-04-26 14:45:00+00:00   \n",
       "4  2022-04-24 18:37:00+00:00   \n",
       "\n",
       "                                             summary  \\\n",
       "0  Luzern gewinnt in der 33. SL-Runde gegen Serve...   \n",
       "1  Der FC Luzern feiert im Kellerduell der 32. Ru...   \n",
       "2  … unsichere Stellen für Velofahrende in der St...   \n",
       "3  Kriens-Luzern trennt sich per sofort und nicht...   \n",
       "4  Basel schlägt Luzern in der 31. Runde der Supe...   \n",
       "\n",
       "                                                link  \\\n",
       "0  https://www.srf.ch/sport/fussball/super-league...   \n",
       "1  https://www.srf.ch/sport/fussball/super-league...   \n",
       "2  https://www.srf.ch/news/abstimmungen-15-mai-20...   \n",
       "3  https://www.srf.ch/sport/mehr-sport/handball/m...   \n",
       "4  https://www.srf.ch/sport/fussball/super-league...   \n",
       "\n",
       "                                                  id com_or_sub  \n",
       "0  https://www.srf.ch/sport/fussball/super-league...        sub  \n",
       "1  https://www.srf.ch/sport/fussball/super-league...        sub  \n",
       "2  https://www.srf.ch/news/abstimmungen-15-mai-20...        sub  \n",
       "3  https://www.srf.ch/sport/mehr-sport/handball/m...        sub  \n",
       "4  https://www.srf.ch/sport/fussball/super-league...        sub  "
      ]
     },
     "execution_count": 6,
     "metadata": {},
     "output_type": "execute_result"
    }
   ],
   "source": [
    "liverss_and_coms_df.head()"
   ]
  },
  {
   "cell_type": "code",
   "execution_count": null,
   "metadata": {},
   "outputs": [],
   "source": []
  },
  {
   "cell_type": "code",
   "execution_count": null,
   "metadata": {},
   "outputs": [],
   "source": []
  }
 ],
 "metadata": {
  "interpreter": {
   "hash": "b7fa4ad54c13063743e0b795d31fc2de87e75f8ad2886ded3b88bc7649886d47"
  },
  "kernelspec": {
   "display_name": "Python 3.10.4 ('socialMediaMonitor')",
   "language": "python",
   "name": "python3"
  },
  "language_info": {
   "codemirror_mode": {
    "name": "ipython",
    "version": 3
   },
   "file_extension": ".py",
   "mimetype": "text/x-python",
   "name": "python",
   "nbconvert_exporter": "python",
   "pygments_lexer": "ipython3",
   "version": "3.10.4"
  },
  "orig_nbformat": 4
 },
 "nbformat": 4,
 "nbformat_minor": 2
}
