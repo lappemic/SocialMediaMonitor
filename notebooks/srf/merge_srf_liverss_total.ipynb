{
 "cells": [
  {
   "cell_type": "code",
   "execution_count": 10,
   "metadata": {},
   "outputs": [],
   "source": [
    "import pandas as pd\n",
    "import numpy as np\n",
    "import csv\n",
    "import pathlib\n",
    "\n",
    "# Importing the config file\n",
    "# import sys\n",
    "# sys.path.append('~/Desktop/SocialMediaMonitor/src')\n",
    "# import config"
   ]
  },
  {
   "cell_type": "markdown",
   "metadata": {},
   "source": [
    "Append newly aquired articles of srf to permanent articles and coms of srf"
   ]
  },
  {
   "cell_type": "code",
   "execution_count": 11,
   "metadata": {},
   "outputs": [],
   "source": [
    "# Reading the newly aquired articles of srf in the temporary csv\n",
    "liverss_path = pathlib.Path.home() / 'Desktop' / 'SocialMediaMonitor' / 'data' / 'raw' / 'liverss_srf.csv'\n",
    "liverss_csv = open(liverss_path, 'r', newline = '')\n",
    "liverss_obj = csv.reader(liverss_csv)\n"
   ]
  },
  {
   "cell_type": "code",
   "execution_count": 12,
   "metadata": {},
   "outputs": [],
   "source": [
    "# liverss_df = pd.read_csv(liverss_path)\n",
    "# print(liverss_df.head())\n",
    "# print(len(liverss_df))"
   ]
  },
  {
   "cell_type": "code",
   "execution_count": 13,
   "metadata": {},
   "outputs": [],
   "source": [
    "# Reading the log csv of articles and coms file and write the new articles to it\n",
    "liverss_and_coms_path = pathlib.Path.home() / 'Desktop' / 'SocialMediaMonitor' / 'data' / 'raw' / 'liverss_and_coms_srf.csv'\n",
    "liverss_and_coms_csv = open(liverss_and_coms_path, 'a', newline = '')\n",
    "liverss_and_coms_obj = csv.writer(liverss_and_coms_csv)\n",
    "liverss_and_coms_obj.writerows(liverss_obj)\n",
    "liverss_and_coms_csv.close()\n",
    "liverss_csv.close()"
   ]
  },
  {
   "cell_type": "code",
   "execution_count": 14,
   "metadata": {},
   "outputs": [],
   "source": [
    "# Reading the newly enriched log csv and updating the last_check_articles_srf\n",
    "liverss_and_coms_df = pd.read_csv(liverss_and_coms_path)\n",
    "last_check_articles_srf = liverss_and_coms_df['published'].max()"
   ]
  },
  {
   "cell_type": "code",
   "execution_count": null,
   "metadata": {},
   "outputs": [],
   "source": []
  }
 ],
 "metadata": {
  "interpreter": {
   "hash": "b7fa4ad54c13063743e0b795d31fc2de87e75f8ad2886ded3b88bc7649886d47"
  },
  "kernelspec": {
   "display_name": "Python 3.10.4 ('socialMediaMonitor')",
   "language": "python",
   "name": "python3"
  },
  "language_info": {
   "codemirror_mode": {
    "name": "ipython",
    "version": 3
   },
   "file_extension": ".py",
   "mimetype": "text/x-python",
   "name": "python",
   "nbconvert_exporter": "python",
   "pygments_lexer": "ipython3",
   "version": "3.10.4"
  },
  "orig_nbformat": 4
 },
 "nbformat": 4,
 "nbformat_minor": 2
}
