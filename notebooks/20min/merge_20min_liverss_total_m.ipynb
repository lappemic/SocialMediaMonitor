{
 "cells": [
  {
   "cell_type": "code",
   "execution_count": 21,
   "metadata": {},
   "outputs": [],
   "source": [
    "import pandas as pd\n",
    "import numpy as np\n",
    "import csv\n",
    "import pathlib\n",
    "\n",
    "# Importing the config file\n",
    "# import sys\n",
    "# sys.path.append('~/Desktop/SocialMediaMonitor/src')\n",
    "# import config"
   ]
  },
  {
   "cell_type": "markdown",
   "metadata": {},
   "source": [
    "Append the new articles to the old articles and replace the last check date"
   ]
  },
  {
   "cell_type": "code",
   "execution_count": 30,
   "metadata": {},
   "outputs": [],
   "source": [
    "# Reading the newly aquired articles in the temporary csv\n",
    "liverss_path = pathlib.Path.home() / 'Desktop' / 'SocialMediaMonitor' / 'data' / 'raw' / 'liverss_20min.csv'\n",
    "liverss_csv = open(liverss_path, 'r', newline = '')\n",
    "liverss_obj = csv.reader(liverss_csv)\n"
   ]
  },
  {
   "cell_type": "code",
   "execution_count": 32,
   "metadata": {},
   "outputs": [
    {
     "name": "stdout",
     "output_type": "stream",
     "text": [
      "                                               title  \\\n",
      "0  Wie sich dieser erfolgreiche Luzerner Radiomac...   \n",
      "1  «Polarstar»-Besitzer sucht Nachfolger für Revi...   \n",
      "2  Bei Enkeltrick-Betrügern klickten die Handsche...   \n",
      "\n",
      "                                             summary  author is_com_or_sub  \\\n",
      "0  Ueli Häfliger hat sich in Luzern einen Namen a...     NaN           sub   \n",
      "1  Schaumpartys, Fasnachtsbälle, viel Alkohol und...     NaN           sub   \n",
      "2  Bei einer geplanten Geldübergabe konnten zivil...     NaN           sub   \n",
      "\n",
      "                                link            id                  published  \\\n",
      "0  https://www.20min.ch/545851604537  545851604537  2022-05-10 02:53:40+00:00   \n",
      "1  https://www.20min.ch/730773678727  730773678727  2022-05-09 17:09:30+00:00   \n",
      "2  https://www.20min.ch/577039134851  577039134851  2022-05-09 15:44:54+00:00   \n",
      "\n",
      "                                    published_parsed  \n",
      "0  time.struct_time(tm_year=2022, tm_mon=5, tm_md...  \n",
      "1  time.struct_time(tm_year=2022, tm_mon=5, tm_md...  \n",
      "2  time.struct_time(tm_year=2022, tm_mon=5, tm_md...  \n",
      "3\n"
     ]
    }
   ],
   "source": [
    "liverss_df = pd.read_csv(liverss_path)\n",
    "print(liverss_df.head())\n",
    "print(len(liverss_df))"
   ]
  },
  {
   "cell_type": "code",
   "execution_count": 33,
   "metadata": {},
   "outputs": [],
   "source": [
    "# Reading the log csv of articles and coms file and write the new articles to it\n",
    "liverss_and_coms_path = pathlib.Path.home() / 'Desktop' / 'SocialMediaMonitor' / 'data' / 'raw' / 'liverss_and_coms_20min.csv'\n",
    "liverss_and_coms_csv = open(liverss_and_coms_path, 'a', newline = '')\n",
    "liverss_and_coms_obj = csv.writer(liverss_and_coms_csv)\n",
    "liverss_and_coms_obj.writerows(liverss_obj)\n",
    "liverss_and_coms_csv.close()\n",
    "liverss_csv.close()\n",
    "\n"
   ]
  },
  {
   "cell_type": "code",
   "execution_count": 34,
   "metadata": {},
   "outputs": [],
   "source": [
    "# Reading the newly enriched log csv and updating the last_check_articles_20min\n",
    "liverss_and_coms_path = pathlib.Path.home() / 'Desktop' / 'SocialMediaMonitor' / 'data' / 'raw' / 'liverss_and_coms_20min.csv'\n",
    "liverss_and_coms_df = pd.read_csv(liverss_and_coms_path)\n",
    "last_check_articles_20min = liverss_and_coms_df['published'].max()\n"
   ]
  },
  {
   "cell_type": "code",
   "execution_count": null,
   "metadata": {},
   "outputs": [],
   "source": []
  }
 ],
 "metadata": {
  "interpreter": {
   "hash": "c76eb199b8e1fb9fa01facb4084fceb7f49eeb0e37fb232cc5bedee7779b1e8a"
  },
  "kernelspec": {
   "display_name": "Python 3.8.8 ('base')",
   "language": "python",
   "name": "python3"
  },
  "language_info": {
   "codemirror_mode": {
    "name": "ipython",
    "version": 3
   },
   "file_extension": ".py",
   "mimetype": "text/x-python",
   "name": "python",
   "nbconvert_exporter": "python",
   "pygments_lexer": "ipython3",
   "version": "3.10.4"
  },
  "orig_nbformat": 4
 },
 "nbformat": 4,
 "nbformat_minor": 2
}
