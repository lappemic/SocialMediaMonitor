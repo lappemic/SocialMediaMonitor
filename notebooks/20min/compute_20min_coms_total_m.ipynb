{
 "cells": [
  {
   "cell_type": "code",
   "execution_count": 26,
   "metadata": {},
   "outputs": [],
   "source": [
    "import pandas as pd\n",
    "import numpy as np\n",
    "import csv\n",
    "import pathlib\n",
    "\n",
    "# Importing the config file\n",
    "import sys\n",
    "sys.path.append('~/SocialMediaMonitor/src')\n",
    "import config"
   ]
  },
  {
   "cell_type": "markdown",
   "metadata": {},
   "source": [
    "Append the new commentaries to the old commentaries and replace the last check date"
   ]
  },
  {
   "cell_type": "code",
   "execution_count": 39,
   "metadata": {},
   "outputs": [
    {
     "ename": "TypeError",
     "evalue": "'_csv.reader' object is not subscriptable",
     "output_type": "error",
     "traceback": [
      "\u001b[0;31m---------------------------------------------------------------------------\u001b[0m",
      "\u001b[0;31mTypeError\u001b[0m                                 Traceback (most recent call last)",
      "\u001b[0;32m<ipython-input-39-085866fca5c8>\u001b[0m in \u001b[0;36m<module>\u001b[0;34m\u001b[0m\n\u001b[1;32m      2\u001b[0m \u001b[0mliverss_csv\u001b[0m \u001b[0;34m=\u001b[0m \u001b[0mopen\u001b[0m\u001b[0;34m(\u001b[0m\u001b[0mliverss_path\u001b[0m\u001b[0;34m,\u001b[0m \u001b[0;34m'r'\u001b[0m\u001b[0;34m,\u001b[0m \u001b[0mnewline\u001b[0m \u001b[0;34m=\u001b[0m \u001b[0;34m''\u001b[0m\u001b[0;34m)\u001b[0m\u001b[0;34m\u001b[0m\u001b[0;34m\u001b[0m\u001b[0m\n\u001b[1;32m      3\u001b[0m \u001b[0mliverss_obj\u001b[0m \u001b[0;34m=\u001b[0m \u001b[0mcsv\u001b[0m\u001b[0;34m.\u001b[0m\u001b[0mreader\u001b[0m\u001b[0;34m(\u001b[0m\u001b[0mliverss_csv\u001b[0m\u001b[0;34m)\u001b[0m\u001b[0;34m\u001b[0m\u001b[0;34m\u001b[0m\u001b[0m\n\u001b[0;32m----> 4\u001b[0;31m \u001b[0mliverss_obj\u001b[0m\u001b[0;34m[\u001b[0m\u001b[0;36m2\u001b[0m\u001b[0;34m]\u001b[0m\u001b[0;34m\u001b[0m\u001b[0;34m\u001b[0m\u001b[0m\n\u001b[0m",
      "\u001b[0;31mTypeError\u001b[0m: '_csv.reader' object is not subscriptable"
     ]
    }
   ],
   "source": [
    "liverss_path = pathlib.Path.home() / 'SocialMediaMonitor' / 'data' / 'raw' / 'liverss_20min.csv'\n",
    "liverss_csv = open(liverss_path, 'r', newline = '')\n",
    "liverss_obj = csv.reader(liverss_csv)"
   ]
  },
  {
   "cell_type": "code",
   "execution_count": 24,
   "metadata": {},
   "outputs": [
    {
     "ename": "FileNotFoundError",
     "evalue": "[Errno 2] No such file or directory: '~/SocialMediaMonitor/data/raw/liverss_20min.csv'",
     "output_type": "error",
     "traceback": [
      "\u001b[0;31m---------------------------------------------------------------------------\u001b[0m",
      "\u001b[0;31mFileNotFoundError\u001b[0m                         Traceback (most recent call last)",
      "\u001b[0;32m<ipython-input-24-321a8bf237a6>\u001b[0m in \u001b[0;36m<module>\u001b[0;34m\u001b[0m\n\u001b[0;32m----> 1\u001b[0;31m \u001b[0mliverss\u001b[0m \u001b[0;34m=\u001b[0m \u001b[0mopen\u001b[0m\u001b[0;34m(\u001b[0m\u001b[0;34m'~/SocialMediaMonitor/data/raw/liverss_20min.csv'\u001b[0m\u001b[0;34m,\u001b[0m \u001b[0;34m'r'\u001b[0m\u001b[0;34m,\u001b[0m \u001b[0mnewline\u001b[0m \u001b[0;34m=\u001b[0m \u001b[0;34m''\u001b[0m\u001b[0;34m)\u001b[0m\u001b[0;34m\u001b[0m\u001b[0;34m\u001b[0m\u001b[0m\n\u001b[0m\u001b[1;32m      2\u001b[0m \u001b[0mliverss_obj\u001b[0m \u001b[0;34m=\u001b[0m \u001b[0mcsv\u001b[0m\u001b[0;34m.\u001b[0m\u001b[0mreader\u001b[0m\u001b[0;34m(\u001b[0m\u001b[0mliverss\u001b[0m\u001b[0;34m)\u001b[0m\u001b[0;34m\u001b[0m\u001b[0;34m\u001b[0m\u001b[0m\n\u001b[1;32m      3\u001b[0m \u001b[0;32mfor\u001b[0m \u001b[0mrow\u001b[0m \u001b[0;32min\u001b[0m \u001b[0mliverss_obj\u001b[0m\u001b[0;34m:\u001b[0m\u001b[0;34m\u001b[0m\u001b[0;34m\u001b[0m\u001b[0m\n\u001b[1;32m      4\u001b[0m     \u001b[0mprint\u001b[0m\u001b[0;34m(\u001b[0m\u001b[0mrow\u001b[0m\u001b[0;34m)\u001b[0m\u001b[0;34m\u001b[0m\u001b[0;34m\u001b[0m\u001b[0m\n",
      "\u001b[0;31mFileNotFoundError\u001b[0m: [Errno 2] No such file or directory: '~/SocialMediaMonitor/data/raw/liverss_20min.csv'"
     ]
    }
   ],
   "source": [
    "liverss = open('~/SocialMediaMonitor/data/raw/liverss_20min.csv', 'r', newline = '')\n",
    "liverss_obj = csv.reader(liverss)\n",
    "for row in liverss_obj:\n",
    "    print(row)"
   ]
  },
  {
   "cell_type": "code",
   "execution_count": null,
   "metadata": {},
   "outputs": [],
   "source": [
    "liverss_and_coms = open('~/SocialMediaMonitor/data/raw/liverss_and_coms_20min.csv','w', newline='')\n",
    "obj=csv.reader(csvfile)"
   ]
  },
  {
   "cell_type": "code",
   "execution_count": 20,
   "metadata": {},
   "outputs": [
    {
     "data": {
      "text/html": [
       "<div>\n",
       "<style scoped>\n",
       "    .dataframe tbody tr th:only-of-type {\n",
       "        vertical-align: middle;\n",
       "    }\n",
       "\n",
       "    .dataframe tbody tr th {\n",
       "        vertical-align: top;\n",
       "    }\n",
       "\n",
       "    .dataframe thead th {\n",
       "        text-align: right;\n",
       "    }\n",
       "</style>\n",
       "<table border=\"1\" class=\"dataframe\">\n",
       "  <thead>\n",
       "    <tr style=\"text-align: right;\">\n",
       "      <th></th>\n",
       "      <th>title</th>\n",
       "      <th>title_detail</th>\n",
       "      <th>links</th>\n",
       "      <th>link</th>\n",
       "      <th>summary</th>\n",
       "      <th>summary_detail</th>\n",
       "      <th>id</th>\n",
       "      <th>guidislink</th>\n",
       "      <th>published</th>\n",
       "      <th>published_parsed</th>\n",
       "    </tr>\n",
       "  </thead>\n",
       "  <tbody>\n",
       "    <tr>\n",
       "      <th>0</th>\n",
       "      <td>Diese Software soll der Luzerner Polizei helfe...</td>\n",
       "      <td>{'type': 'text/plain', 'language': None, 'base...</td>\n",
       "      <td>[{'rel': 'alternate', 'type': 'text/html', 'hr...</td>\n",
       "      <td>https://www.20min.ch/289491498116</td>\n",
       "      <td>Predictive Policing ist das Schlagwort der (Po...</td>\n",
       "      <td>{'type': 'text/html', 'language': None, 'base'...</td>\n",
       "      <td>https://www.20min.ch/story/diese-software-soll...</td>\n",
       "      <td>False</td>\n",
       "      <td>2022-05-04 02:54:29+00:00</td>\n",
       "      <td>time.struct_time(tm_year=2022, tm_mon=5, tm_md...</td>\n",
       "    </tr>\n",
       "    <tr>\n",
       "      <th>1</th>\n",
       "      <td>Autofahrer (55) bremst fahrunfähig mehrere Fah...</td>\n",
       "      <td>{'type': 'text/plain', 'language': None, 'base...</td>\n",
       "      <td>[{'rel': 'alternate', 'type': 'text/html', 'hr...</td>\n",
       "      <td>https://www.20min.ch/489523312923</td>\n",
       "      <td>Die Luzerner Polizei verhaftete in den letzten...</td>\n",
       "      <td>{'type': 'text/html', 'language': None, 'base'...</td>\n",
       "      <td>https://www.20min.ch/story/autofahrer-55-brems...</td>\n",
       "      <td>False</td>\n",
       "      <td>2022-05-03 08:42:14+00:00</td>\n",
       "      <td>time.struct_time(tm_year=2022, tm_mon=5, tm_md...</td>\n",
       "    </tr>\n",
       "    <tr>\n",
       "      <th>2</th>\n",
       "      <td>Es mangelt an Interessenten für Immobilien auf...</td>\n",
       "      <td>{'type': 'text/plain', 'language': None, 'base...</td>\n",
       "      <td>[{'rel': 'alternate', 'type': 'text/html', 'hr...</td>\n",
       "      <td>https://www.20min.ch/424914714985</td>\n",
       "      <td>Neu gebaute Wohnungen und Villen auf dem Bürge...</td>\n",
       "      <td>{'type': 'text/html', 'language': None, 'base'...</td>\n",
       "      <td>https://www.20min.ch/story/es-mangelt-an-inter...</td>\n",
       "      <td>False</td>\n",
       "      <td>2022-05-02 19:48:46+00:00</td>\n",
       "      <td>time.struct_time(tm_year=2022, tm_mon=5, tm_md...</td>\n",
       "    </tr>\n",
       "    <tr>\n",
       "      <th>3</th>\n",
       "      <td>So haben die Einsatzkräfte die Zuger Meisterna...</td>\n",
       "      <td>{'type': 'text/plain', 'language': None, 'base...</td>\n",
       "      <td>[{'rel': 'alternate', 'type': 'text/html', 'hr...</td>\n",
       "      <td>https://www.20min.ch/489822661522</td>\n",
       "      <td>Der EVZ hat die Serie gedreht und ist erneut S...</td>\n",
       "      <td>{'type': 'text/html', 'language': None, 'base'...</td>\n",
       "      <td>https://www.20min.ch/story/so-haben-die-einsat...</td>\n",
       "      <td>False</td>\n",
       "      <td>2022-05-02 17:45:54+00:00</td>\n",
       "      <td>time.struct_time(tm_year=2022, tm_mon=5, tm_md...</td>\n",
       "    </tr>\n",
       "    <tr>\n",
       "      <th>4</th>\n",
       "      <td>Warum der Kanton Luzern jetzt wieder auf Ampel...</td>\n",
       "      <td>{'type': 'text/plain', 'language': None, 'base...</td>\n",
       "      <td>[{'rel': 'alternate', 'type': 'text/html', 'hr...</td>\n",
       "      <td>https://www.20min.ch/822583307055</td>\n",
       "      <td>Lange galten sie als die Lösung der Schweizer ...</td>\n",
       "      <td>{'type': 'text/html', 'language': None, 'base'...</td>\n",
       "      <td>https://www.20min.ch/story/warum-der-kanton-lu...</td>\n",
       "      <td>False</td>\n",
       "      <td>2022-05-02 03:06:41+00:00</td>\n",
       "      <td>time.struct_time(tm_year=2022, tm_mon=5, tm_md...</td>\n",
       "    </tr>\n",
       "  </tbody>\n",
       "</table>\n",
       "</div>"
      ],
      "text/plain": [
       "                                               title  \\\n",
       "0  Diese Software soll der Luzerner Polizei helfe...   \n",
       "1  Autofahrer (55) bremst fahrunfähig mehrere Fah...   \n",
       "2  Es mangelt an Interessenten für Immobilien auf...   \n",
       "3  So haben die Einsatzkräfte die Zuger Meisterna...   \n",
       "4  Warum der Kanton Luzern jetzt wieder auf Ampel...   \n",
       "\n",
       "                                        title_detail  \\\n",
       "0  {'type': 'text/plain', 'language': None, 'base...   \n",
       "1  {'type': 'text/plain', 'language': None, 'base...   \n",
       "2  {'type': 'text/plain', 'language': None, 'base...   \n",
       "3  {'type': 'text/plain', 'language': None, 'base...   \n",
       "4  {'type': 'text/plain', 'language': None, 'base...   \n",
       "\n",
       "                                               links  \\\n",
       "0  [{'rel': 'alternate', 'type': 'text/html', 'hr...   \n",
       "1  [{'rel': 'alternate', 'type': 'text/html', 'hr...   \n",
       "2  [{'rel': 'alternate', 'type': 'text/html', 'hr...   \n",
       "3  [{'rel': 'alternate', 'type': 'text/html', 'hr...   \n",
       "4  [{'rel': 'alternate', 'type': 'text/html', 'hr...   \n",
       "\n",
       "                                link  \\\n",
       "0  https://www.20min.ch/289491498116   \n",
       "1  https://www.20min.ch/489523312923   \n",
       "2  https://www.20min.ch/424914714985   \n",
       "3  https://www.20min.ch/489822661522   \n",
       "4  https://www.20min.ch/822583307055   \n",
       "\n",
       "                                             summary  \\\n",
       "0  Predictive Policing ist das Schlagwort der (Po...   \n",
       "1  Die Luzerner Polizei verhaftete in den letzten...   \n",
       "2  Neu gebaute Wohnungen und Villen auf dem Bürge...   \n",
       "3  Der EVZ hat die Serie gedreht und ist erneut S...   \n",
       "4  Lange galten sie als die Lösung der Schweizer ...   \n",
       "\n",
       "                                      summary_detail  \\\n",
       "0  {'type': 'text/html', 'language': None, 'base'...   \n",
       "1  {'type': 'text/html', 'language': None, 'base'...   \n",
       "2  {'type': 'text/html', 'language': None, 'base'...   \n",
       "3  {'type': 'text/html', 'language': None, 'base'...   \n",
       "4  {'type': 'text/html', 'language': None, 'base'...   \n",
       "\n",
       "                                                  id  guidislink  \\\n",
       "0  https://www.20min.ch/story/diese-software-soll...       False   \n",
       "1  https://www.20min.ch/story/autofahrer-55-brems...       False   \n",
       "2  https://www.20min.ch/story/es-mangelt-an-inter...       False   \n",
       "3  https://www.20min.ch/story/so-haben-die-einsat...       False   \n",
       "4  https://www.20min.ch/story/warum-der-kanton-lu...       False   \n",
       "\n",
       "                   published  \\\n",
       "0  2022-05-04 02:54:29+00:00   \n",
       "1  2022-05-03 08:42:14+00:00   \n",
       "2  2022-05-02 19:48:46+00:00   \n",
       "3  2022-05-02 17:45:54+00:00   \n",
       "4  2022-05-02 03:06:41+00:00   \n",
       "\n",
       "                                    published_parsed  \n",
       "0  time.struct_time(tm_year=2022, tm_mon=5, tm_md...  \n",
       "1  time.struct_time(tm_year=2022, tm_mon=5, tm_md...  \n",
       "2  time.struct_time(tm_year=2022, tm_mon=5, tm_md...  \n",
       "3  time.struct_time(tm_year=2022, tm_mon=5, tm_md...  \n",
       "4  time.struct_time(tm_year=2022, tm_mon=5, tm_md...  "
      ]
     },
     "execution_count": 20,
     "metadata": {},
     "output_type": "execute_result"
    }
   ],
   "source": [
    "# Get the newly aquired articles and the permanently saved dataframe\n",
    "liverss_df = pd.read_csv('~/SocialMediaMonitor/data/raw/liverss_20min.csv')\n",
    "liverss_df.head()\n",
    "\n",
    "liverss_and_coms_df = pd.read_csv('~/SocialMediaMonitor/data/raw/liverss_and_coms_20min.csv')\n",
    "liverss_and_coms_df.head()"
   ]
  },
  {
   "cell_type": "code",
   "execution_count": 22,
   "metadata": {},
   "outputs": [
    {
     "ename": "FileNotFoundError",
     "evalue": "[Errno 2] No such file or directory: '~/SocialMediaMonitor/data/raw/liverss_and_coms_20min.csv'",
     "output_type": "error",
     "traceback": [
      "\u001b[0;31m---------------------------------------------------------------------------\u001b[0m",
      "\u001b[0;31mFileNotFoundError\u001b[0m                         Traceback (most recent call last)",
      "\u001b[0;32m<ipython-input-22-6d16c5f99cd1>\u001b[0m in \u001b[0;36m<module>\u001b[0;34m\u001b[0m\n\u001b[0;32m----> 1\u001b[0;31m \u001b[0;32mwith\u001b[0m \u001b[0mopen\u001b[0m\u001b[0;34m(\u001b[0m\u001b[0;34m'~/SocialMediaMonitor/data/raw/liverss_and_coms_20min.csv'\u001b[0m\u001b[0;34m,\u001b[0m\u001b[0;34m'a'\u001b[0m\u001b[0;34m)\u001b[0m \u001b[0;32mas\u001b[0m \u001b[0mfd\u001b[0m\u001b[0;34m:\u001b[0m\u001b[0;34m\u001b[0m\u001b[0;34m\u001b[0m\u001b[0m\n\u001b[0m\u001b[1;32m      2\u001b[0m     \u001b[0mfd\u001b[0m\u001b[0;34m.\u001b[0m\u001b[0mwrite\u001b[0m\u001b[0;34m(\u001b[0m\u001b[0;34m'~/SocialMediaMonitor/data/raw/liverss_20min.csv'\u001b[0m\u001b[0;34m)\u001b[0m\u001b[0;34m\u001b[0m\u001b[0;34m\u001b[0m\u001b[0m\n",
      "\u001b[0;31mFileNotFoundError\u001b[0m: [Errno 2] No such file or directory: '~/SocialMediaMonitor/data/raw/liverss_and_coms_20min.csv'"
     ]
    }
   ],
   "source": [
    "with open('~/SocialMediaMonitor/data/raw/liverss_and_coms_20min.csv','a') as fd:\n",
    "    fd.write('~/SocialMediaMonitor/data/raw/liverss_20min.csv')"
   ]
  },
  {
   "cell_type": "code",
   "execution_count": null,
   "metadata": {},
   "outputs": [],
   "source": []
  }
 ],
 "metadata": {
  "interpreter": {
   "hash": "c76eb199b8e1fb9fa01facb4084fceb7f49eeb0e37fb232cc5bedee7779b1e8a"
  },
  "kernelspec": {
   "display_name": "Python 3.8.8 ('base')",
   "language": "python",
   "name": "python3"
  },
  "language_info": {
   "codemirror_mode": {
    "name": "ipython",
    "version": 3
   },
   "file_extension": ".py",
   "mimetype": "text/x-python",
   "name": "python",
   "nbconvert_exporter": "python",
   "pygments_lexer": "ipython3",
   "version": "3.8.8"
  },
  "orig_nbformat": 4
 },
 "nbformat": 4,
 "nbformat_minor": 2
}
