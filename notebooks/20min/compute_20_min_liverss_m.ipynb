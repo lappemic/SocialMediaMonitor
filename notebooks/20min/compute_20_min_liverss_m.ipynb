{
 "cells": [
  {
   "cell_type": "markdown",
   "metadata": {},
   "source": [
    "Get the new articles of 20 minuten\n",
    "using their rss feed.\n",
    "Articles are considered as new if published after the last check date\n"
   ]
  },
  {
   "cell_type": "code",
   "execution_count": 91,
   "metadata": {},
   "outputs": [],
   "source": [
    "import pandas as pd\n",
    "import numpy as np\n",
    "import feedparser\n",
    "import datetime\n",
    "import pathlib"
   ]
  },
  {
   "cell_type": "code",
   "execution_count": 92,
   "metadata": {},
   "outputs": [
    {
     "name": "stdout",
     "output_type": "stream",
     "text": [
      "Articles in feed : 31\n"
     ]
    }
   ],
   "source": [
    "# Get feed\n",
    "url = 'https://partner-feeds.20min.ch/rss/20minuten/zentralschweiz'\n",
    "feed = feedparser.parse(url)\n",
    "print(f\"Articles in feed : {len(feed.entries)}\")"
   ]
  },
  {
   "cell_type": "code",
   "execution_count": 93,
   "metadata": {},
   "outputs": [
    {
     "ename": "EmptyDataError",
     "evalue": "No columns to parse from file",
     "output_type": "error",
     "traceback": [
      "\u001b[0;31m---------------------------------------------------------------------------\u001b[0m",
      "\u001b[0;31mEmptyDataError\u001b[0m                            Traceback (most recent call last)",
      "\u001b[1;32m/Users/michaellappert/Desktop/SocialMediaMonitor/notebooks/20min/compute_20_min_liverss_m.ipynb Cell 4'\u001b[0m in \u001b[0;36m<cell line: 4>\u001b[0;34m()\u001b[0m\n\u001b[1;32m      <a href='vscode-notebook-cell:/Users/michaellappert/Desktop/SocialMediaMonitor/notebooks/20min/compute_20_min_liverss_m.ipynb#ch0000003?line=0'>1</a>\u001b[0m \u001b[39m# Get last check date from global last_check_articles_20min\u001b[39;00m\n\u001b[1;32m      <a href='vscode-notebook-cell:/Users/michaellappert/Desktop/SocialMediaMonitor/notebooks/20min/compute_20_min_liverss_m.ipynb#ch0000003?line=1'>2</a>\u001b[0m \u001b[39m# liverss_and_coms_path = pathlib.Path.home() / 'Desktop' / 'SocialMediaMonitor' / 'data' / 'raw' / 'liverss_and_coms_20min.csv'\u001b[39;00m\n\u001b[1;32m      <a href='vscode-notebook-cell:/Users/michaellappert/Desktop/SocialMediaMonitor/notebooks/20min/compute_20_min_liverss_m.ipynb#ch0000003?line=2'>3</a>\u001b[0m liverss_and_coms_path \u001b[39m=\u001b[39m \u001b[39m'\u001b[39m\u001b[39m~/Desktop/SocialMediaMonitor/data/raw/liverss_and_coms_20min.csv\u001b[39m\u001b[39m'\u001b[39m\n\u001b[0;32m----> <a href='vscode-notebook-cell:/Users/michaellappert/Desktop/SocialMediaMonitor/notebooks/20min/compute_20_min_liverss_m.ipynb#ch0000003?line=3'>4</a>\u001b[0m liverss_and_coms_df \u001b[39m=\u001b[39m pd\u001b[39m.\u001b[39;49mread_csv(liverss_and_coms_path)\n\u001b[1;32m      <a href='vscode-notebook-cell:/Users/michaellappert/Desktop/SocialMediaMonitor/notebooks/20min/compute_20_min_liverss_m.ipynb#ch0000003?line=4'>5</a>\u001b[0m last_check_articles_20min \u001b[39m=\u001b[39m pd\u001b[39m.\u001b[39mto_datetime(liverss_and_coms_df[\u001b[39m'\u001b[39m\u001b[39mpublished\u001b[39m\u001b[39m'\u001b[39m]\u001b[39m.\u001b[39mmax())\n\u001b[1;32m      <a href='vscode-notebook-cell:/Users/michaellappert/Desktop/SocialMediaMonitor/notebooks/20min/compute_20_min_liverss_m.ipynb#ch0000003?line=5'>6</a>\u001b[0m last_check_articles_20min\n",
      "File \u001b[0;32m~/opt/miniconda3/envs/socialMediaMonitor/lib/python3.10/site-packages/pandas/util/_decorators.py:311\u001b[0m, in \u001b[0;36mdeprecate_nonkeyword_arguments.<locals>.decorate.<locals>.wrapper\u001b[0;34m(*args, **kwargs)\u001b[0m\n\u001b[1;32m    <a href='file:///Users/michaellappert/opt/miniconda3/envs/socialMediaMonitor/lib/python3.10/site-packages/pandas/util/_decorators.py?line=304'>305</a>\u001b[0m \u001b[39mif\u001b[39;00m \u001b[39mlen\u001b[39m(args) \u001b[39m>\u001b[39m num_allow_args:\n\u001b[1;32m    <a href='file:///Users/michaellappert/opt/miniconda3/envs/socialMediaMonitor/lib/python3.10/site-packages/pandas/util/_decorators.py?line=305'>306</a>\u001b[0m     warnings\u001b[39m.\u001b[39mwarn(\n\u001b[1;32m    <a href='file:///Users/michaellappert/opt/miniconda3/envs/socialMediaMonitor/lib/python3.10/site-packages/pandas/util/_decorators.py?line=306'>307</a>\u001b[0m         msg\u001b[39m.\u001b[39mformat(arguments\u001b[39m=\u001b[39marguments),\n\u001b[1;32m    <a href='file:///Users/michaellappert/opt/miniconda3/envs/socialMediaMonitor/lib/python3.10/site-packages/pandas/util/_decorators.py?line=307'>308</a>\u001b[0m         \u001b[39mFutureWarning\u001b[39;00m,\n\u001b[1;32m    <a href='file:///Users/michaellappert/opt/miniconda3/envs/socialMediaMonitor/lib/python3.10/site-packages/pandas/util/_decorators.py?line=308'>309</a>\u001b[0m         stacklevel\u001b[39m=\u001b[39mstacklevel,\n\u001b[1;32m    <a href='file:///Users/michaellappert/opt/miniconda3/envs/socialMediaMonitor/lib/python3.10/site-packages/pandas/util/_decorators.py?line=309'>310</a>\u001b[0m     )\n\u001b[0;32m--> <a href='file:///Users/michaellappert/opt/miniconda3/envs/socialMediaMonitor/lib/python3.10/site-packages/pandas/util/_decorators.py?line=310'>311</a>\u001b[0m \u001b[39mreturn\u001b[39;00m func(\u001b[39m*\u001b[39;49margs, \u001b[39m*\u001b[39;49m\u001b[39m*\u001b[39;49mkwargs)\n",
      "File \u001b[0;32m~/opt/miniconda3/envs/socialMediaMonitor/lib/python3.10/site-packages/pandas/io/parsers/readers.py:680\u001b[0m, in \u001b[0;36mread_csv\u001b[0;34m(filepath_or_buffer, sep, delimiter, header, names, index_col, usecols, squeeze, prefix, mangle_dupe_cols, dtype, engine, converters, true_values, false_values, skipinitialspace, skiprows, skipfooter, nrows, na_values, keep_default_na, na_filter, verbose, skip_blank_lines, parse_dates, infer_datetime_format, keep_date_col, date_parser, dayfirst, cache_dates, iterator, chunksize, compression, thousands, decimal, lineterminator, quotechar, quoting, doublequote, escapechar, comment, encoding, encoding_errors, dialect, error_bad_lines, warn_bad_lines, on_bad_lines, delim_whitespace, low_memory, memory_map, float_precision, storage_options)\u001b[0m\n\u001b[1;32m    <a href='file:///Users/michaellappert/opt/miniconda3/envs/socialMediaMonitor/lib/python3.10/site-packages/pandas/io/parsers/readers.py?line=664'>665</a>\u001b[0m kwds_defaults \u001b[39m=\u001b[39m _refine_defaults_read(\n\u001b[1;32m    <a href='file:///Users/michaellappert/opt/miniconda3/envs/socialMediaMonitor/lib/python3.10/site-packages/pandas/io/parsers/readers.py?line=665'>666</a>\u001b[0m     dialect,\n\u001b[1;32m    <a href='file:///Users/michaellappert/opt/miniconda3/envs/socialMediaMonitor/lib/python3.10/site-packages/pandas/io/parsers/readers.py?line=666'>667</a>\u001b[0m     delimiter,\n\u001b[0;32m   (...)\u001b[0m\n\u001b[1;32m    <a href='file:///Users/michaellappert/opt/miniconda3/envs/socialMediaMonitor/lib/python3.10/site-packages/pandas/io/parsers/readers.py?line=675'>676</a>\u001b[0m     defaults\u001b[39m=\u001b[39m{\u001b[39m\"\u001b[39m\u001b[39mdelimiter\u001b[39m\u001b[39m\"\u001b[39m: \u001b[39m\"\u001b[39m\u001b[39m,\u001b[39m\u001b[39m\"\u001b[39m},\n\u001b[1;32m    <a href='file:///Users/michaellappert/opt/miniconda3/envs/socialMediaMonitor/lib/python3.10/site-packages/pandas/io/parsers/readers.py?line=676'>677</a>\u001b[0m )\n\u001b[1;32m    <a href='file:///Users/michaellappert/opt/miniconda3/envs/socialMediaMonitor/lib/python3.10/site-packages/pandas/io/parsers/readers.py?line=677'>678</a>\u001b[0m kwds\u001b[39m.\u001b[39mupdate(kwds_defaults)\n\u001b[0;32m--> <a href='file:///Users/michaellappert/opt/miniconda3/envs/socialMediaMonitor/lib/python3.10/site-packages/pandas/io/parsers/readers.py?line=679'>680</a>\u001b[0m \u001b[39mreturn\u001b[39;00m _read(filepath_or_buffer, kwds)\n",
      "File \u001b[0;32m~/opt/miniconda3/envs/socialMediaMonitor/lib/python3.10/site-packages/pandas/io/parsers/readers.py:575\u001b[0m, in \u001b[0;36m_read\u001b[0;34m(filepath_or_buffer, kwds)\u001b[0m\n\u001b[1;32m    <a href='file:///Users/michaellappert/opt/miniconda3/envs/socialMediaMonitor/lib/python3.10/site-packages/pandas/io/parsers/readers.py?line=571'>572</a>\u001b[0m _validate_names(kwds\u001b[39m.\u001b[39mget(\u001b[39m\"\u001b[39m\u001b[39mnames\u001b[39m\u001b[39m\"\u001b[39m, \u001b[39mNone\u001b[39;00m))\n\u001b[1;32m    <a href='file:///Users/michaellappert/opt/miniconda3/envs/socialMediaMonitor/lib/python3.10/site-packages/pandas/io/parsers/readers.py?line=573'>574</a>\u001b[0m \u001b[39m# Create the parser.\u001b[39;00m\n\u001b[0;32m--> <a href='file:///Users/michaellappert/opt/miniconda3/envs/socialMediaMonitor/lib/python3.10/site-packages/pandas/io/parsers/readers.py?line=574'>575</a>\u001b[0m parser \u001b[39m=\u001b[39m TextFileReader(filepath_or_buffer, \u001b[39m*\u001b[39;49m\u001b[39m*\u001b[39;49mkwds)\n\u001b[1;32m    <a href='file:///Users/michaellappert/opt/miniconda3/envs/socialMediaMonitor/lib/python3.10/site-packages/pandas/io/parsers/readers.py?line=576'>577</a>\u001b[0m \u001b[39mif\u001b[39;00m chunksize \u001b[39mor\u001b[39;00m iterator:\n\u001b[1;32m    <a href='file:///Users/michaellappert/opt/miniconda3/envs/socialMediaMonitor/lib/python3.10/site-packages/pandas/io/parsers/readers.py?line=577'>578</a>\u001b[0m     \u001b[39mreturn\u001b[39;00m parser\n",
      "File \u001b[0;32m~/opt/miniconda3/envs/socialMediaMonitor/lib/python3.10/site-packages/pandas/io/parsers/readers.py:933\u001b[0m, in \u001b[0;36mTextFileReader.__init__\u001b[0;34m(self, f, engine, **kwds)\u001b[0m\n\u001b[1;32m    <a href='file:///Users/michaellappert/opt/miniconda3/envs/socialMediaMonitor/lib/python3.10/site-packages/pandas/io/parsers/readers.py?line=929'>930</a>\u001b[0m     \u001b[39mself\u001b[39m\u001b[39m.\u001b[39moptions[\u001b[39m\"\u001b[39m\u001b[39mhas_index_names\u001b[39m\u001b[39m\"\u001b[39m] \u001b[39m=\u001b[39m kwds[\u001b[39m\"\u001b[39m\u001b[39mhas_index_names\u001b[39m\u001b[39m\"\u001b[39m]\n\u001b[1;32m    <a href='file:///Users/michaellappert/opt/miniconda3/envs/socialMediaMonitor/lib/python3.10/site-packages/pandas/io/parsers/readers.py?line=931'>932</a>\u001b[0m \u001b[39mself\u001b[39m\u001b[39m.\u001b[39mhandles: IOHandles \u001b[39m|\u001b[39m \u001b[39mNone\u001b[39;00m \u001b[39m=\u001b[39m \u001b[39mNone\u001b[39;00m\n\u001b[0;32m--> <a href='file:///Users/michaellappert/opt/miniconda3/envs/socialMediaMonitor/lib/python3.10/site-packages/pandas/io/parsers/readers.py?line=932'>933</a>\u001b[0m \u001b[39mself\u001b[39m\u001b[39m.\u001b[39m_engine \u001b[39m=\u001b[39m \u001b[39mself\u001b[39;49m\u001b[39m.\u001b[39;49m_make_engine(f, \u001b[39mself\u001b[39;49m\u001b[39m.\u001b[39;49mengine)\n",
      "File \u001b[0;32m~/opt/miniconda3/envs/socialMediaMonitor/lib/python3.10/site-packages/pandas/io/parsers/readers.py:1235\u001b[0m, in \u001b[0;36mTextFileReader._make_engine\u001b[0;34m(self, f, engine)\u001b[0m\n\u001b[1;32m   <a href='file:///Users/michaellappert/opt/miniconda3/envs/socialMediaMonitor/lib/python3.10/site-packages/pandas/io/parsers/readers.py?line=1231'>1232</a>\u001b[0m     \u001b[39mraise\u001b[39;00m \u001b[39mValueError\u001b[39;00m(msg)\n\u001b[1;32m   <a href='file:///Users/michaellappert/opt/miniconda3/envs/socialMediaMonitor/lib/python3.10/site-packages/pandas/io/parsers/readers.py?line=1233'>1234</a>\u001b[0m \u001b[39mtry\u001b[39;00m:\n\u001b[0;32m-> <a href='file:///Users/michaellappert/opt/miniconda3/envs/socialMediaMonitor/lib/python3.10/site-packages/pandas/io/parsers/readers.py?line=1234'>1235</a>\u001b[0m     \u001b[39mreturn\u001b[39;00m mapping[engine](f, \u001b[39m*\u001b[39;49m\u001b[39m*\u001b[39;49m\u001b[39mself\u001b[39;49m\u001b[39m.\u001b[39;49moptions)\n\u001b[1;32m   <a href='file:///Users/michaellappert/opt/miniconda3/envs/socialMediaMonitor/lib/python3.10/site-packages/pandas/io/parsers/readers.py?line=1235'>1236</a>\u001b[0m \u001b[39mexcept\u001b[39;00m \u001b[39mException\u001b[39;00m:\n\u001b[1;32m   <a href='file:///Users/michaellappert/opt/miniconda3/envs/socialMediaMonitor/lib/python3.10/site-packages/pandas/io/parsers/readers.py?line=1236'>1237</a>\u001b[0m     \u001b[39mif\u001b[39;00m \u001b[39mself\u001b[39m\u001b[39m.\u001b[39mhandles \u001b[39mis\u001b[39;00m \u001b[39mnot\u001b[39;00m \u001b[39mNone\u001b[39;00m:\n",
      "File \u001b[0;32m~/opt/miniconda3/envs/socialMediaMonitor/lib/python3.10/site-packages/pandas/io/parsers/c_parser_wrapper.py:75\u001b[0m, in \u001b[0;36mCParserWrapper.__init__\u001b[0;34m(self, src, **kwds)\u001b[0m\n\u001b[1;32m     <a href='file:///Users/michaellappert/opt/miniconda3/envs/socialMediaMonitor/lib/python3.10/site-packages/pandas/io/parsers/c_parser_wrapper.py?line=71'>72</a>\u001b[0m     kwds\u001b[39m.\u001b[39mpop(key, \u001b[39mNone\u001b[39;00m)\n\u001b[1;32m     <a href='file:///Users/michaellappert/opt/miniconda3/envs/socialMediaMonitor/lib/python3.10/site-packages/pandas/io/parsers/c_parser_wrapper.py?line=73'>74</a>\u001b[0m kwds[\u001b[39m\"\u001b[39m\u001b[39mdtype\u001b[39m\u001b[39m\"\u001b[39m] \u001b[39m=\u001b[39m ensure_dtype_objs(kwds\u001b[39m.\u001b[39mget(\u001b[39m\"\u001b[39m\u001b[39mdtype\u001b[39m\u001b[39m\"\u001b[39m, \u001b[39mNone\u001b[39;00m))\n\u001b[0;32m---> <a href='file:///Users/michaellappert/opt/miniconda3/envs/socialMediaMonitor/lib/python3.10/site-packages/pandas/io/parsers/c_parser_wrapper.py?line=74'>75</a>\u001b[0m \u001b[39mself\u001b[39m\u001b[39m.\u001b[39m_reader \u001b[39m=\u001b[39m parsers\u001b[39m.\u001b[39;49mTextReader(src, \u001b[39m*\u001b[39;49m\u001b[39m*\u001b[39;49mkwds)\n\u001b[1;32m     <a href='file:///Users/michaellappert/opt/miniconda3/envs/socialMediaMonitor/lib/python3.10/site-packages/pandas/io/parsers/c_parser_wrapper.py?line=76'>77</a>\u001b[0m \u001b[39mself\u001b[39m\u001b[39m.\u001b[39munnamed_cols \u001b[39m=\u001b[39m \u001b[39mself\u001b[39m\u001b[39m.\u001b[39m_reader\u001b[39m.\u001b[39munnamed_cols\n\u001b[1;32m     <a href='file:///Users/michaellappert/opt/miniconda3/envs/socialMediaMonitor/lib/python3.10/site-packages/pandas/io/parsers/c_parser_wrapper.py?line=78'>79</a>\u001b[0m \u001b[39m# error: Cannot determine type of 'names'\u001b[39;00m\n",
      "File \u001b[0;32mpandas/_libs/parsers.pyx:551\u001b[0m, in \u001b[0;36mpandas._libs.parsers.TextReader.__cinit__\u001b[0;34m()\u001b[0m\n",
      "\u001b[0;31mEmptyDataError\u001b[0m: No columns to parse from file"
     ]
    }
   ],
   "source": [
    "# Get last check date from global last_check_articles_20min\n",
    "# liverss_and_coms_path = pathlib.Path.home() / 'Desktop' / 'SocialMediaMonitor' / 'data' / 'raw' / 'liverss_and_coms_20min.csv'\n",
    "liverss_and_coms_path = '~/Desktop/SocialMediaMonitor/data/raw/liverss_and_coms_20min.csv'\n",
    "liverss_and_coms_df = pd.read_csv(liverss_and_coms_path)\n",
    "last_check_articles_20min = pd.to_datetime(liverss_and_coms_df['published'].max())\n",
    "last_check_articles_20min"
   ]
  },
  {
   "cell_type": "code",
   "execution_count": 94,
   "metadata": {},
   "outputs": [
    {
     "name": "stdout",
     "output_type": "stream",
     "text": [
      "New articles in feed since last check : 3\n"
     ]
    }
   ],
   "source": [
    "# Computing the newly aquired articles -> not used up to now (04.05.2022)\n",
    "articles_to_keep = []\n",
    "for entry in feed.entries:\n",
    "    entry_date = pd.to_datetime(entry.published)\n",
    "    # print(f\"Entry date : {entry_date}\")\n",
    "    if last_check_articles_20min < entry_date:\n",
    "        articles_to_keep.append(entry)\n",
    "print(f\"New articles in feed since last check : {len(articles_to_keep)}\")"
   ]
  },
  {
   "cell_type": "code",
   "execution_count": 95,
   "metadata": {},
   "outputs": [
    {
     "data": {
      "text/html": [
       "<div>\n",
       "<style scoped>\n",
       "    .dataframe tbody tr th:only-of-type {\n",
       "        vertical-align: middle;\n",
       "    }\n",
       "\n",
       "    .dataframe tbody tr th {\n",
       "        vertical-align: top;\n",
       "    }\n",
       "\n",
       "    .dataframe thead th {\n",
       "        text-align: right;\n",
       "    }\n",
       "</style>\n",
       "<table border=\"1\" class=\"dataframe\">\n",
       "  <thead>\n",
       "    <tr style=\"text-align: right;\">\n",
       "      <th></th>\n",
       "      <th>title</th>\n",
       "      <th>title_detail</th>\n",
       "      <th>links</th>\n",
       "      <th>link</th>\n",
       "      <th>summary</th>\n",
       "      <th>summary_detail</th>\n",
       "      <th>id</th>\n",
       "      <th>guidislink</th>\n",
       "      <th>published</th>\n",
       "      <th>published_parsed</th>\n",
       "    </tr>\n",
       "  </thead>\n",
       "  <tbody>\n",
       "    <tr>\n",
       "      <th>0</th>\n",
       "      <td>Wie sich dieser erfolgreiche Luzerner Radiomac...</td>\n",
       "      <td>{'type': 'text/plain', 'language': None, 'base...</td>\n",
       "      <td>[{'rel': 'alternate', 'type': 'text/html', 'hr...</td>\n",
       "      <td>https://www.20min.ch/545851604537</td>\n",
       "      <td>Ueli Häfliger hat sich in Luzern einen Namen a...</td>\n",
       "      <td>{'type': 'text/html', 'language': None, 'base'...</td>\n",
       "      <td>https://www.20min.ch/story/wie-sich-dieser-erf...</td>\n",
       "      <td>False</td>\n",
       "      <td>2022-05-10 02:53:40+00:00</td>\n",
       "      <td>(2022, 5, 10, 2, 53, 40, 1, 130, 0)</td>\n",
       "    </tr>\n",
       "    <tr>\n",
       "      <th>1</th>\n",
       "      <td>«Polarstar»-Besitzer sucht Nachfolger für Revi...</td>\n",
       "      <td>{'type': 'text/plain', 'language': None, 'base...</td>\n",
       "      <td>[{'rel': 'alternate', 'type': 'text/html', 'hr...</td>\n",
       "      <td>https://www.20min.ch/730773678727</td>\n",
       "      <td>Schaumpartys, Fasnachtsbälle, viel Alkohol und...</td>\n",
       "      <td>{'type': 'text/html', 'language': None, 'base'...</td>\n",
       "      <td>https://www.20min.ch/story/polarstar-besitzer-...</td>\n",
       "      <td>False</td>\n",
       "      <td>2022-05-09 17:09:30+00:00</td>\n",
       "      <td>(2022, 5, 9, 17, 9, 30, 0, 129, 0)</td>\n",
       "    </tr>\n",
       "    <tr>\n",
       "      <th>2</th>\n",
       "      <td>Bei Enkeltrick-Betrügern klickten die Handsche...</td>\n",
       "      <td>{'type': 'text/plain', 'language': None, 'base...</td>\n",
       "      <td>[{'rel': 'alternate', 'type': 'text/html', 'hr...</td>\n",
       "      <td>https://www.20min.ch/577039134851</td>\n",
       "      <td>Bei einer geplanten Geldübergabe konnten zivil...</td>\n",
       "      <td>{'type': 'text/html', 'language': None, 'base'...</td>\n",
       "      <td>https://www.20min.ch/story/bei-enkeltrick-betr...</td>\n",
       "      <td>False</td>\n",
       "      <td>2022-05-09 15:44:54+00:00</td>\n",
       "      <td>(2022, 5, 9, 15, 44, 54, 0, 129, 0)</td>\n",
       "    </tr>\n",
       "  </tbody>\n",
       "</table>\n",
       "</div>"
      ],
      "text/plain": [
       "                                               title  \\\n",
       "0  Wie sich dieser erfolgreiche Luzerner Radiomac...   \n",
       "1  «Polarstar»-Besitzer sucht Nachfolger für Revi...   \n",
       "2  Bei Enkeltrick-Betrügern klickten die Handsche...   \n",
       "\n",
       "                                        title_detail  \\\n",
       "0  {'type': 'text/plain', 'language': None, 'base...   \n",
       "1  {'type': 'text/plain', 'language': None, 'base...   \n",
       "2  {'type': 'text/plain', 'language': None, 'base...   \n",
       "\n",
       "                                               links  \\\n",
       "0  [{'rel': 'alternate', 'type': 'text/html', 'hr...   \n",
       "1  [{'rel': 'alternate', 'type': 'text/html', 'hr...   \n",
       "2  [{'rel': 'alternate', 'type': 'text/html', 'hr...   \n",
       "\n",
       "                                link  \\\n",
       "0  https://www.20min.ch/545851604537   \n",
       "1  https://www.20min.ch/730773678727   \n",
       "2  https://www.20min.ch/577039134851   \n",
       "\n",
       "                                             summary  \\\n",
       "0  Ueli Häfliger hat sich in Luzern einen Namen a...   \n",
       "1  Schaumpartys, Fasnachtsbälle, viel Alkohol und...   \n",
       "2  Bei einer geplanten Geldübergabe konnten zivil...   \n",
       "\n",
       "                                      summary_detail  \\\n",
       "0  {'type': 'text/html', 'language': None, 'base'...   \n",
       "1  {'type': 'text/html', 'language': None, 'base'...   \n",
       "2  {'type': 'text/html', 'language': None, 'base'...   \n",
       "\n",
       "                                                  id  guidislink  \\\n",
       "0  https://www.20min.ch/story/wie-sich-dieser-erf...       False   \n",
       "1  https://www.20min.ch/story/polarstar-besitzer-...       False   \n",
       "2  https://www.20min.ch/story/bei-enkeltrick-betr...       False   \n",
       "\n",
       "                  published                     published_parsed  \n",
       "0 2022-05-10 02:53:40+00:00  (2022, 5, 10, 2, 53, 40, 1, 130, 0)  \n",
       "1 2022-05-09 17:09:30+00:00   (2022, 5, 9, 17, 9, 30, 0, 129, 0)  \n",
       "2 2022-05-09 15:44:54+00:00  (2022, 5, 9, 15, 44, 54, 0, 129, 0)  "
      ]
     },
     "execution_count": 95,
     "metadata": {},
     "output_type": "execute_result"
    }
   ],
   "source": [
    "# Compute temporary Pandas dataframe to further process beneath\n",
    "liverss_tmp_df = pd.DataFrame.from_dict(articles_to_keep, orient='columns')\n",
    "liverss_tmp_df['published'] = pd.to_datetime(liverss_tmp_df['published'])\n",
    "liverss_tmp_df.head()"
   ]
  },
  {
   "cell_type": "code",
   "execution_count": 96,
   "metadata": {},
   "outputs": [
    {
     "data": {
      "text/html": [
       "<div>\n",
       "<style scoped>\n",
       "    .dataframe tbody tr th:only-of-type {\n",
       "        vertical-align: middle;\n",
       "    }\n",
       "\n",
       "    .dataframe tbody tr th {\n",
       "        vertical-align: top;\n",
       "    }\n",
       "\n",
       "    .dataframe thead th {\n",
       "        text-align: right;\n",
       "    }\n",
       "</style>\n",
       "<table border=\"1\" class=\"dataframe\">\n",
       "  <thead>\n",
       "    <tr style=\"text-align: right;\">\n",
       "      <th></th>\n",
       "      <th>title</th>\n",
       "      <th>summary</th>\n",
       "      <th>author</th>\n",
       "      <th>is_com_or_sub</th>\n",
       "      <th>link</th>\n",
       "      <th>id</th>\n",
       "      <th>published</th>\n",
       "      <th>published_parsed</th>\n",
       "    </tr>\n",
       "  </thead>\n",
       "  <tbody>\n",
       "    <tr>\n",
       "      <th>0</th>\n",
       "      <td>Wie sich dieser erfolgreiche Luzerner Radiomac...</td>\n",
       "      <td>Ueli Häfliger hat sich in Luzern einen Namen a...</td>\n",
       "      <td></td>\n",
       "      <td>sub</td>\n",
       "      <td>https://www.20min.ch/545851604537</td>\n",
       "      <td>545851604537</td>\n",
       "      <td>2022-05-10 02:53:40+00:00</td>\n",
       "      <td>(2022, 5, 10, 2, 53, 40, 1, 130, 0)</td>\n",
       "    </tr>\n",
       "    <tr>\n",
       "      <th>1</th>\n",
       "      <td>«Polarstar»-Besitzer sucht Nachfolger für Revi...</td>\n",
       "      <td>Schaumpartys, Fasnachtsbälle, viel Alkohol und...</td>\n",
       "      <td></td>\n",
       "      <td>sub</td>\n",
       "      <td>https://www.20min.ch/730773678727</td>\n",
       "      <td>730773678727</td>\n",
       "      <td>2022-05-09 17:09:30+00:00</td>\n",
       "      <td>(2022, 5, 9, 17, 9, 30, 0, 129, 0)</td>\n",
       "    </tr>\n",
       "    <tr>\n",
       "      <th>2</th>\n",
       "      <td>Bei Enkeltrick-Betrügern klickten die Handsche...</td>\n",
       "      <td>Bei einer geplanten Geldübergabe konnten zivil...</td>\n",
       "      <td></td>\n",
       "      <td>sub</td>\n",
       "      <td>https://www.20min.ch/577039134851</td>\n",
       "      <td>577039134851</td>\n",
       "      <td>2022-05-09 15:44:54+00:00</td>\n",
       "      <td>(2022, 5, 9, 15, 44, 54, 0, 129, 0)</td>\n",
       "    </tr>\n",
       "  </tbody>\n",
       "</table>\n",
       "</div>"
      ],
      "text/plain": [
       "                                               title  \\\n",
       "0  Wie sich dieser erfolgreiche Luzerner Radiomac...   \n",
       "1  «Polarstar»-Besitzer sucht Nachfolger für Revi...   \n",
       "2  Bei Enkeltrick-Betrügern klickten die Handsche...   \n",
       "\n",
       "                                             summary author is_com_or_sub  \\\n",
       "0  Ueli Häfliger hat sich in Luzern einen Namen a...                  sub   \n",
       "1  Schaumpartys, Fasnachtsbälle, viel Alkohol und...                  sub   \n",
       "2  Bei einer geplanten Geldübergabe konnten zivil...                  sub   \n",
       "\n",
       "                                link            id                 published  \\\n",
       "0  https://www.20min.ch/545851604537  545851604537 2022-05-10 02:53:40+00:00   \n",
       "1  https://www.20min.ch/730773678727  730773678727 2022-05-09 17:09:30+00:00   \n",
       "2  https://www.20min.ch/577039134851  577039134851 2022-05-09 15:44:54+00:00   \n",
       "\n",
       "                      published_parsed  \n",
       "0  (2022, 5, 10, 2, 53, 40, 1, 130, 0)  \n",
       "1   (2022, 5, 9, 17, 9, 30, 0, 129, 0)  \n",
       "2  (2022, 5, 9, 15, 44, 54, 0, 129, 0)  "
      ]
     },
     "execution_count": 96,
     "metadata": {},
     "output_type": "execute_result"
    }
   ],
   "source": [
    "# Cleaning created dataframe of 20min liverss_tmp_df\n",
    "liverss_df = pd.DataFrame()\n",
    "liverss_df['title'] = liverss_tmp_df['title']\n",
    "liverss_df['summary'] = liverss_tmp_df['summary']\n",
    "liverss_df['author'] = ''\n",
    "liverss_df['is_com_or_sub'] = 'sub'\n",
    "liverss_df['link'] = liverss_tmp_df['link']\n",
    "liverss_df['id'] = liverss_tmp_df['id'].str[-12:]\n",
    "liverss_df['published'] = liverss_tmp_df['published']\n",
    "liverss_df['published_parsed'] = liverss_tmp_df['published_parsed']\n",
    "liverss_df.head()\n"
   ]
  },
  {
   "cell_type": "code",
   "execution_count": 97,
   "metadata": {},
   "outputs": [],
   "source": [
    "# Saving generated data to raw data folder\n",
    "liverss_df.to_csv(r'~/Desktop/SocialMediaMonitor/data/raw/liverss_20Min.csv', index = False)"
   ]
  },
  {
   "cell_type": "code",
   "execution_count": null,
   "metadata": {},
   "outputs": [],
   "source": []
  }
 ],
 "metadata": {
  "interpreter": {
   "hash": "df9854f134824b4a9d20392ff48a74b409a03849d7d2c715aea2797dbd12afaf"
  },
  "kernelspec": {
   "display_name": "Python 3 (ipykernel)",
   "language": "python",
   "name": "python3"
  },
  "language_info": {
   "codemirror_mode": {
    "name": "ipython",
    "version": 3
   },
   "file_extension": ".py",
   "mimetype": "text/x-python",
   "name": "python",
   "nbconvert_exporter": "python",
   "pygments_lexer": "ipython3",
   "version": "3.10.4"
  }
 },
 "nbformat": 4,
 "nbformat_minor": 4
}
