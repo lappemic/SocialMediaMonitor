{
 "cells": [
  {
   "cell_type": "markdown",
   "metadata": {},
   "source": [
    "Get the new articles of 20 minuten\n",
    "using their rss feed.\n",
    "Articles are considered as new if published after the last check date\n"
   ]
  },
  {
   "cell_type": "code",
   "execution_count": 2,
   "metadata": {},
   "outputs": [],
   "source": [
    "import pandas as pd\n",
    "import numpy as np\n",
    "import feedparser\n",
    "import datetime"
   ]
  },
  {
   "cell_type": "code",
   "execution_count": 3,
   "metadata": {},
   "outputs": [
    {
     "name": "stdout",
     "output_type": "stream",
     "text": [
      "Articles in feed : 31\n"
     ]
    }
   ],
   "source": [
    "# Get feed\n",
    "url = 'https://partner-feeds.20min.ch/rss/20minuten/zentralschweiz'\n",
    "feed = feedparser.parse(url)\n",
    "print(f\"Articles in feed : {len(feed.entries)}\")"
   ]
  },
  {
   "cell_type": "code",
   "execution_count": 4,
   "metadata": {},
   "outputs": [
    {
     "name": "stdout",
     "output_type": "stream",
     "text": [
      "New articles in feed since last check : 31\n"
     ]
    }
   ],
   "source": [
    "# Computing the newly aquired articles -> not used up to now (04.05.2022)\n",
    "articles_to_keep = []\n",
    "for entry in feed.entries:\n",
    "    entry_date = pd.to_datetime(entry.published)\n",
    "    #print(f\"Entry date : {entry_date}\")\n",
    "    articles_to_keep.append(entry)\n",
    "print(f\"New articles in feed since last check : {len(articles_to_keep)}\")"
   ]
  },
  {
   "cell_type": "code",
   "execution_count": 5,
   "metadata": {},
   "outputs": [],
   "source": [
    "# Compute a Pandas dataframe to write into luzern-zeitung-initialdataset\n",
    "liverss_df = pd.DataFrame.from_dict(articles_to_keep, orient='columns')\n",
    "liverss_df['published'] = pd.to_datetime(liverss_df['published'])"
   ]
  },
  {
   "cell_type": "code",
   "execution_count": 6,
   "metadata": {},
   "outputs": [],
   "source": [
    "# Saving generated data to raw data folder\n",
    "liverss_df.to_csv(r'~/SocialMediaMonitor/data/raw/liverss_20Min.csv', index = False)"
   ]
  },
  {
   "cell_type": "code",
   "execution_count": null,
   "metadata": {},
   "outputs": [],
   "source": []
  }
 ],
 "metadata": {
  "interpreter": {
   "hash": "df9854f134824b4a9d20392ff48a74b409a03849d7d2c715aea2797dbd12afaf"
  },
  "kernelspec": {
   "display_name": "Python 3.9.7 64-bit ('3.9.7')",
   "language": "python",
   "name": "python3"
  },
  "language_info": {
   "codemirror_mode": {
    "name": "ipython",
    "version": 3
   },
   "file_extension": ".py",
   "mimetype": "text/x-python",
   "name": "python",
   "nbconvert_exporter": "python",
   "pygments_lexer": "ipython3",
   "version": "3.8.8"
  },
  "orig_nbformat": 4
 },
 "nbformat": 4,
 "nbformat_minor": 2
}
