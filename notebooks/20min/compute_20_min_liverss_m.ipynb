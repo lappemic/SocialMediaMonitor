{
 "cells": [
  {
   "cell_type": "markdown",
   "metadata": {},
   "source": [
    "Get the new articles of 20 minuten\n",
    "using their rss feed.\n",
    "Articles are considered as new if published after the last check date\n"
   ]
  },
  {
   "cell_type": "code",
   "execution_count": 1,
   "metadata": {},
   "outputs": [],
   "source": [
    "import pandas as pd\n",
    "import numpy as np\n",
    "import feedparser\n",
    "import datetime"
   ]
  },
  {
   "cell_type": "code",
   "execution_count": 2,
   "metadata": {},
   "outputs": [
    {
     "name": "stdout",
     "output_type": "stream",
     "text": [
      "Articles in feed : 31\n"
     ]
    }
   ],
   "source": [
    "# Get feed\n",
    "url = 'https://partner-feeds.20min.ch/rss/20minuten/zentralschweiz'\n",
    "feed = feedparser.parse(url)\n",
    "print(f\"Articles in feed : {len(feed.entries)}\")"
   ]
  },
  {
   "cell_type": "code",
   "execution_count": 5,
   "metadata": {},
   "outputs": [
    {
     "name": "stdout",
     "output_type": "stream",
     "text": [
      "New articles in feed since last check : 31\n"
     ]
    }
   ],
   "source": [
    "# Computing the newly aquired articles -> not used up to now (04.05.2022)\n",
    "articles_to_keep = []\n",
    "for entry in feed.entries:\n",
    "    entry_date = pd.to_datetime(entry.published)\n",
    "    #print(f\"Entry date : {entry_date}\")\n",
    "    articles_to_keep.append(entry)\n",
    "print(f\"New articles in feed since last check : {len(articles_to_keep)}\")"
   ]
  },
  {
   "cell_type": "code",
   "execution_count": 7,
   "metadata": {},
   "outputs": [
    {
     "data": {
      "text/html": [
       "<div>\n",
       "<style scoped>\n",
       "    .dataframe tbody tr th:only-of-type {\n",
       "        vertical-align: middle;\n",
       "    }\n",
       "\n",
       "    .dataframe tbody tr th {\n",
       "        vertical-align: top;\n",
       "    }\n",
       "\n",
       "    .dataframe thead th {\n",
       "        text-align: right;\n",
       "    }\n",
       "</style>\n",
       "<table border=\"1\" class=\"dataframe\">\n",
       "  <thead>\n",
       "    <tr style=\"text-align: right;\">\n",
       "      <th></th>\n",
       "      <th>title</th>\n",
       "      <th>title_detail</th>\n",
       "      <th>links</th>\n",
       "      <th>link</th>\n",
       "      <th>summary</th>\n",
       "      <th>summary_detail</th>\n",
       "      <th>id</th>\n",
       "      <th>guidislink</th>\n",
       "      <th>published</th>\n",
       "      <th>published_parsed</th>\n",
       "    </tr>\n",
       "  </thead>\n",
       "  <tbody>\n",
       "    <tr>\n",
       "      <th>0</th>\n",
       "      <td>Diese Software soll der Luzerner Polizei helfe...</td>\n",
       "      <td>{'type': 'text/plain', 'language': None, 'base...</td>\n",
       "      <td>[{'rel': 'alternate', 'type': 'text/html', 'hr...</td>\n",
       "      <td>https://www.20min.ch/289491498116</td>\n",
       "      <td>Predictive Policing ist das Schlagwort der (Po...</td>\n",
       "      <td>{'type': 'text/html', 'language': None, 'base'...</td>\n",
       "      <td>https://www.20min.ch/story/diese-software-soll...</td>\n",
       "      <td>False</td>\n",
       "      <td>2022-05-04 02:54:29+00:00</td>\n",
       "      <td>(2022, 5, 4, 2, 54, 29, 2, 124, 0)</td>\n",
       "    </tr>\n",
       "    <tr>\n",
       "      <th>1</th>\n",
       "      <td>Autofahrer (55) bremst fahrunfähig mehrere Fah...</td>\n",
       "      <td>{'type': 'text/plain', 'language': None, 'base...</td>\n",
       "      <td>[{'rel': 'alternate', 'type': 'text/html', 'hr...</td>\n",
       "      <td>https://www.20min.ch/489523312923</td>\n",
       "      <td>Die Luzerner Polizei verhaftete in den letzten...</td>\n",
       "      <td>{'type': 'text/html', 'language': None, 'base'...</td>\n",
       "      <td>https://www.20min.ch/story/autofahrer-55-brems...</td>\n",
       "      <td>False</td>\n",
       "      <td>2022-05-03 08:42:14+00:00</td>\n",
       "      <td>(2022, 5, 3, 8, 42, 14, 1, 123, 0)</td>\n",
       "    </tr>\n",
       "    <tr>\n",
       "      <th>2</th>\n",
       "      <td>Es mangelt an Interessenten für Immobilien auf...</td>\n",
       "      <td>{'type': 'text/plain', 'language': None, 'base...</td>\n",
       "      <td>[{'rel': 'alternate', 'type': 'text/html', 'hr...</td>\n",
       "      <td>https://www.20min.ch/424914714985</td>\n",
       "      <td>Neu gebaute Wohnungen und Villen auf dem Bürge...</td>\n",
       "      <td>{'type': 'text/html', 'language': None, 'base'...</td>\n",
       "      <td>https://www.20min.ch/story/es-mangelt-an-inter...</td>\n",
       "      <td>False</td>\n",
       "      <td>2022-05-02 19:48:46+00:00</td>\n",
       "      <td>(2022, 5, 2, 19, 48, 46, 0, 122, 0)</td>\n",
       "    </tr>\n",
       "    <tr>\n",
       "      <th>3</th>\n",
       "      <td>So haben die Einsatzkräfte die Zuger Meisterna...</td>\n",
       "      <td>{'type': 'text/plain', 'language': None, 'base...</td>\n",
       "      <td>[{'rel': 'alternate', 'type': 'text/html', 'hr...</td>\n",
       "      <td>https://www.20min.ch/489822661522</td>\n",
       "      <td>Der EVZ hat die Serie gedreht und ist erneut S...</td>\n",
       "      <td>{'type': 'text/html', 'language': None, 'base'...</td>\n",
       "      <td>https://www.20min.ch/story/so-haben-die-einsat...</td>\n",
       "      <td>False</td>\n",
       "      <td>2022-05-02 17:45:54+00:00</td>\n",
       "      <td>(2022, 5, 2, 17, 45, 54, 0, 122, 0)</td>\n",
       "    </tr>\n",
       "    <tr>\n",
       "      <th>4</th>\n",
       "      <td>Warum der Kanton Luzern jetzt wieder auf Ampel...</td>\n",
       "      <td>{'type': 'text/plain', 'language': None, 'base...</td>\n",
       "      <td>[{'rel': 'alternate', 'type': 'text/html', 'hr...</td>\n",
       "      <td>https://www.20min.ch/822583307055</td>\n",
       "      <td>Lange galten sie als die Lösung der Schweizer ...</td>\n",
       "      <td>{'type': 'text/html', 'language': None, 'base'...</td>\n",
       "      <td>https://www.20min.ch/story/warum-der-kanton-lu...</td>\n",
       "      <td>False</td>\n",
       "      <td>2022-05-02 03:06:41+00:00</td>\n",
       "      <td>(2022, 5, 2, 3, 6, 41, 0, 122, 0)</td>\n",
       "    </tr>\n",
       "  </tbody>\n",
       "</table>\n",
       "</div>"
      ],
      "text/plain": [
       "                                               title  \\\n",
       "0  Diese Software soll der Luzerner Polizei helfe...   \n",
       "1  Autofahrer (55) bremst fahrunfähig mehrere Fah...   \n",
       "2  Es mangelt an Interessenten für Immobilien auf...   \n",
       "3  So haben die Einsatzkräfte die Zuger Meisterna...   \n",
       "4  Warum der Kanton Luzern jetzt wieder auf Ampel...   \n",
       "\n",
       "                                        title_detail  \\\n",
       "0  {'type': 'text/plain', 'language': None, 'base...   \n",
       "1  {'type': 'text/plain', 'language': None, 'base...   \n",
       "2  {'type': 'text/plain', 'language': None, 'base...   \n",
       "3  {'type': 'text/plain', 'language': None, 'base...   \n",
       "4  {'type': 'text/plain', 'language': None, 'base...   \n",
       "\n",
       "                                               links  \\\n",
       "0  [{'rel': 'alternate', 'type': 'text/html', 'hr...   \n",
       "1  [{'rel': 'alternate', 'type': 'text/html', 'hr...   \n",
       "2  [{'rel': 'alternate', 'type': 'text/html', 'hr...   \n",
       "3  [{'rel': 'alternate', 'type': 'text/html', 'hr...   \n",
       "4  [{'rel': 'alternate', 'type': 'text/html', 'hr...   \n",
       "\n",
       "                                link  \\\n",
       "0  https://www.20min.ch/289491498116   \n",
       "1  https://www.20min.ch/489523312923   \n",
       "2  https://www.20min.ch/424914714985   \n",
       "3  https://www.20min.ch/489822661522   \n",
       "4  https://www.20min.ch/822583307055   \n",
       "\n",
       "                                             summary  \\\n",
       "0  Predictive Policing ist das Schlagwort der (Po...   \n",
       "1  Die Luzerner Polizei verhaftete in den letzten...   \n",
       "2  Neu gebaute Wohnungen und Villen auf dem Bürge...   \n",
       "3  Der EVZ hat die Serie gedreht und ist erneut S...   \n",
       "4  Lange galten sie als die Lösung der Schweizer ...   \n",
       "\n",
       "                                      summary_detail  \\\n",
       "0  {'type': 'text/html', 'language': None, 'base'...   \n",
       "1  {'type': 'text/html', 'language': None, 'base'...   \n",
       "2  {'type': 'text/html', 'language': None, 'base'...   \n",
       "3  {'type': 'text/html', 'language': None, 'base'...   \n",
       "4  {'type': 'text/html', 'language': None, 'base'...   \n",
       "\n",
       "                                                  id  guidislink  \\\n",
       "0  https://www.20min.ch/story/diese-software-soll...       False   \n",
       "1  https://www.20min.ch/story/autofahrer-55-brems...       False   \n",
       "2  https://www.20min.ch/story/es-mangelt-an-inter...       False   \n",
       "3  https://www.20min.ch/story/so-haben-die-einsat...       False   \n",
       "4  https://www.20min.ch/story/warum-der-kanton-lu...       False   \n",
       "\n",
       "                  published                     published_parsed  \n",
       "0 2022-05-04 02:54:29+00:00   (2022, 5, 4, 2, 54, 29, 2, 124, 0)  \n",
       "1 2022-05-03 08:42:14+00:00   (2022, 5, 3, 8, 42, 14, 1, 123, 0)  \n",
       "2 2022-05-02 19:48:46+00:00  (2022, 5, 2, 19, 48, 46, 0, 122, 0)  \n",
       "3 2022-05-02 17:45:54+00:00  (2022, 5, 2, 17, 45, 54, 0, 122, 0)  \n",
       "4 2022-05-02 03:06:41+00:00    (2022, 5, 2, 3, 6, 41, 0, 122, 0)  "
      ]
     },
     "execution_count": 7,
     "metadata": {},
     "output_type": "execute_result"
    }
   ],
   "source": [
    "# Compute a Pandas dataframe to write into luzern-zeitung-initialdataset\n",
    "liverss_df = pd.DataFrame.from_dict(articles_to_keep, orient='columns')\n",
    "liverss_df['published'] = pd.to_datetime(liverss_df['published'])"
   ]
  },
  {
   "cell_type": "code",
   "execution_count": 8,
   "metadata": {},
   "outputs": [],
   "source": [
    "# Saving generated data to raw data folder\n",
    "liverss_df.to_csv(r'~/SocialMediaMonitor/data/raw/liverss_20Min.csv', index = True)"
   ]
  }
 ],
 "metadata": {
  "interpreter": {
   "hash": "df9854f134824b4a9d20392ff48a74b409a03849d7d2c715aea2797dbd12afaf"
  },
  "kernelspec": {
   "display_name": "Python 3.9.7 64-bit ('3.9.7')",
   "language": "python",
   "name": "python3"
  },
  "language_info": {
   "codemirror_mode": {
    "name": "ipython",
    "version": 3
   },
   "file_extension": ".py",
   "mimetype": "text/x-python",
   "name": "python",
   "nbconvert_exporter": "python",
   "pygments_lexer": "ipython3",
   "version": "3.8.8"
  },
  "orig_nbformat": 4
 },
 "nbformat": 4,
 "nbformat_minor": 2
}
