{
 "cells": [
  {
   "cell_type": "markdown",
   "metadata": {},
   "source": [
    "Get the new articles of 20 minuten\n",
    "using their rss feed.\n",
    "Articles are considered as new if published after the last check date\n"
   ]
  },
  {
   "cell_type": "code",
   "execution_count": 84,
   "metadata": {},
   "outputs": [],
   "source": [
    "import pandas as pd\n",
    "import numpy as np\n",
    "import feedparser\n",
    "import datetime\n",
    "import pathlib"
   ]
  },
  {
   "cell_type": "code",
   "execution_count": 85,
   "metadata": {},
   "outputs": [
    {
     "name": "stdout",
     "output_type": "stream",
     "text": [
      "Articles in feed : 31\n"
     ]
    }
   ],
   "source": [
    "# Get feed\n",
    "url = 'https://partner-feeds.20min.ch/rss/20minuten/zentralschweiz'\n",
    "feed = feedparser.parse(url)\n",
    "print(f\"Articles in feed : {len(feed.entries)}\")"
   ]
  },
  {
   "cell_type": "code",
   "execution_count": 86,
   "metadata": {},
   "outputs": [
    {
     "data": {
      "text/plain": [
       "Timestamp('2022-05-08 17:31:24+0000', tz='UTC')"
      ]
     },
     "execution_count": 86,
     "metadata": {},
     "output_type": "execute_result"
    }
   ],
   "source": [
    "# Get last check date from global last_check_articles_20min\n",
    "# liverss_and_coms_path = pathlib.Path.home() / 'Desktop' / 'SocialMediaMonitor' / 'data' / 'raw' / 'liverss_and_coms_20min.csv'\n",
    "liverss_and_coms_path = '~/Desktop/SocialMediaMonitor/data/raw/liverss_and_coms_20min.csv'\n",
    "liverss_and_coms_df = pd.read_csv(liverss_and_coms_path)\n",
    "last_check_articles_20min = pd.to_datetime(liverss_and_coms_df['published'].max())\n",
    "last_check_articles_20min"
   ]
  },
  {
   "cell_type": "code",
   "execution_count": 87,
   "metadata": {},
   "outputs": [
    {
     "name": "stdout",
     "output_type": "stream",
     "text": [
      "New articles in feed since last check : 3\n"
     ]
    }
   ],
   "source": [
    "# Computing the newly aquired articles -> not used up to now (04.05.2022)\n",
    "articles_to_keep = []\n",
    "for entry in feed.entries:\n",
    "    entry_date = pd.to_datetime(entry.published)\n",
    "    # print(f\"Entry date : {entry_date}\")\n",
    "    if last_check_articles_20min < entry_date:\n",
    "        articles_to_keep.append(entry)\n",
    "print(f\"New articles in feed since last check : {len(articles_to_keep)}\")"
   ]
  },
  {
   "cell_type": "code",
   "execution_count": 88,
   "metadata": {},
   "outputs": [
    {
     "data": {
      "text/html": [
       "<div>\n",
       "<style scoped>\n",
       "    .dataframe tbody tr th:only-of-type {\n",
       "        vertical-align: middle;\n",
       "    }\n",
       "\n",
       "    .dataframe tbody tr th {\n",
       "        vertical-align: top;\n",
       "    }\n",
       "\n",
       "    .dataframe thead th {\n",
       "        text-align: right;\n",
       "    }\n",
       "</style>\n",
       "<table border=\"1\" class=\"dataframe\">\n",
       "  <thead>\n",
       "    <tr style=\"text-align: right;\">\n",
       "      <th></th>\n",
       "      <th>title</th>\n",
       "      <th>title_detail</th>\n",
       "      <th>links</th>\n",
       "      <th>link</th>\n",
       "      <th>summary</th>\n",
       "      <th>summary_detail</th>\n",
       "      <th>id</th>\n",
       "      <th>guidislink</th>\n",
       "      <th>published</th>\n",
       "      <th>published_parsed</th>\n",
       "    </tr>\n",
       "  </thead>\n",
       "  <tbody>\n",
       "    <tr>\n",
       "      <th>0</th>\n",
       "      <td>Wie sich dieser erfolgreiche Luzerner Radiomac...</td>\n",
       "      <td>{'type': 'text/plain', 'language': None, 'base...</td>\n",
       "      <td>[{'rel': 'alternate', 'type': 'text/html', 'hr...</td>\n",
       "      <td>https://www.20min.ch/545851604537</td>\n",
       "      <td>Ueli Häfliger hat sich in Luzern einen Namen a...</td>\n",
       "      <td>{'type': 'text/html', 'language': None, 'base'...</td>\n",
       "      <td>https://www.20min.ch/story/wie-sich-dieser-erf...</td>\n",
       "      <td>False</td>\n",
       "      <td>2022-05-10 02:53:40+00:00</td>\n",
       "      <td>(2022, 5, 10, 2, 53, 40, 1, 130, 0)</td>\n",
       "    </tr>\n",
       "    <tr>\n",
       "      <th>1</th>\n",
       "      <td>«Polarstar»-Besitzer sucht Nachfolger für Revi...</td>\n",
       "      <td>{'type': 'text/plain', 'language': None, 'base...</td>\n",
       "      <td>[{'rel': 'alternate', 'type': 'text/html', 'hr...</td>\n",
       "      <td>https://www.20min.ch/730773678727</td>\n",
       "      <td>Schaumpartys, Fasnachtsbälle, viel Alkohol und...</td>\n",
       "      <td>{'type': 'text/html', 'language': None, 'base'...</td>\n",
       "      <td>https://www.20min.ch/story/polarstar-besitzer-...</td>\n",
       "      <td>False</td>\n",
       "      <td>2022-05-09 17:09:30+00:00</td>\n",
       "      <td>(2022, 5, 9, 17, 9, 30, 0, 129, 0)</td>\n",
       "    </tr>\n",
       "    <tr>\n",
       "      <th>2</th>\n",
       "      <td>Bei Enkeltrick-Betrügern klickten die Handsche...</td>\n",
       "      <td>{'type': 'text/plain', 'language': None, 'base...</td>\n",
       "      <td>[{'rel': 'alternate', 'type': 'text/html', 'hr...</td>\n",
       "      <td>https://www.20min.ch/577039134851</td>\n",
       "      <td>Bei einer geplanten Geldübergabe konnten zivil...</td>\n",
       "      <td>{'type': 'text/html', 'language': None, 'base'...</td>\n",
       "      <td>https://www.20min.ch/story/bei-enkeltrick-betr...</td>\n",
       "      <td>False</td>\n",
       "      <td>2022-05-09 15:44:54+00:00</td>\n",
       "      <td>(2022, 5, 9, 15, 44, 54, 0, 129, 0)</td>\n",
       "    </tr>\n",
       "  </tbody>\n",
       "</table>\n",
       "</div>"
      ],
      "text/plain": [
       "                                               title  \\\n",
       "0  Wie sich dieser erfolgreiche Luzerner Radiomac...   \n",
       "1  «Polarstar»-Besitzer sucht Nachfolger für Revi...   \n",
       "2  Bei Enkeltrick-Betrügern klickten die Handsche...   \n",
       "\n",
       "                                        title_detail  \\\n",
       "0  {'type': 'text/plain', 'language': None, 'base...   \n",
       "1  {'type': 'text/plain', 'language': None, 'base...   \n",
       "2  {'type': 'text/plain', 'language': None, 'base...   \n",
       "\n",
       "                                               links  \\\n",
       "0  [{'rel': 'alternate', 'type': 'text/html', 'hr...   \n",
       "1  [{'rel': 'alternate', 'type': 'text/html', 'hr...   \n",
       "2  [{'rel': 'alternate', 'type': 'text/html', 'hr...   \n",
       "\n",
       "                                link  \\\n",
       "0  https://www.20min.ch/545851604537   \n",
       "1  https://www.20min.ch/730773678727   \n",
       "2  https://www.20min.ch/577039134851   \n",
       "\n",
       "                                             summary  \\\n",
       "0  Ueli Häfliger hat sich in Luzern einen Namen a...   \n",
       "1  Schaumpartys, Fasnachtsbälle, viel Alkohol und...   \n",
       "2  Bei einer geplanten Geldübergabe konnten zivil...   \n",
       "\n",
       "                                      summary_detail  \\\n",
       "0  {'type': 'text/html', 'language': None, 'base'...   \n",
       "1  {'type': 'text/html', 'language': None, 'base'...   \n",
       "2  {'type': 'text/html', 'language': None, 'base'...   \n",
       "\n",
       "                                                  id  guidislink  \\\n",
       "0  https://www.20min.ch/story/wie-sich-dieser-erf...       False   \n",
       "1  https://www.20min.ch/story/polarstar-besitzer-...       False   \n",
       "2  https://www.20min.ch/story/bei-enkeltrick-betr...       False   \n",
       "\n",
       "                  published                     published_parsed  \n",
       "0 2022-05-10 02:53:40+00:00  (2022, 5, 10, 2, 53, 40, 1, 130, 0)  \n",
       "1 2022-05-09 17:09:30+00:00   (2022, 5, 9, 17, 9, 30, 0, 129, 0)  \n",
       "2 2022-05-09 15:44:54+00:00  (2022, 5, 9, 15, 44, 54, 0, 129, 0)  "
      ]
     },
     "execution_count": 88,
     "metadata": {},
     "output_type": "execute_result"
    }
   ],
   "source": [
    "# Compute temporary Pandas dataframe to further process beneath\n",
    "liverss_tmp_df = pd.DataFrame.from_dict(articles_to_keep, orient='columns')\n",
    "liverss_tmp_df['published'] = pd.to_datetime(liverss_tmp_df['published'])\n",
    "liverss_tmp_df.head()"
   ]
  },
  {
   "cell_type": "code",
   "execution_count": 89,
   "metadata": {},
   "outputs": [
    {
     "data": {
      "text/html": [
       "<div>\n",
       "<style scoped>\n",
       "    .dataframe tbody tr th:only-of-type {\n",
       "        vertical-align: middle;\n",
       "    }\n",
       "\n",
       "    .dataframe tbody tr th {\n",
       "        vertical-align: top;\n",
       "    }\n",
       "\n",
       "    .dataframe thead th {\n",
       "        text-align: right;\n",
       "    }\n",
       "</style>\n",
       "<table border=\"1\" class=\"dataframe\">\n",
       "  <thead>\n",
       "    <tr style=\"text-align: right;\">\n",
       "      <th></th>\n",
       "      <th>title</th>\n",
       "      <th>summary</th>\n",
       "      <th>author</th>\n",
       "      <th>is_com_or_sub</th>\n",
       "      <th>link</th>\n",
       "      <th>id</th>\n",
       "      <th>published</th>\n",
       "      <th>published_parsed</th>\n",
       "    </tr>\n",
       "  </thead>\n",
       "  <tbody>\n",
       "    <tr>\n",
       "      <th>0</th>\n",
       "      <td>Wie sich dieser erfolgreiche Luzerner Radiomac...</td>\n",
       "      <td>Ueli Häfliger hat sich in Luzern einen Namen a...</td>\n",
       "      <td></td>\n",
       "      <td>sub</td>\n",
       "      <td>https://www.20min.ch/545851604537</td>\n",
       "      <td>545851604537</td>\n",
       "      <td>2022-05-10 02:53:40+00:00</td>\n",
       "      <td>(2022, 5, 10, 2, 53, 40, 1, 130, 0)</td>\n",
       "    </tr>\n",
       "    <tr>\n",
       "      <th>1</th>\n",
       "      <td>«Polarstar»-Besitzer sucht Nachfolger für Revi...</td>\n",
       "      <td>Schaumpartys, Fasnachtsbälle, viel Alkohol und...</td>\n",
       "      <td></td>\n",
       "      <td>sub</td>\n",
       "      <td>https://www.20min.ch/730773678727</td>\n",
       "      <td>730773678727</td>\n",
       "      <td>2022-05-09 17:09:30+00:00</td>\n",
       "      <td>(2022, 5, 9, 17, 9, 30, 0, 129, 0)</td>\n",
       "    </tr>\n",
       "    <tr>\n",
       "      <th>2</th>\n",
       "      <td>Bei Enkeltrick-Betrügern klickten die Handsche...</td>\n",
       "      <td>Bei einer geplanten Geldübergabe konnten zivil...</td>\n",
       "      <td></td>\n",
       "      <td>sub</td>\n",
       "      <td>https://www.20min.ch/577039134851</td>\n",
       "      <td>577039134851</td>\n",
       "      <td>2022-05-09 15:44:54+00:00</td>\n",
       "      <td>(2022, 5, 9, 15, 44, 54, 0, 129, 0)</td>\n",
       "    </tr>\n",
       "  </tbody>\n",
       "</table>\n",
       "</div>"
      ],
      "text/plain": [
       "                                               title  \\\n",
       "0  Wie sich dieser erfolgreiche Luzerner Radiomac...   \n",
       "1  «Polarstar»-Besitzer sucht Nachfolger für Revi...   \n",
       "2  Bei Enkeltrick-Betrügern klickten die Handsche...   \n",
       "\n",
       "                                             summary author is_com_or_sub  \\\n",
       "0  Ueli Häfliger hat sich in Luzern einen Namen a...                  sub   \n",
       "1  Schaumpartys, Fasnachtsbälle, viel Alkohol und...                  sub   \n",
       "2  Bei einer geplanten Geldübergabe konnten zivil...                  sub   \n",
       "\n",
       "                                link            id                 published  \\\n",
       "0  https://www.20min.ch/545851604537  545851604537 2022-05-10 02:53:40+00:00   \n",
       "1  https://www.20min.ch/730773678727  730773678727 2022-05-09 17:09:30+00:00   \n",
       "2  https://www.20min.ch/577039134851  577039134851 2022-05-09 15:44:54+00:00   \n",
       "\n",
       "                      published_parsed  \n",
       "0  (2022, 5, 10, 2, 53, 40, 1, 130, 0)  \n",
       "1   (2022, 5, 9, 17, 9, 30, 0, 129, 0)  \n",
       "2  (2022, 5, 9, 15, 44, 54, 0, 129, 0)  "
      ]
     },
     "execution_count": 89,
     "metadata": {},
     "output_type": "execute_result"
    }
   ],
   "source": [
    "# Cleaning created dataframe of 20min liverss_tmp_df\n",
    "liverss_df = pd.DataFrame()\n",
    "liverss_df['title'] = liverss_tmp_df['title']\n",
    "liverss_df['summary'] = liverss_tmp_df['summary']\n",
    "liverss_df['author'] = ''\n",
    "liverss_df['is_com_or_sub'] = 'sub'\n",
    "liverss_df['link'] = liverss_tmp_df['link']\n",
    "liverss_df['id'] = liverss_tmp_df['id'].str[-12:]\n",
    "liverss_df['published'] = liverss_tmp_df['published']\n",
    "liverss_df['published_parsed'] = liverss_tmp_df['published_parsed']\n",
    "liverss_df.head()\n"
   ]
  },
  {
   "cell_type": "code",
   "execution_count": 90,
   "metadata": {},
   "outputs": [],
   "source": [
    "# Saving generated data to raw data folder\n",
    "liverss_df.to_csv(r'~/Desktop/SocialMediaMonitor/data/raw/liverss_20Min.csv', index = False)"
   ]
  },
  {
   "cell_type": "code",
   "execution_count": null,
   "metadata": {},
   "outputs": [],
   "source": []
  }
 ],
 "metadata": {
  "interpreter": {
   "hash": "df9854f134824b4a9d20392ff48a74b409a03849d7d2c715aea2797dbd12afaf"
  },
  "kernelspec": {
   "display_name": "Python 3 (ipykernel)",
   "language": "python",
   "name": "python3"
  },
  "language_info": {
   "codemirror_mode": {
    "name": "ipython",
    "version": 3
   },
   "file_extension": ".py",
   "mimetype": "text/x-python",
   "name": "python",
   "nbconvert_exporter": "python",
   "pygments_lexer": "ipython3",
   "version": "3.10.4"
  }
 },
 "nbformat": 4,
 "nbformat_minor": 4
}
