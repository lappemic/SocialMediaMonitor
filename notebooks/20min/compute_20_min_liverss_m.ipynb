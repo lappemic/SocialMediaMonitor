{
 "cells": [
  {
   "cell_type": "markdown",
   "metadata": {},
   "source": [
    "Get the new articles of 20 minuten\n",
    "using their rss feed.\n",
    "Articles are considered as new if published after the last check date\n"
   ]
  },
  {
   "cell_type": "code",
   "execution_count": 35,
   "metadata": {},
   "outputs": [],
   "source": [
    "import pandas as pd\n",
    "import numpy as np\n",
    "import feedparser\n",
    "import datetime\n",
    "import pathlib"
   ]
  },
  {
   "cell_type": "code",
   "execution_count": 39,
   "metadata": {},
   "outputs": [
    {
     "name": "stdout",
     "output_type": "stream",
     "text": [
      "Articles in feed : 31\n"
     ]
    }
   ],
   "source": [
    "# Get feed\n",
    "url = 'https://partner-feeds.20min.ch/rss/20minuten/zentralschweiz'\n",
    "feed = feedparser.parse(url)\n",
    "print(f\"Articles in feed : {len(feed.entries)}\")"
   ]
  },
  {
   "cell_type": "code",
   "execution_count": 37,
   "metadata": {},
   "outputs": [
    {
     "data": {
      "text/plain": [
       "Timestamp('2022-05-04 02:54:29+0000', tz='UTC')"
      ]
     },
     "execution_count": 37,
     "metadata": {},
     "output_type": "execute_result"
    }
   ],
   "source": [
    "# Get last check date from global last_check_articles_20min\n",
    "# liverss_and_coms_path = pathlib.Path.home() / 'Desktop' / 'SocialMediaMonitor' / 'data' / 'raw' / 'liverss_and_coms_20min.csv'\n",
    "liverss_and_coms_path = '~/Desktop/SocialMediaMonitor/data/raw/liverss_and_coms_20min.csv'\n",
    "liverss_and_coms_df = pd.read_csv(liverss_and_coms_path)\n",
    "last_check_articles_20min = pd.to_datetime(liverss_and_coms_df['published'].max())\n",
    "last_check_articles_20min"
   ]
  },
  {
   "cell_type": "code",
   "execution_count": 32,
   "metadata": {},
   "outputs": [
    {
     "name": "stdout",
     "output_type": "stream",
     "text": [
      "New articles in feed since last check : 8\n"
     ]
    }
   ],
   "source": [
    "# Computing the newly aquired articles -> not used up to now (04.05.2022)\n",
    "articles_to_keep = []\n",
    "for entry in feed.entries:\n",
    "    entry_date = pd.to_datetime(entry.published)\n",
    "    # print(f\"Entry date : {entry_date}\")\n",
    "    if last_check_articles_20min < entry_date:\n",
    "        articles_to_keep.append(entry)\n",
    "print(f\"New articles in feed since last check : {len(articles_to_keep)}\")"
   ]
  },
  {
   "cell_type": "code",
   "execution_count": 40,
   "metadata": {},
   "outputs": [
    {
     "data": {
      "text/html": [
       "<div>\n",
       "<style scoped>\n",
       "    .dataframe tbody tr th:only-of-type {\n",
       "        vertical-align: middle;\n",
       "    }\n",
       "\n",
       "    .dataframe tbody tr th {\n",
       "        vertical-align: top;\n",
       "    }\n",
       "\n",
       "    .dataframe thead th {\n",
       "        text-align: right;\n",
       "    }\n",
       "</style>\n",
       "<table border=\"1\" class=\"dataframe\">\n",
       "  <thead>\n",
       "    <tr style=\"text-align: right;\">\n",
       "      <th></th>\n",
       "      <th>title</th>\n",
       "      <th>title_detail</th>\n",
       "      <th>links</th>\n",
       "      <th>link</th>\n",
       "      <th>summary</th>\n",
       "      <th>summary_detail</th>\n",
       "      <th>id</th>\n",
       "      <th>guidislink</th>\n",
       "      <th>published</th>\n",
       "      <th>published_parsed</th>\n",
       "    </tr>\n",
       "  </thead>\n",
       "  <tbody>\n",
       "    <tr>\n",
       "      <th>0</th>\n",
       "      <td>Servette-Imeri fliegt innert einer Minute mit ...</td>\n",
       "      <td>{'type': 'text/plain', 'language': None, 'base...</td>\n",
       "      <td>[{'rel': 'alternate', 'type': 'text/html', 'hr...</td>\n",
       "      <td>https://www.20min.ch/811526744044</td>\n",
       "      <td>Der FC Luzern darf sich wieder Hoffnungen auf ...</td>\n",
       "      <td>{'type': 'text/html', 'language': None, 'base'...</td>\n",
       "      <td>https://www.20min.ch/video/servette-imeri-flie...</td>\n",
       "      <td>False</td>\n",
       "      <td>2022-05-08 17:31:24+00:00</td>\n",
       "      <td>(2022, 5, 8, 17, 31, 24, 6, 128, 0)</td>\n",
       "    </tr>\n",
       "    <tr>\n",
       "      <th>1</th>\n",
       "      <td>In steilem Gelände – Ortsunkundiger Fahrer ver...</td>\n",
       "      <td>{'type': 'text/plain', 'language': None, 'base...</td>\n",
       "      <td>[{'rel': 'alternate', 'type': 'text/html', 'hr...</td>\n",
       "      <td>https://www.20min.ch/897536422260</td>\n",
       "      <td>Verbrechen, Unfälle und Fahndungen: Die neuest...</td>\n",
       "      <td>{'type': 'text/html', 'language': None, 'base'...</td>\n",
       "      <td>https://www.20min.ch/story/polizei-deckt-gross...</td>\n",
       "      <td>False</td>\n",
       "      <td>2022-05-08 10:17:25+00:00</td>\n",
       "      <td>(2022, 5, 8, 10, 17, 25, 6, 128, 0)</td>\n",
       "    </tr>\n",
       "    <tr>\n",
       "      <th>2</th>\n",
       "      <td>Stadtfest will auf Bargeld verzichten – und lö...</td>\n",
       "      <td>{'type': 'text/plain', 'language': None, 'base...</td>\n",
       "      <td>[{'rel': 'alternate', 'type': 'text/html', 'hr...</td>\n",
       "      <td>https://www.20min.ch/402438287701</td>\n",
       "      <td>Das Stadtfest soll dieses Jahr bargeldlos stat...</td>\n",
       "      <td>{'type': 'text/html', 'language': None, 'base'...</td>\n",
       "      <td>https://www.20min.ch/story/stadtfest-will-auf-...</td>\n",
       "      <td>False</td>\n",
       "      <td>2022-05-07 16:22:44+00:00</td>\n",
       "      <td>(2022, 5, 7, 16, 22, 44, 5, 127, 0)</td>\n",
       "    </tr>\n",
       "    <tr>\n",
       "      <th>3</th>\n",
       "      <td>Mann kauft 91 Unfallautos, bezahlt sie nicht u...</td>\n",
       "      <td>{'type': 'text/plain', 'language': None, 'base...</td>\n",
       "      <td>[{'rel': 'alternate', 'type': 'text/html', 'hr...</td>\n",
       "      <td>https://www.20min.ch/709927065041</td>\n",
       "      <td>Fast 100 Autos kaufte ein Mann und bezahlte si...</td>\n",
       "      <td>{'type': 'text/html', 'language': None, 'base'...</td>\n",
       "      <td>https://www.20min.ch/story/mann-kauft-91-unfal...</td>\n",
       "      <td>False</td>\n",
       "      <td>2022-05-06 02:46:56+00:00</td>\n",
       "      <td>(2022, 5, 6, 2, 46, 56, 4, 126, 0)</td>\n",
       "    </tr>\n",
       "    <tr>\n",
       "      <th>4</th>\n",
       "      <td>«Ich würde nicht mehr zu viel Geld in neue Amp...</td>\n",
       "      <td>{'type': 'text/plain', 'language': None, 'base...</td>\n",
       "      <td>[{'rel': 'alternate', 'type': 'text/html', 'hr...</td>\n",
       "      <td>https://www.20min.ch/139019297679</td>\n",
       "      <td>Die Leserinnen und Leser möchten die Luzerner ...</td>\n",
       "      <td>{'type': 'text/html', 'language': None, 'base'...</td>\n",
       "      <td>https://www.20min.ch/story/ich-wuerde-nicht-me...</td>\n",
       "      <td>False</td>\n",
       "      <td>2022-05-05 18:39:26+00:00</td>\n",
       "      <td>(2022, 5, 5, 18, 39, 26, 3, 125, 0)</td>\n",
       "    </tr>\n",
       "  </tbody>\n",
       "</table>\n",
       "</div>"
      ],
      "text/plain": [
       "                                               title  \\\n",
       "0  Servette-Imeri fliegt innert einer Minute mit ...   \n",
       "1  In steilem Gelände – Ortsunkundiger Fahrer ver...   \n",
       "2  Stadtfest will auf Bargeld verzichten – und lö...   \n",
       "3  Mann kauft 91 Unfallautos, bezahlt sie nicht u...   \n",
       "4  «Ich würde nicht mehr zu viel Geld in neue Amp...   \n",
       "\n",
       "                                        title_detail  \\\n",
       "0  {'type': 'text/plain', 'language': None, 'base...   \n",
       "1  {'type': 'text/plain', 'language': None, 'base...   \n",
       "2  {'type': 'text/plain', 'language': None, 'base...   \n",
       "3  {'type': 'text/plain', 'language': None, 'base...   \n",
       "4  {'type': 'text/plain', 'language': None, 'base...   \n",
       "\n",
       "                                               links  \\\n",
       "0  [{'rel': 'alternate', 'type': 'text/html', 'hr...   \n",
       "1  [{'rel': 'alternate', 'type': 'text/html', 'hr...   \n",
       "2  [{'rel': 'alternate', 'type': 'text/html', 'hr...   \n",
       "3  [{'rel': 'alternate', 'type': 'text/html', 'hr...   \n",
       "4  [{'rel': 'alternate', 'type': 'text/html', 'hr...   \n",
       "\n",
       "                                link  \\\n",
       "0  https://www.20min.ch/811526744044   \n",
       "1  https://www.20min.ch/897536422260   \n",
       "2  https://www.20min.ch/402438287701   \n",
       "3  https://www.20min.ch/709927065041   \n",
       "4  https://www.20min.ch/139019297679   \n",
       "\n",
       "                                             summary  \\\n",
       "0  Der FC Luzern darf sich wieder Hoffnungen auf ...   \n",
       "1  Verbrechen, Unfälle und Fahndungen: Die neuest...   \n",
       "2  Das Stadtfest soll dieses Jahr bargeldlos stat...   \n",
       "3  Fast 100 Autos kaufte ein Mann und bezahlte si...   \n",
       "4  Die Leserinnen und Leser möchten die Luzerner ...   \n",
       "\n",
       "                                      summary_detail  \\\n",
       "0  {'type': 'text/html', 'language': None, 'base'...   \n",
       "1  {'type': 'text/html', 'language': None, 'base'...   \n",
       "2  {'type': 'text/html', 'language': None, 'base'...   \n",
       "3  {'type': 'text/html', 'language': None, 'base'...   \n",
       "4  {'type': 'text/html', 'language': None, 'base'...   \n",
       "\n",
       "                                                  id  guidislink  \\\n",
       "0  https://www.20min.ch/video/servette-imeri-flie...       False   \n",
       "1  https://www.20min.ch/story/polizei-deckt-gross...       False   \n",
       "2  https://www.20min.ch/story/stadtfest-will-auf-...       False   \n",
       "3  https://www.20min.ch/story/mann-kauft-91-unfal...       False   \n",
       "4  https://www.20min.ch/story/ich-wuerde-nicht-me...       False   \n",
       "\n",
       "                  published                     published_parsed  \n",
       "0 2022-05-08 17:31:24+00:00  (2022, 5, 8, 17, 31, 24, 6, 128, 0)  \n",
       "1 2022-05-08 10:17:25+00:00  (2022, 5, 8, 10, 17, 25, 6, 128, 0)  \n",
       "2 2022-05-07 16:22:44+00:00  (2022, 5, 7, 16, 22, 44, 5, 127, 0)  \n",
       "3 2022-05-06 02:46:56+00:00   (2022, 5, 6, 2, 46, 56, 4, 126, 0)  \n",
       "4 2022-05-05 18:39:26+00:00  (2022, 5, 5, 18, 39, 26, 3, 125, 0)  "
      ]
     },
     "execution_count": 40,
     "metadata": {},
     "output_type": "execute_result"
    }
   ],
   "source": [
    "# Compute temporary Pandas dataframe to further process beneath\n",
    "liverss_tmp_df = pd.DataFrame.from_dict(articles_to_keep, orient='columns')\n",
    "liverss_tmp_df['published'] = pd.to_datetime(liverss_tmp_df['published'])\n",
    "liverss_tmp_df.head()"
   ]
  },
  {
   "cell_type": "code",
   "execution_count": 76,
   "metadata": {},
   "outputs": [
    {
     "data": {
      "text/html": [
       "<div>\n",
       "<style scoped>\n",
       "    .dataframe tbody tr th:only-of-type {\n",
       "        vertical-align: middle;\n",
       "    }\n",
       "\n",
       "    .dataframe tbody tr th {\n",
       "        vertical-align: top;\n",
       "    }\n",
       "\n",
       "    .dataframe thead th {\n",
       "        text-align: right;\n",
       "    }\n",
       "</style>\n",
       "<table border=\"1\" class=\"dataframe\">\n",
       "  <thead>\n",
       "    <tr style=\"text-align: right;\">\n",
       "      <th></th>\n",
       "      <th>title</th>\n",
       "      <th>summary</th>\n",
       "      <th>link</th>\n",
       "      <th>id</th>\n",
       "      <th>published</th>\n",
       "      <th>published_parsed</th>\n",
       "    </tr>\n",
       "  </thead>\n",
       "  <tbody>\n",
       "    <tr>\n",
       "      <th>0</th>\n",
       "      <td>Servette-Imeri fliegt innert einer Minute mit ...</td>\n",
       "      <td>Der FC Luzern darf sich wieder Hoffnungen auf ...</td>\n",
       "      <td>https://www.20min.ch/811526744044</td>\n",
       "      <td>811526744044</td>\n",
       "      <td>2022-05-08 17:31:24+00:00</td>\n",
       "      <td>(2022, 5, 8, 17, 31, 24, 6, 128, 0)</td>\n",
       "    </tr>\n",
       "    <tr>\n",
       "      <th>1</th>\n",
       "      <td>In steilem Gelände – Ortsunkundiger Fahrer ver...</td>\n",
       "      <td>Verbrechen, Unfälle und Fahndungen: Die neuest...</td>\n",
       "      <td>https://www.20min.ch/897536422260</td>\n",
       "      <td>897536422260</td>\n",
       "      <td>2022-05-08 10:17:25+00:00</td>\n",
       "      <td>(2022, 5, 8, 10, 17, 25, 6, 128, 0)</td>\n",
       "    </tr>\n",
       "    <tr>\n",
       "      <th>2</th>\n",
       "      <td>Stadtfest will auf Bargeld verzichten – und lö...</td>\n",
       "      <td>Das Stadtfest soll dieses Jahr bargeldlos stat...</td>\n",
       "      <td>https://www.20min.ch/402438287701</td>\n",
       "      <td>402438287701</td>\n",
       "      <td>2022-05-07 16:22:44+00:00</td>\n",
       "      <td>(2022, 5, 7, 16, 22, 44, 5, 127, 0)</td>\n",
       "    </tr>\n",
       "    <tr>\n",
       "      <th>3</th>\n",
       "      <td>Mann kauft 91 Unfallautos, bezahlt sie nicht u...</td>\n",
       "      <td>Fast 100 Autos kaufte ein Mann und bezahlte si...</td>\n",
       "      <td>https://www.20min.ch/709927065041</td>\n",
       "      <td>709927065041</td>\n",
       "      <td>2022-05-06 02:46:56+00:00</td>\n",
       "      <td>(2022, 5, 6, 2, 46, 56, 4, 126, 0)</td>\n",
       "    </tr>\n",
       "    <tr>\n",
       "      <th>4</th>\n",
       "      <td>«Ich würde nicht mehr zu viel Geld in neue Amp...</td>\n",
       "      <td>Die Leserinnen und Leser möchten die Luzerner ...</td>\n",
       "      <td>https://www.20min.ch/139019297679</td>\n",
       "      <td>139019297679</td>\n",
       "      <td>2022-05-05 18:39:26+00:00</td>\n",
       "      <td>(2022, 5, 5, 18, 39, 26, 3, 125, 0)</td>\n",
       "    </tr>\n",
       "  </tbody>\n",
       "</table>\n",
       "</div>"
      ],
      "text/plain": [
       "                                               title  \\\n",
       "0  Servette-Imeri fliegt innert einer Minute mit ...   \n",
       "1  In steilem Gelände – Ortsunkundiger Fahrer ver...   \n",
       "2  Stadtfest will auf Bargeld verzichten – und lö...   \n",
       "3  Mann kauft 91 Unfallautos, bezahlt sie nicht u...   \n",
       "4  «Ich würde nicht mehr zu viel Geld in neue Amp...   \n",
       "\n",
       "                                             summary  \\\n",
       "0  Der FC Luzern darf sich wieder Hoffnungen auf ...   \n",
       "1  Verbrechen, Unfälle und Fahndungen: Die neuest...   \n",
       "2  Das Stadtfest soll dieses Jahr bargeldlos stat...   \n",
       "3  Fast 100 Autos kaufte ein Mann und bezahlte si...   \n",
       "4  Die Leserinnen und Leser möchten die Luzerner ...   \n",
       "\n",
       "                                link            id                 published  \\\n",
       "0  https://www.20min.ch/811526744044  811526744044 2022-05-08 17:31:24+00:00   \n",
       "1  https://www.20min.ch/897536422260  897536422260 2022-05-08 10:17:25+00:00   \n",
       "2  https://www.20min.ch/402438287701  402438287701 2022-05-07 16:22:44+00:00   \n",
       "3  https://www.20min.ch/709927065041  709927065041 2022-05-06 02:46:56+00:00   \n",
       "4  https://www.20min.ch/139019297679  139019297679 2022-05-05 18:39:26+00:00   \n",
       "\n",
       "                      published_parsed  \n",
       "0  (2022, 5, 8, 17, 31, 24, 6, 128, 0)  \n",
       "1  (2022, 5, 8, 10, 17, 25, 6, 128, 0)  \n",
       "2  (2022, 5, 7, 16, 22, 44, 5, 127, 0)  \n",
       "3   (2022, 5, 6, 2, 46, 56, 4, 126, 0)  \n",
       "4  (2022, 5, 5, 18, 39, 26, 3, 125, 0)  "
      ]
     },
     "execution_count": 76,
     "metadata": {},
     "output_type": "execute_result"
    }
   ],
   "source": [
    "# Cleaning created dataframe of 20min liverss_tmp_df\n",
    "liverss_df = pd.DataFrame()\n",
    "liverss_df['title'] = liverss_tmp_df['title']\n",
    "liverss_df['summary'] = liverss_tmp_df['summary']\n",
    "liverss_df['link'] = liverss_tmp_df['link']\n",
    "liverss_df['id'] = liverss_tmp_df['id'].str[-12:]\n",
    "liverss_df['published'] = liverss_tmp_df['published']\n",
    "liverss_df['published_parsed'] = liverss_tmp_df['published_parsed']\n",
    "liverss_df.head()\n"
   ]
  },
  {
   "cell_type": "code",
   "execution_count": 77,
   "metadata": {},
   "outputs": [],
   "source": [
    "# Saving generated data to raw data folder\n",
    "liverss_df.to_csv(r'~/Desktop/SocialMediaMonitor/data/raw/liverss_20Min.csv', index = False)"
   ]
  },
  {
   "cell_type": "code",
   "execution_count": null,
   "metadata": {},
   "outputs": [],
   "source": []
  }
 ],
 "metadata": {
  "interpreter": {
   "hash": "df9854f134824b4a9d20392ff48a74b409a03849d7d2c715aea2797dbd12afaf"
  },
  "kernelspec": {
   "display_name": "Python 3 (ipykernel)",
   "language": "python",
   "name": "python3"
  },
  "language_info": {
   "codemirror_mode": {
    "name": "ipython",
    "version": 3
   },
   "file_extension": ".py",
   "mimetype": "text/x-python",
   "name": "python",
   "nbconvert_exporter": "python",
   "pygments_lexer": "ipython3",
   "version": "3.10.4"
  }
 },
 "nbformat": 4,
 "nbformat_minor": 4
}
