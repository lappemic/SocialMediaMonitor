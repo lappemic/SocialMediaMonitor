{
 "cells": [
  {
   "cell_type": "markdown",
   "metadata": {},
   "source": [
    "Get the new articles of 20 minuten\n",
    "using their rss feed.\n",
    "Articles are considered as new if published after the last check date\n"
   ]
  },
  {
   "cell_type": "code",
   "execution_count": 8,
   "metadata": {},
   "outputs": [],
   "source": [
    "import pandas as pd\n",
    "import numpy as np\n",
    "import feedparser\n",
    "import datetime\n",
    "import pathlib\n",
    "\n",
    "# Importing the config file\n",
    "import sys\n",
    "sys.path.append('~/SocialMediaMonitor/src')\n",
    "import config"
   ]
  },
  {
   "cell_type": "code",
   "execution_count": 9,
   "metadata": {},
   "outputs": [
    {
     "name": "stdout",
     "output_type": "stream",
     "text": [
      "Articles in feed : 31\n"
     ]
    }
   ],
   "source": [
    "# Get feed\n",
    "url = 'https://partner-feeds.20min.ch/rss/20minuten/zentralschweiz'\n",
    "feed = feedparser.parse(url)\n",
    "print(f\"Articles in feed : {len(feed.entries)}\")"
   ]
  },
  {
   "cell_type": "code",
   "execution_count": 11,
   "metadata": {},
   "outputs": [
    {
     "data": {
      "text/plain": [
       "Timestamp('2022-05-04 02:54:29+0000', tz='UTC')"
      ]
     },
     "execution_count": 11,
     "metadata": {},
     "output_type": "execute_result"
    }
   ],
   "source": [
    "# Get last check date from global last_check_articles_20min\n",
    "liverss_and_coms_path = pathlib.Path.home() / 'SocialMediaMonitor' / 'data' / 'raw' / 'liverss_and_coms_20min.csv'\n",
    "liverss_and_coms_df = pd.read_csv(liverss_and_coms_path)\n",
    "last_check_articles_20min = pd.to_datetime(liverss_and_coms_df['published'].max())\n",
    "last_check_articles_20min"
   ]
  },
  {
   "cell_type": "code",
   "execution_count": 13,
   "metadata": {},
   "outputs": [
    {
     "name": "stdout",
     "output_type": "stream",
     "text": [
      "Entry date : 2022-05-05 06:05:52+00:00\n",
      "Entry date : 2022-05-05 02:45:44+00:00\n",
      "Entry date : 2022-05-04 02:54:29+00:00\n",
      "Entry date : 2022-05-03 08:42:14+00:00\n",
      "Entry date : 2022-05-02 19:48:46+00:00\n",
      "Entry date : 2022-05-02 17:45:54+00:00\n",
      "Entry date : 2022-05-02 03:06:41+00:00\n",
      "Entry date : 2022-05-01 19:31:14+00:00\n",
      "Entry date : 2022-05-01 18:10:51+00:00\n",
      "Entry date : 2022-04-30 21:38:16+00:00\n",
      "Entry date : 2022-04-30 17:15:48+00:00\n",
      "Entry date : 2022-04-30 12:40:03+00:00\n",
      "Entry date : 2022-04-29 10:53:35+00:00\n",
      "Entry date : 2022-04-29 07:19:46+00:00\n",
      "Entry date : 2022-04-28 13:45:36+00:00\n",
      "Entry date : 2022-04-28 12:22:17+00:00\n",
      "Entry date : 2022-04-28 10:07:44+00:00\n",
      "Entry date : 2022-04-28 06:02:40+00:00\n",
      "Entry date : 2022-04-27 21:49:44+00:00\n",
      "Entry date : 2022-04-27 05:45:47+00:00\n",
      "Entry date : 2022-04-27 02:46:01+00:00\n",
      "Entry date : 2022-04-26 12:56:41+00:00\n",
      "Entry date : 2022-04-26 02:22:41+00:00\n",
      "Entry date : 2022-04-25 12:05:36+00:00\n",
      "Entry date : 2022-04-24 17:43:39+00:00\n",
      "Entry date : 2022-04-24 13:08:10+00:00\n",
      "Entry date : 2022-04-23 21:31:18+00:00\n",
      "Entry date : 2022-04-22 14:07:43+00:00\n",
      "Entry date : 2022-04-22 11:49:53+00:00\n",
      "Entry date : 2022-04-22 09:33:46+00:00\n",
      "Entry date : 2022-04-22 02:42:43+00:00\n",
      "New articles in feed since last check : 2\n"
     ]
    }
   ],
   "source": [
    "# Computing the newly aquired articles -> not used up to now (04.05.2022)\n",
    "articles_to_keep = []\n",
    "for entry in feed.entries:\n",
    "    entry_date = pd.to_datetime(entry.published)\n",
    "    print(f\"Entry date : {entry_date}\")\n",
    "    if last_check_articles_20min < entry_date:\n",
    "        articles_to_keep.append(entry)\n",
    "print(f\"New articles in feed since last check : {len(articles_to_keep)}\")"
   ]
  },
  {
   "cell_type": "code",
   "execution_count": 16,
   "metadata": {},
   "outputs": [
    {
     "data": {
      "text/html": [
       "<div>\n",
       "<style scoped>\n",
       "    .dataframe tbody tr th:only-of-type {\n",
       "        vertical-align: middle;\n",
       "    }\n",
       "\n",
       "    .dataframe tbody tr th {\n",
       "        vertical-align: top;\n",
       "    }\n",
       "\n",
       "    .dataframe thead th {\n",
       "        text-align: right;\n",
       "    }\n",
       "</style>\n",
       "<table border=\"1\" class=\"dataframe\">\n",
       "  <thead>\n",
       "    <tr style=\"text-align: right;\">\n",
       "      <th></th>\n",
       "      <th>title</th>\n",
       "      <th>title_detail</th>\n",
       "      <th>links</th>\n",
       "      <th>link</th>\n",
       "      <th>summary</th>\n",
       "      <th>summary_detail</th>\n",
       "      <th>id</th>\n",
       "      <th>guidislink</th>\n",
       "      <th>published</th>\n",
       "      <th>published_parsed</th>\n",
       "    </tr>\n",
       "  </thead>\n",
       "  <tbody>\n",
       "    <tr>\n",
       "      <th>0</th>\n",
       "      <td>Autofahrer (66) stirbt bei Frontalkollision mi...</td>\n",
       "      <td>{'type': 'text/plain', 'language': None, 'base...</td>\n",
       "      <td>[{'rel': 'alternate', 'type': 'text/html', 'hr...</td>\n",
       "      <td>https://www.20min.ch/543508269314</td>\n",
       "      <td>Zwischen Sarmenstorf und Hilfikon ist ein Auto...</td>\n",
       "      <td>{'type': 'text/html', 'language': None, 'base'...</td>\n",
       "      <td>https://www.20min.ch/story/autofahrer-66-stirb...</td>\n",
       "      <td>False</td>\n",
       "      <td>2022-05-05 06:05:52+00:00</td>\n",
       "      <td>(2022, 5, 5, 6, 5, 52, 3, 125, 0)</td>\n",
       "    </tr>\n",
       "    <tr>\n",
       "      <th>1</th>\n",
       "      <td>«Jahrzehntelang hiess es, Kreisel seien die be...</td>\n",
       "      <td>{'type': 'text/plain', 'language': None, 'base...</td>\n",
       "      <td>[{'rel': 'alternate', 'type': 'text/html', 'hr...</td>\n",
       "      <td>https://www.20min.ch/270821781373</td>\n",
       "      <td>Die Strassen des Kantons Luzern sind zunehmend...</td>\n",
       "      <td>{'type': 'text/html', 'language': None, 'base'...</td>\n",
       "      <td>https://www.20min.ch/story/jahrzehntelang-hies...</td>\n",
       "      <td>False</td>\n",
       "      <td>2022-05-05 02:45:44+00:00</td>\n",
       "      <td>(2022, 5, 5, 2, 45, 44, 3, 125, 0)</td>\n",
       "    </tr>\n",
       "  </tbody>\n",
       "</table>\n",
       "</div>"
      ],
      "text/plain": [
       "                                               title  \\\n",
       "0  Autofahrer (66) stirbt bei Frontalkollision mi...   \n",
       "1  «Jahrzehntelang hiess es, Kreisel seien die be...   \n",
       "\n",
       "                                        title_detail  \\\n",
       "0  {'type': 'text/plain', 'language': None, 'base...   \n",
       "1  {'type': 'text/plain', 'language': None, 'base...   \n",
       "\n",
       "                                               links  \\\n",
       "0  [{'rel': 'alternate', 'type': 'text/html', 'hr...   \n",
       "1  [{'rel': 'alternate', 'type': 'text/html', 'hr...   \n",
       "\n",
       "                                link  \\\n",
       "0  https://www.20min.ch/543508269314   \n",
       "1  https://www.20min.ch/270821781373   \n",
       "\n",
       "                                             summary  \\\n",
       "0  Zwischen Sarmenstorf und Hilfikon ist ein Auto...   \n",
       "1  Die Strassen des Kantons Luzern sind zunehmend...   \n",
       "\n",
       "                                      summary_detail  \\\n",
       "0  {'type': 'text/html', 'language': None, 'base'...   \n",
       "1  {'type': 'text/html', 'language': None, 'base'...   \n",
       "\n",
       "                                                  id  guidislink  \\\n",
       "0  https://www.20min.ch/story/autofahrer-66-stirb...       False   \n",
       "1  https://www.20min.ch/story/jahrzehntelang-hies...       False   \n",
       "\n",
       "                  published                    published_parsed  \n",
       "0 2022-05-05 06:05:52+00:00   (2022, 5, 5, 6, 5, 52, 3, 125, 0)  \n",
       "1 2022-05-05 02:45:44+00:00  (2022, 5, 5, 2, 45, 44, 3, 125, 0)  "
      ]
     },
     "execution_count": 16,
     "metadata": {},
     "output_type": "execute_result"
    }
   ],
   "source": [
    "# Compute a Pandas dataframe to write into luzern-zeitung-initialdataset\n",
    "liverss_df = pd.DataFrame.from_dict(articles_to_keep, orient='columns')\n",
    "liverss_df['published'] = pd.to_datetime(liverss_df['published'])\n",
    "liverss_df.head()"
   ]
  },
  {
   "cell_type": "code",
   "execution_count": 17,
   "metadata": {},
   "outputs": [],
   "source": [
    "# Saving generated data to raw data folder\n",
    "liverss_df.to_csv(r'~/SocialMediaMonitor/data/raw/liverss_20Min.csv', index = False)"
   ]
  }
 ],
 "metadata": {
  "interpreter": {
   "hash": "df9854f134824b4a9d20392ff48a74b409a03849d7d2c715aea2797dbd12afaf"
  },
  "kernelspec": {
   "display_name": "Python 3.9.7 64-bit ('3.9.7')",
   "language": "python",
   "name": "python3"
  },
  "language_info": {
   "codemirror_mode": {
    "name": "ipython",
    "version": 3
   },
   "file_extension": ".py",
   "mimetype": "text/x-python",
   "name": "python",
   "nbconvert_exporter": "python",
   "pygments_lexer": "ipython3",
   "version": "3.9.11"
  },
  "orig_nbformat": 4
 },
 "nbformat": 4,
 "nbformat_minor": 2
}
