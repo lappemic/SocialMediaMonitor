{
 "cells": [
  {
   "cell_type": "code",
   "execution_count": 2,
   "metadata": {},
   "outputs": [],
   "source": [
    "import pandas as pd\n",
    "import numpy as np\n",
    "import csv\n",
    "import pathlib\n",
    "\n",
    "# Importing the config file\n",
    "# import sys\n",
    "# sys.path.append('~/Desktop/SocialMediaMonitor/src')\n",
    "# import config"
   ]
  },
  {
   "cell_type": "code",
   "execution_count": 5,
   "metadata": {},
   "outputs": [],
   "source": [
    "# Reading the newly aquired commentaries in the temporary csv\n",
    "liverss_comments_path = pathlib.Path.home() / 'Desktop' / 'SocialMediaMonitor' / 'data' / 'raw' / 'liverss_comments_20Min.csv'\n",
    "liverss_comments_csv = open(liverss_comments_path, 'r', newline = '')\n",
    "liverss_comments_obj = csv.reader(liverss_comments_csv)"
   ]
  },
  {
   "cell_type": "code",
   "execution_count": 6,
   "metadata": {},
   "outputs": [
    {
     "name": "stdout",
     "output_type": "stream",
     "text": [
      "           author                  published  \\\n",
      "0         Dieti44  2022-05-08 00:15:00+00:00   \n",
      "1    BlackSabbath  2022-05-08 00:10:00+00:00   \n",
      "2  Weihnachtshase  2022-05-07 23:10:00+00:00   \n",
      "3     St.Gallerli  2022-05-07 22:37:00+00:00   \n",
      "4      Scharrukin  2022-05-07 22:27:00+00:00   \n",
      "\n",
      "                                             summary is_com_or_sub  \\\n",
      "0  Offenbar soll der gläserne Bürger mit allen mö...           com   \n",
      "1  Denkt denn hier auch irgendjemand mal an die K...           com   \n",
      "2  Wer mein Bargeld nicht will, kann es bleiben l...           com   \n",
      "3                        Bravo, tolle Entscheidung!            com   \n",
      "4  Luzern ist schon lange eine Stadt die ich meid...           com   \n",
      "\n",
      "                                        link            id  \n",
      "0  https://www.20min.ch/comment/402438287701  4.024383e+11  \n",
      "1  https://www.20min.ch/comment/402438287701  4.024383e+11  \n",
      "2  https://www.20min.ch/comment/402438287701  4.024383e+11  \n",
      "3  https://www.20min.ch/comment/402438287701  4.024383e+11  \n",
      "4  https://www.20min.ch/comment/402438287701  4.024383e+11  \n",
      "451\n"
     ]
    }
   ],
   "source": [
    "liverss_comments_df = pd.read_csv(liverss_comments_path)\n",
    "print(liverss_comments_df.head())\n",
    "print(len(liverss_comments_df))"
   ]
  },
  {
   "cell_type": "code",
   "execution_count": 7,
   "metadata": {},
   "outputs": [],
   "source": [
    "\n",
    "# Reading the log csv of articles and coms file and write the new commentaries to it\n",
    "liverss_and_coms_path = pathlib.Path.home() / 'Desktop' / 'SocialMediaMonitor' / 'data' / 'raw' / 'liverss_and_coms_20min.csv'\n",
    "liverss_and_coms_csv = open(liverss_and_coms_path, 'a', newline = '')\n",
    "liverss_and_coms_obj = csv.writer(liverss_and_coms_csv)\n",
    "liverss_and_coms_obj.writerows(liverss_comments_obj)\n",
    "liverss_and_coms_csv.close()\n",
    "liverss_comments_csv.close()\n",
    "\n"
   ]
  },
  {
   "cell_type": "code",
   "execution_count": 8,
   "metadata": {},
   "outputs": [
    {
     "data": {
      "text/html": [
       "<div>\n",
       "<style scoped>\n",
       "    .dataframe tbody tr th:only-of-type {\n",
       "        vertical-align: middle;\n",
       "    }\n",
       "\n",
       "    .dataframe tbody tr th {\n",
       "        vertical-align: top;\n",
       "    }\n",
       "\n",
       "    .dataframe thead th {\n",
       "        text-align: right;\n",
       "    }\n",
       "</style>\n",
       "<table border=\"1\" class=\"dataframe\">\n",
       "  <thead>\n",
       "    <tr style=\"text-align: right;\">\n",
       "      <th></th>\n",
       "      <th>title</th>\n",
       "      <th>summary</th>\n",
       "      <th>author</th>\n",
       "      <th>is_com_or_sub</th>\n",
       "      <th>link</th>\n",
       "      <th>id</th>\n",
       "      <th>published</th>\n",
       "      <th>published_parsed</th>\n",
       "    </tr>\n",
       "  </thead>\n",
       "  <tbody>\n",
       "    <tr>\n",
       "      <th>450</th>\n",
       "      <td>Normaler_Mensch</td>\n",
       "      <td>2022-05-05 06:27:00+00:00</td>\n",
       "      <td>@Jackbart  Ein Kreisel hat erwiesenermassen we...</td>\n",
       "      <td>com</td>\n",
       "      <td>https://www.20min.ch/comment/270821781373</td>\n",
       "      <td>270821781373.0</td>\n",
       "      <td>NaN</td>\n",
       "      <td>NaN</td>\n",
       "    </tr>\n",
       "    <tr>\n",
       "      <th>451</th>\n",
       "      <td>Backe</td>\n",
       "      <td>2022-05-05 05:24:00+00:00</td>\n",
       "      <td>Bringt nur etwas, wenn man schön beim vorderen...</td>\n",
       "      <td>com</td>\n",
       "      <td>https://www.20min.ch/comment/270821781373</td>\n",
       "      <td>270821781373.0</td>\n",
       "      <td>NaN</td>\n",
       "      <td>NaN</td>\n",
       "    </tr>\n",
       "    <tr>\n",
       "      <th>452</th>\n",
       "      <td>Bill1967</td>\n",
       "      <td>2022-05-05 05:18:00+00:00</td>\n",
       "      <td>Die Problematik zeigt sich doch nur Mo-Fr morg...</td>\n",
       "      <td>com</td>\n",
       "      <td>https://www.20min.ch/comment/270821781373</td>\n",
       "      <td>270821781373.0</td>\n",
       "      <td>NaN</td>\n",
       "      <td>NaN</td>\n",
       "    </tr>\n",
       "    <tr>\n",
       "      <th>453</th>\n",
       "      <td>mikemet</td>\n",
       "      <td>2022-05-05 05:13:00+00:00</td>\n",
       "      <td>Kreisel sind ja schon gut. Leider können aber ...</td>\n",
       "      <td>com</td>\n",
       "      <td>https://www.20min.ch/comment/270821781373</td>\n",
       "      <td>270821781373.0</td>\n",
       "      <td>NaN</td>\n",
       "      <td>NaN</td>\n",
       "    </tr>\n",
       "    <tr>\n",
       "      <th>454</th>\n",
       "      <td>Opa01</td>\n",
       "      <td>2022-05-05 07:29:00+00:00</td>\n",
       "      <td>@mikemet \\nEinen Kreisel zu haben war halt mal...</td>\n",
       "      <td>com</td>\n",
       "      <td>https://www.20min.ch/comment/270821781373</td>\n",
       "      <td>270821781373.0</td>\n",
       "      <td>NaN</td>\n",
       "      <td>NaN</td>\n",
       "    </tr>\n",
       "  </tbody>\n",
       "</table>\n",
       "</div>"
      ],
      "text/plain": [
       "               title                    summary  \\\n",
       "450  Normaler_Mensch  2022-05-05 06:27:00+00:00   \n",
       "451            Backe  2022-05-05 05:24:00+00:00   \n",
       "452         Bill1967  2022-05-05 05:18:00+00:00   \n",
       "453          mikemet  2022-05-05 05:13:00+00:00   \n",
       "454            Opa01  2022-05-05 07:29:00+00:00   \n",
       "\n",
       "                                                author is_com_or_sub  \\\n",
       "450  @Jackbart  Ein Kreisel hat erwiesenermassen we...           com   \n",
       "451  Bringt nur etwas, wenn man schön beim vorderen...           com   \n",
       "452  Die Problematik zeigt sich doch nur Mo-Fr morg...           com   \n",
       "453  Kreisel sind ja schon gut. Leider können aber ...           com   \n",
       "454  @mikemet \\nEinen Kreisel zu haben war halt mal...           com   \n",
       "\n",
       "                                          link              id published  \\\n",
       "450  https://www.20min.ch/comment/270821781373  270821781373.0       NaN   \n",
       "451  https://www.20min.ch/comment/270821781373  270821781373.0       NaN   \n",
       "452  https://www.20min.ch/comment/270821781373  270821781373.0       NaN   \n",
       "453  https://www.20min.ch/comment/270821781373  270821781373.0       NaN   \n",
       "454  https://www.20min.ch/comment/270821781373  270821781373.0       NaN   \n",
       "\n",
       "    published_parsed  \n",
       "450              NaN  \n",
       "451              NaN  \n",
       "452              NaN  \n",
       "453              NaN  \n",
       "454              NaN  "
      ]
     },
     "execution_count": 8,
     "metadata": {},
     "output_type": "execute_result"
    }
   ],
   "source": [
    "liverss_and_coms_df = pd.read_csv(liverss_and_coms_path)\n",
    "liverss_and_coms_df.tail()"
   ]
  },
  {
   "cell_type": "code",
   "execution_count": null,
   "metadata": {},
   "outputs": [],
   "source": []
  }
 ],
 "metadata": {
  "interpreter": {
   "hash": "b7fa4ad54c13063743e0b795d31fc2de87e75f8ad2886ded3b88bc7649886d47"
  },
  "kernelspec": {
   "display_name": "Python 3.10.4 ('socialMediaMonitor')",
   "language": "python",
   "name": "python3"
  },
  "language_info": {
   "codemirror_mode": {
    "name": "ipython",
    "version": 3
   },
   "file_extension": ".py",
   "mimetype": "text/x-python",
   "name": "python",
   "nbconvert_exporter": "python",
   "pygments_lexer": "ipython3",
   "version": "3.10.4"
  },
  "orig_nbformat": 4
 },
 "nbformat": 4,
 "nbformat_minor": 2
}
