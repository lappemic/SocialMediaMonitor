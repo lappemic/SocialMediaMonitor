{
 "cells": [
  {
   "cell_type": "code",
   "execution_count": 64,
   "metadata": {},
   "outputs": [],
   "source": [
    "import pandas as pd\n",
    "import numpy as np\n",
    "import csv\n",
    "import pathlib\n",
    "\n",
    "# Importing the config file\n",
    "# import sys\n",
    "# sys.path.append('~/Desktop/SocialMediaMonitor/src')\n",
    "# import config"
   ]
  },
  {
   "cell_type": "markdown",
   "metadata": {},
   "source": [
    "Merging the newly aquired comments to the permanent liverss and coms csv"
   ]
  },
  {
   "cell_type": "code",
   "execution_count": 61,
   "metadata": {},
   "outputs": [],
   "source": [
    "# Getting the newly aquired comments and mergeing them with the existing comments on outer join\n",
    "liverss_comments_path = pathlib.Path.home() / 'Desktop' / 'SocialMediaMonitor' / 'data' / 'raw' / 'liverss_comments_20Min.csv'\n",
    "liverss_comments_df = pd.read_csv(liverss_comments_path)\n",
    "liverss_comments_df['id'] = liverss_comments_df['id'].astype(float)\n",
    "# print('liverss_comments_df:')\n",
    "# print(liverss_comments_df.dtypes)\n",
    "# print(liverss_comments_df.columns, '\\n', '----' * 10)\n",
    "\n",
    "liverss_and_coms_path = pathlib.Path.home() / 'Desktop' / 'SocialMediaMonitor' / 'data' / 'raw' / 'liverss_and_coms_20Min.csv'\n",
    "liverss_and_coms_df = pd.read_csv(liverss_and_coms_path)\n",
    "liverss_and_coms_df['id'] = liverss_and_coms_df['id'].astype(float)\n",
    "liverss_and_coms_df['author'] = liverss_and_coms_df['author'].astype(str)\n",
    "# print('liverss_and_coms_df:')\n",
    "# print(liverss_and_coms_df.dtypes)\n",
    "# print(liverss_and_coms_df.columns)"
   ]
  },
  {
   "cell_type": "code",
   "execution_count": 62,
   "metadata": {},
   "outputs": [
    {
     "name": "stdout",
     "output_type": "stream",
     "text": [
      "(454, 8)\n"
     ]
    }
   ],
   "source": [
    "liverss_and_coms_merged_df = pd.merge(liverss_comments_df, liverss_and_coms_df, how='outer',\n",
    "                                      on=['id', 'is_com_or_sub', 'link', 'summary', 'author', 'published'])\n",
    "print(liverss_and_coms_merged_df.shape)\n"
   ]
  },
  {
   "cell_type": "code",
   "execution_count": 63,
   "metadata": {},
   "outputs": [],
   "source": [
    "liverss_and_coms_merged_df.to_csv(liverss_and_coms_path, index=False)"
   ]
  },
  {
   "cell_type": "markdown",
   "metadata": {},
   "source": [
    "----\n",
    "Old approach with csv reader and writer"
   ]
  },
  {
   "cell_type": "code",
   "execution_count": 57,
   "metadata": {},
   "outputs": [],
   "source": [
    "# # Reading the newly aquired commentaries in the temporary csv\n",
    "# liverss_comments_path = pathlib.Path.home() / 'Desktop' / 'SocialMediaMonitor' / 'data' / 'raw' / 'liverss_comments_20Min.csv'\n",
    "# liverss_comments_csv = open(liverss_comments_path, 'r', newline = '')\n",
    "# liverss_comments_obj = csv.reader(liverss_comments_csv)"
   ]
  },
  {
   "cell_type": "code",
   "execution_count": 58,
   "metadata": {},
   "outputs": [],
   "source": [
    "# liverss_comments_df = pd.read_csv(liverss_comments_path)\n",
    "# print(liverss_comments_df.head())\n",
    "# print(len(liverss_comments_df))"
   ]
  },
  {
   "cell_type": "code",
   "execution_count": 59,
   "metadata": {},
   "outputs": [],
   "source": [
    "\n",
    "# # Reading the log csv of articles and coms file and write the new commentaries to it\n",
    "# liverss_and_coms_path = pathlib.Path.home() / 'Desktop' / 'SocialMediaMonitor' / 'data' / 'raw' / 'liverss_and_coms_20min.csv'\n",
    "# liverss_and_coms_csv = open(liverss_and_coms_path, 'a', newline = '')\n",
    "# liverss_and_coms_obj = csv.writer(liverss_and_coms_csv)\n",
    "# liverss_and_coms_obj.writerows(liverss_comments_obj)\n",
    "# liverss_and_coms_csv.close()\n",
    "# liverss_comments_csv.close()\n",
    "\n"
   ]
  },
  {
   "cell_type": "code",
   "execution_count": 60,
   "metadata": {},
   "outputs": [],
   "source": [
    "# liverss_and_coms_df = pd.read_csv(liverss_and_coms_path)\n",
    "# liverss_and_coms_df.tail()"
   ]
  }
 ],
 "metadata": {
  "interpreter": {
   "hash": "b7fa4ad54c13063743e0b795d31fc2de87e75f8ad2886ded3b88bc7649886d47"
  },
  "kernelspec": {
   "display_name": "Python 3.10.4 ('socialMediaMonitor')",
   "language": "python",
   "name": "python3"
  },
  "language_info": {
   "codemirror_mode": {
    "name": "ipython",
    "version": 3
   },
   "file_extension": ".py",
   "mimetype": "text/x-python",
   "name": "python",
   "nbconvert_exporter": "python",
   "pygments_lexer": "ipython3",
   "version": "3.10.4"
  },
  "orig_nbformat": 4
 },
 "nbformat": 4,
 "nbformat_minor": 2
}
