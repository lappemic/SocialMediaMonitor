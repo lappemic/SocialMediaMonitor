{
 "cells": [
  {
   "cell_type": "markdown",
   "metadata": {},
   "source": [
    "Up to now (05.05.2022) not further processed."
   ]
  },
  {
   "cell_type": "code",
   "execution_count": 77,
   "metadata": {},
   "outputs": [],
   "source": [
    "# -------------------------------------------------------------------------------- NOTEBOOK-CELL: CODE\n",
    "# -*- coding: utf-8 -*-\n",
    "import pandas as pd, numpy as np\n",
    "from selenium import webdriver\n",
    "from selenium.webdriver.common.keys import Keys\n",
    "from selenium.webdriver import ChromeOptions\n",
    "#from selenium.webdriver.support.ui import WebDriverWait\n",
    "import pathlib\n",
    "from datetime import timedelta\n",
    "import math\n",
    "import time"
   ]
  },
  {
   "cell_type": "code",
   "execution_count": 78,
   "metadata": {},
   "outputs": [],
   "source": [
    "# Configure the Chrome webdriver\n",
    "driver = webdriver.Chrome('/users/michaellappert/Downloads/chromedriver') # Needs to be adjusted client independently"
   ]
  },
  {
   "cell_type": "code",
   "execution_count": 79,
   "metadata": {},
   "outputs": [
    {
     "name": "stdout",
     "output_type": "stream",
     "text": [
      "8\n"
     ]
    }
   ],
   "source": [
    "# get the date of the moste recent article in the merged dataset\n",
    "liverss_and_coms_path = pathlib.Path.home() / 'SocialMediaMonitor' / 'data' / 'raw' / 'liverss_and_coms_20min.csv'\n",
    "liverss_and_coms_df = pd.read_csv(liverss_and_coms_path)\n",
    "liverss_and_coms_df['published'] = pd.to_datetime(liverss_and_coms_df['published'])\n",
    "most_recent_article = liverss_and_coms_df['published'].max()\n",
    "\n",
    "# get the ids of the articles that are less than 15 days old\n",
    "recent_date = pd.to_datetime(most_recent_article-timedelta(15), utc=True)\n",
    "mask = (liverss_and_coms_df['published'] > recent_date) # & (total_df['is_com_or_sub'] == 'sub')\n",
    "recent_articles = liverss_and_coms_df.loc[mask]\n",
    "recent_articles_id = recent_articles['id'].tolist()\n",
    "#print(recent_articles_id[:3])\n",
    "print(len(recent_articles_id))"
   ]
  },
  {
   "cell_type": "code",
   "execution_count": 84,
   "metadata": {},
   "outputs": [
    {
     "name": "stdout",
     "output_type": "stream",
     "text": [
      "811526744044\n",
      "https://www.20min.ch/comment/811526744044\n",
      "[]\n",
      "897536422260\n",
      "https://www.20min.ch/comment/897536422260\n",
      "[]\n",
      "402438287701\n",
      "https://www.20min.ch/comment/402438287701\n",
      "['Dieti44', 'BlackSabbath', 'Weihnachtshase', 'St.Gallerli', 'Scharrukin', 'SCHAUKELN', 'Euer_Hochwohlgeboren', 'CCZA', 'Hoko67', 'Rychie']\n",
      "709927065041\n",
      "https://www.20min.ch/comment/709927065041\n",
      "[]\n",
      "139019297679\n",
      "https://www.20min.ch/comment/139019297679\n",
      "['DerKaaan', 'DerRealist', 'Basilgarrad', 'JohannLauber', 'Fussballfan1974', 'FM1969FM', 'Denkversuch', 'Denkversuch', 'Bananenbrot53', 'EinwohnerCH']\n",
      "126013815341\n",
      "https://www.20min.ch/comment/126013815341\n",
      "[]\n",
      "543508269314\n",
      "https://www.20min.ch/comment/543508269314\n",
      "[]\n",
      "270821781373\n",
      "https://www.20min.ch/comment/270821781373\n",
      "['Haubi3', 'DinoBag', 'Denkanstoss', 'OrwellWarEinOptimist', 'HOSCHY68', 'armer-Leuchter', 'möögg', 'webbly', 'Winu 1', 'Tom - Bern']\n"
     ]
    }
   ],
   "source": [
    "# get the commenents of those articles\n",
    "new_coms_df = pd.DataFrame(columns = ['author', 'published', 'summary', 'is_com_or_sub', 'link'])\n",
    "\n",
    "for article in recent_articles_id:\n",
    "    print(article)\n",
    "    url = 'https://www.20min.ch/comment/'\n",
    "    comments_url = url + str(article)\n",
    "    print(comments_url)\n",
    "    driver.get(comments_url)\n",
    "    \n",
    "    # scroll to load entire page (uses lazy loading)\n",
    "    check_height = driver.execute_script('return document.body.scrollHeight;')\n",
    "    while True:\n",
    "        driver.execute_script(\"window.scrollTo(0, document.body.scrollHeight);\")\n",
    "        time.sleep(5)\n",
    "        height = driver.execute_script(\"return document.body.scrollHeight;\") \n",
    "        if height == check_height: \n",
    "            break \n",
    "        check_height = height\n",
    "    \n",
    "    # get authors\n",
    "    authors = driver.find_elements_by_class_name('CommentCard_authorNickname__booTY')\n",
    "    # print(authors)\n",
    "    author_list = [author.get_attribute('innerHTML') for author in authors]\n",
    "    print(author_list)\n",
    "\n",
    "    # # get publication dates\n",
    "    # published_date = driver.find_elements_by_class_name('CommentCard_createdAt__1ilEx')\n",
    "    # date_list = [pd.to_datetime(date.get_attribute('innerHTML'), format = '%d.%m.%Y %H:%M', utc = True) for date in published_date]\n",
    "    # print(len(date_list))\n",
    "    # print(date_list)"
   ]
  }
 ],
 "metadata": {
  "interpreter": {
   "hash": "c76eb199b8e1fb9fa01facb4084fceb7f49eeb0e37fb232cc5bedee7779b1e8a"
  },
  "kernelspec": {
   "display_name": "Python 3.8.8 ('base')",
   "language": "python",
   "name": "python3"
  },
  "language_info": {
   "codemirror_mode": {
    "name": "ipython",
    "version": 3
   },
   "file_extension": ".py",
   "mimetype": "text/x-python",
   "name": "python",
   "nbconvert_exporter": "python",
   "pygments_lexer": "ipython3",
   "version": "3.10.4"
  },
  "orig_nbformat": 4
 },
 "nbformat": 4,
 "nbformat_minor": 2
}
