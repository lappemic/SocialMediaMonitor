{
 "cells": [
  {
   "cell_type": "markdown",
   "metadata": {},
   "source": [
    "Up to now (05.05.2022) not further processed."
   ]
  },
  {
   "cell_type": "code",
   "execution_count": 1,
   "metadata": {},
   "outputs": [],
   "source": [
    "# -------------------------------------------------------------------------------- NOTEBOOK-CELL: CODE\n",
    "# -*- coding: utf-8 -*-\n",
    "# import dataiku\n",
    "import pandas as pd, numpy as np\n",
    "# from dataiku import pandasutils as pdu\n",
    "from selenium import webdriver\n",
    "from selenium.webdriver.common.keys import Keys\n",
    "from selenium.webdriver import FirefoxOptions\n",
    "from selenium.webdriver.support.ui import WebDriverWait\n",
    "from datetime import timedelta\n",
    "import math\n",
    "import time"
   ]
  },
  {
   "cell_type": "code",
   "execution_count": null,
   "metadata": {},
   "outputs": [],
   "source": [
    "\"\"\"\n",
    "Get the commentaries of each new articles.\n",
    "\"\"\"\n",
    "\n",
    "# Read recipe inputs\n",
    "total = dataiku.Dataset(\"20min_subs_totals\")\n",
    "total_df = total.get_dataframe()\n",
    "\n",
    "# -------------------------------------------------------------------------------- NOTEBOOK-CELL: CODE\n",
    "# Configure webdriver\n",
    "opts = FirefoxOptions()\n",
    "opts.add_argument(\"--headless\")\n",
    "driver = webdriver.Firefox(options=opts)\n",
    "driver.implicitly_wait(4)\n",
    "\n",
    "#get the date of the most recent article\n",
    "total_df = total_df.sort_values(by='published')\n",
    "most_recent_article = total_df.iloc[-1]['published']\n",
    "\n",
    "#get the ids of the articles that are less than 15 days old\n",
    "recent_date = pd.to_datetime(most_recent_article-timedelta(15), utc=True)\n",
    "mask = (total_df['published'] > recent_date) & (total_df['is_com_or_sub'] == 'sub')\n",
    "recent_articles = total_df.loc[mask]\n",
    "articles_ids = recent_articles.id.to_list()\n",
    "\n",
    "last_com_check = dataiku.get_custom_variables()[\"20min_last_check_coms\"]\n",
    "last_com_check = pd.to_datetime(last_com_check, format='%Y-%m-%d %H:%M:%S+00:00', utc=True)\n"
   ]
  },
  {
   "cell_type": "code",
   "execution_count": null,
   "metadata": {},
   "outputs": [],
   "source": [
    "new_coms = pd.DataFrame(columns=['author', 'published', 'summary', 'id', 'is_com_or_sub', 'link'])\n",
    "# get the commentaries on those articles\n",
    "for article_id in articles_ids:\n",
    "    url = \"https://www.20min.ch/comment/\"\n",
    "    comments_url = url + str(article_id)\n",
    "    driver.get(comments_url)\n",
    "\n",
    "    # scroll to load entire page (because it uses lazy loading)\n",
    "    check_height = driver.execute_script(\"return document.body.scrollHeight;\") \n",
    "    while True:\n",
    "        driver.execute_script(\"window.scrollTo(0, document.body.scrollHeight);\")\n",
    "        time.sleep(5)\n",
    "        height = driver.execute_script(\"return document.body.scrollHeight;\") \n",
    "        if height == check_height: \n",
    "            break \n",
    "        check_height = height\n",
    "\n",
    "    # get authors\n",
    "    authors = driver.find_elements_by_class_name(\"CommentCard_authorNickname__Bpo6l\")\n",
    "    author_list = [author.get_attribute('innerHTML') for author in authors]\n",
    "    # get publication dates\n",
    "    published_date = driver.find_elements_by_class_name(\"CommentCard_createdAt__1ilEx\")\n",
    "    date_list = [pd.to_datetime(date.get_attribute('innerHTML'), format='%d.%m.%Y, %H:%M', utc=True) for date in published_date]\n",
    "    print(len(date_list))\n",
    "    print(date_list)\n",
    "    # get text bodys\n",
    "    bodys = driver.find_elements_by_class_name(\"CommentCard_body__1f7-z\")\n",
    "    body_list = [body.get_attribute('innerHTML') for body in bodys]\n",
    "\n",
    "    # assesrt to make sure that we have all the data for every com\n",
    "    # may fail if the webdriver didn't wait for the page to load\n",
    "    assert len(body_list) == len(date_list) == len(author_list), \"Assertion problem, probably due to page parsing before page is fully loaded\"\n",
    "\n",
    "    temp_df = pd.DataFrame(list(zip(author_list, date_list, body_list)), columns =['author', 'published', 'summary'])\n",
    "    temp_df['id'] = article_id\n",
    "    temp_df['is_com_or_sub'] = 'com'\n",
    "    temp_df['link'] = comments_url\n",
    "    temp_df = temp_df[temp_df['published'] > last_com_check]\n",
    "    print(f'Article {comments_url} has {len(temp_df)} comments')\n",
    "    if len(temp_df) >0:\n",
    "        new_coms = new_coms.append(temp_df, ignore_index=True)\n",
    "\n",
    "driver.quit()"
   ]
  },
  {
   "cell_type": "code",
   "execution_count": null,
   "metadata": {},
   "outputs": [],
   "source": [
    "# -------------------------------------------------------------------------------- NOTEBOOK-CELL: CODE\n",
    "if len(new_coms) > 0:\n",
    "    new_last_check_coms = new_coms['published'].max()\n",
    "    project_handle = dataiku.api_client().get_project(dataiku.default_project_key())\n",
    "    variables = project_handle.get_variables()\n",
    "    variables['standard']['20min_last_check_coms'] = str(new_last_check_coms)\n",
    "    project_handle.set_variables(variables)"
   ]
  },
  {
   "cell_type": "code",
   "execution_count": null,
   "metadata": {},
   "outputs": [],
   "source": [
    "# -------------------------------------------------------------------------------- NOTEBOOK-CELL: CODE\n",
    "liverss_comments_df = new_coms # For this sample code, simply copy input to output\n"
   ]
  },
  {
   "cell_type": "code",
   "execution_count": null,
   "metadata": {},
   "outputs": [],
   "source": [
    "# Write recipe outputs\n",
    "liverss_comments = dataiku.Dataset(\"20min_liverss_comments\")\n",
    "liverss_comments.write_with_schema(liverss_comments_df)"
   ]
  },
  {
   "cell_type": "code",
   "execution_count": null,
   "metadata": {},
   "outputs": [],
   "source": []
  }
 ],
 "metadata": {
  "interpreter": {
   "hash": "c76eb199b8e1fb9fa01facb4084fceb7f49eeb0e37fb232cc5bedee7779b1e8a"
  },
  "kernelspec": {
   "display_name": "Python 3.8.8 ('base')",
   "language": "python",
   "name": "python3"
  },
  "language_info": {
   "codemirror_mode": {
    "name": "ipython",
    "version": 3
   },
   "file_extension": ".py",
   "mimetype": "text/x-python",
   "name": "python",
   "nbconvert_exporter": "python",
   "pygments_lexer": "ipython3",
   "version": "3.8.8"
  },
  "orig_nbformat": 4
 },
 "nbformat": 4,
 "nbformat_minor": 2
}
