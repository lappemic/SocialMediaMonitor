{
 "cells": [
  {
   "cell_type": "markdown",
   "metadata": {},
   "source": [
    "Up to now (05.05.2022) not further processed."
   ]
  },
  {
   "cell_type": "code",
   "execution_count": 26,
   "metadata": {},
   "outputs": [],
   "source": [
    "# -------------------------------------------------------------------------------- NOTEBOOK-CELL: CODE\n",
    "# -*- coding: utf-8 -*-\n",
    "import pandas as pd, numpy as np\n",
    "from selenium import webdriver\n",
    "from selenium.webdriver.common.keys import Keys\n",
    "from selenium.webdriver import ChromeOptions\n",
    "from selenium.webdriver.support.ui import WebDriverWait\n",
    "import pathlib\n",
    "from datetime import timedelta\n",
    "import math\n",
    "import time"
   ]
  },
  {
   "cell_type": "code",
   "execution_count": 27,
   "metadata": {},
   "outputs": [],
   "source": [
    "# Configure the Chrome webdriver\n",
    "driver = webdriver.Chrome('/users/michaellappert/Downloads/chromedriver') # Needs to be adjusted client independently"
   ]
  },
  {
   "cell_type": "code",
   "execution_count": 54,
   "metadata": {},
   "outputs": [
    {
     "name": "stdout",
     "output_type": "stream",
     "text": [
      "['https://www.20min.ch/video/servette-imeri-fliegt-innert-einer-minute-mit-gleb-rot-vom-platz-811526744044', 'https://www.20min.ch/story/polizei-deckt-grosse-cannabis-plantage-auf-897536422260', 'https://www.20min.ch/story/stadtfest-will-auf-bargeld-verzichten-und-loest-eine-welle-der-empoerung-aus-402438287701']\n",
      "8\n"
     ]
    }
   ],
   "source": [
    "# get the date of the moste recent article in the merged dataset\n",
    "liverss_and_coms_path = pathlib.Path.home() / 'SocialMediaMonitor' / 'data' / 'raw' / 'liverss_and_coms_20min.csv'\n",
    "liverss_and_coms_df = pd.read_csv(liverss_and_coms_path)\n",
    "liverss_and_coms_df['published'] = pd.to_datetime(liverss_and_coms_df['published'])\n",
    "most_recent_article = liverss_and_coms_df['published'].max()\n",
    "\n",
    "# get the ids of the articles that are less than 15 days old\n",
    "recent_date = pd.to_datetime(most_recent_article-timedelta(15), utc=True)\n",
    "mask = (liverss_and_coms_df['published'] > recent_date) # & (total_df['is_com_or_sub'] == 'sub')\n",
    "recent_articles = liverss_and_coms_df.loc[mask]\n",
    "recent_articles_id = recent_articles['id'].tolist()\n",
    "print(recent_articles_id[:3])\n",
    "print(len(recent_articles_id))"
   ]
  },
  {
   "cell_type": "code",
   "execution_count": 55,
   "metadata": {},
   "outputs": [
    {
     "name": "stdout",
     "output_type": "stream",
     "text": [
      "https://www.20min.ch/video/servette-imeri-fliegt-innert-einer-minute-mit-gleb-rot-vom-platz-811526744044\n",
      "https://www.20min.ch/comment/https://www.20min.ch/video/servette-imeri-fliegt-innert-einer-minute-mit-gleb-rot-vom-platz-811526744044\n"
     ]
    }
   ],
   "source": [
    "# get the commenents of those articles\n",
    "new_coms_df = pd.DataFrame(columns = ['author', 'published', 'summary', 'is_com_or_sub', 'link'])\n",
    "\n",
    "for article in recent_articles_id:\n",
    "    print(article)\n",
    "    url = 'https://www.20min.ch/comment/'\n",
    "    comments_url = url + str(article)\n",
    "    print(comments_url)\n",
    "    driver.get(comments_url)\n",
    "    \n",
    "    # scroll to load entire page (uses lazy loading)\n",
    "    check_height = driver.execute_script('return document.body.scrollHeight;')\n",
    "    time.sleep(5)\n",
    "    height = driver.execute_script('return document.body.scrollHeight;')\n",
    "    if height == check_height:\n",
    "        break\n",
    "    check_height = height\n",
    "    \n",
    "# get authors\n",
    "# authors = driver.find_elements_by_class_name('CommentCard_authorNickname_Bp06l')\n",
    "# print(authors)\n",
    "# author_list = [author.get_attribute('innerHTML') for author in authors]\n",
    "\n",
    "# # get publication dates\n",
    "# published_date = driver.find_elements_by_class_name('CommentCard_createdAt__1ilEx')\n",
    "# date_list = [pd.to_datetime(date.get_attribute('innerHTML'), format = '%d.%m.%Y %H:%M', utc = True) for date in published_date]\n",
    "# print(len(date_list))\n",
    "# print(date_list)"
   ]
  },
  {
   "cell_type": "code",
   "execution_count": 44,
   "metadata": {},
   "outputs": [
    {
     "ename": "NameError",
     "evalue": "name 'articles_ids' is not defined",
     "output_type": "error",
     "traceback": [
      "\u001b[0;31m---------------------------------------------------------------------------\u001b[0m",
      "\u001b[0;31mNameError\u001b[0m                                 Traceback (most recent call last)",
      "\u001b[1;32m/Users/michaellappert/Desktop/SocialMediaMonitor/notebooks/20min/compute_20min_liverss_comments_m.ipynb Cell 8'\u001b[0m in \u001b[0;36m<cell line: 3>\u001b[0;34m()\u001b[0m\n\u001b[1;32m      <a href='vscode-notebook-cell:/Users/michaellappert/Desktop/SocialMediaMonitor/notebooks/20min/compute_20min_liverss_comments_m.ipynb#ch0000003?line=0'>1</a>\u001b[0m new_coms \u001b[39m=\u001b[39m pd\u001b[39m.\u001b[39mDataFrame(columns\u001b[39m=\u001b[39m[\u001b[39m'\u001b[39m\u001b[39mauthor\u001b[39m\u001b[39m'\u001b[39m, \u001b[39m'\u001b[39m\u001b[39mpublished\u001b[39m\u001b[39m'\u001b[39m, \u001b[39m'\u001b[39m\u001b[39msummary\u001b[39m\u001b[39m'\u001b[39m, \u001b[39m'\u001b[39m\u001b[39mid\u001b[39m\u001b[39m'\u001b[39m, \u001b[39m'\u001b[39m\u001b[39mis_com_or_sub\u001b[39m\u001b[39m'\u001b[39m, \u001b[39m'\u001b[39m\u001b[39mlink\u001b[39m\u001b[39m'\u001b[39m])\n\u001b[1;32m      <a href='vscode-notebook-cell:/Users/michaellappert/Desktop/SocialMediaMonitor/notebooks/20min/compute_20min_liverss_comments_m.ipynb#ch0000003?line=1'>2</a>\u001b[0m \u001b[39m# get the commentaries on those articles\u001b[39;00m\n\u001b[0;32m----> <a href='vscode-notebook-cell:/Users/michaellappert/Desktop/SocialMediaMonitor/notebooks/20min/compute_20min_liverss_comments_m.ipynb#ch0000003?line=2'>3</a>\u001b[0m \u001b[39mfor\u001b[39;00m article_id \u001b[39min\u001b[39;00m articles_ids:\n\u001b[1;32m      <a href='vscode-notebook-cell:/Users/michaellappert/Desktop/SocialMediaMonitor/notebooks/20min/compute_20min_liverss_comments_m.ipynb#ch0000003?line=3'>4</a>\u001b[0m     url \u001b[39m=\u001b[39m \u001b[39m\"\u001b[39m\u001b[39mhttps://www.20min.ch/comment/\u001b[39m\u001b[39m\"\u001b[39m\n\u001b[1;32m      <a href='vscode-notebook-cell:/Users/michaellappert/Desktop/SocialMediaMonitor/notebooks/20min/compute_20min_liverss_comments_m.ipynb#ch0000003?line=4'>5</a>\u001b[0m     comments_url \u001b[39m=\u001b[39m url \u001b[39m+\u001b[39m \u001b[39mstr\u001b[39m(article_id)\n",
      "\u001b[0;31mNameError\u001b[0m: name 'articles_ids' is not defined"
     ]
    }
   ],
   "source": [
    "new_coms = pd.DataFrame(columns=['author', 'published', 'summary', 'id', 'is_com_or_sub', 'link'])\n",
    "# get the commentaries on those articles\n",
    "for article_id in articles_ids:\n",
    "    url = \"https://www.20min.ch/comment/\"\n",
    "    comments_url = url + str(article_id)\n",
    "    driver.get(comments_url)\n",
    "\n",
    "    # scroll to load entire page (because it uses lazy loading)\n",
    "    check_height = driver.execute_script(\"return document.body.scrollHeight;\") \n",
    "    while True:\n",
    "        driver.execute_script(\"window.scrollTo(0, document.body.scrollHeight);\")\n",
    "        time.sleep(5)\n",
    "        height = driver.execute_script(\"return document.body.scrollHeight;\") \n",
    "        if height == check_height: \n",
    "            break \n",
    "        check_height = height\n",
    "\n",
    "    # get authors\n",
    "    authors = driver.find_elements_by_class_name(\"CommentCard_authorNickname__Bpo6l\")\n",
    "    author_list = [author.get_attribute('innerHTML') for author in authors]\n",
    "    # get publication dates\n",
    "    published_date = driver.find_elements_by_class_name(\"CommentCard_createdAt__1ilEx\")\n",
    "    date_list = [pd.to_datetime(date.get_attribute('innerHTML'), format='%d.%m.%Y, %H:%M', utc=True) for date in published_date]\n",
    "    print(len(date_list))\n",
    "    print(date_list)\n",
    "    # get text bodys\n",
    "    bodys = driver.find_elements_by_class_name(\"CommentCard_body__1f7-z\")\n",
    "    body_list = [body.get_attribute('innerHTML') for body in bodys]\n",
    "\n",
    "    # assesrt to make sure that we have all the data for every com\n",
    "    # may fail if the webdriver didn't wait for the page to load\n",
    "    assert len(body_list) == len(date_list) == len(author_list), \"Assertion problem, probably due to page parsing before page is fully loaded\"\n",
    "\n",
    "    temp_df = pd.DataFrame(list(zip(author_list, date_list, body_list)), columns =['author', 'published', 'summary'])\n",
    "    temp_df['id'] = article_id\n",
    "    temp_df['is_com_or_sub'] = 'com'\n",
    "    temp_df['link'] = comments_url\n",
    "    temp_df = temp_df[temp_df['published'] > last_com_check]\n",
    "    print(f'Article {comments_url} has {len(temp_df)} comments')\n",
    "    if len(temp_df) >0:\n",
    "        new_coms = new_coms.append(temp_df, ignore_index=True)\n",
    "\n",
    "driver.quit()"
   ]
  },
  {
   "cell_type": "code",
   "execution_count": null,
   "metadata": {},
   "outputs": [],
   "source": [
    "# -------------------------------------------------------------------------------- NOTEBOOK-CELL: CODE\n",
    "if len(new_coms) > 0:\n",
    "    new_last_check_coms = new_coms['published'].max()\n",
    "    project_handle = dataiku.api_client().get_project(dataiku.default_project_key())\n",
    "    variables = project_handle.get_variables()\n",
    "    variables['standard']['20min_last_check_coms'] = str(new_last_check_coms)\n",
    "    project_handle.set_variables(variables)"
   ]
  },
  {
   "cell_type": "code",
   "execution_count": null,
   "metadata": {},
   "outputs": [],
   "source": [
    "# -------------------------------------------------------------------------------- NOTEBOOK-CELL: CODE\n",
    "liverss_comments_df = new_coms # For this sample code, simply copy input to output\n"
   ]
  },
  {
   "cell_type": "code",
   "execution_count": null,
   "metadata": {},
   "outputs": [],
   "source": [
    "# Write recipe outputs\n",
    "liverss_comments = dataiku.Dataset(\"20min_liverss_comments\")\n",
    "liverss_comments.write_with_schema(liverss_comments_df)"
   ]
  },
  {
   "cell_type": "code",
   "execution_count": null,
   "metadata": {},
   "outputs": [],
   "source": []
  }
 ],
 "metadata": {
  "interpreter": {
   "hash": "c76eb199b8e1fb9fa01facb4084fceb7f49eeb0e37fb232cc5bedee7779b1e8a"
  },
  "kernelspec": {
   "display_name": "Python 3.8.8 ('base')",
   "language": "python",
   "name": "python3"
  },
  "language_info": {
   "codemirror_mode": {
    "name": "ipython",
    "version": 3
   },
   "file_extension": ".py",
   "mimetype": "text/x-python",
   "name": "python",
   "nbconvert_exporter": "python",
   "pygments_lexer": "ipython3",
   "version": "3.10.4"
  },
  "orig_nbformat": 4
 },
 "nbformat": 4,
 "nbformat_minor": 2
}
